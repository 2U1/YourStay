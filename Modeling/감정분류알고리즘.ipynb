{
  "nbformat": 4,
  "nbformat_minor": 0,
  "metadata": {
    "colab": {
      "name": "감정분류알고리즘.ipynb",
      "provenance": [],
      "collapsed_sections": []
    },
    "kernelspec": {
      "name": "python3",
      "display_name": "Python 3"
    },
    "language_info": {
      "name": "python"
    },
    "accelerator": "GPU"
  },
  "cells": [
    {
      "cell_type": "code",
      "metadata": {
        "id": "1RD98zyDW70W"
      },
      "source": [
        "import pandas as pd\n",
        "import sys"
      ],
      "execution_count": null,
      "outputs": []
    },
    {
      "cell_type": "markdown",
      "metadata": {
        "id": "-JZNn1JVFH0z"
      },
      "source": [
        "# 성능 평가표\n",
        "\n",
        "1.   logistic regression(k-fold X)(CountVectorizer사용)\n",
        "     \n",
        "    acc: 0.88619(test비율 0.3)\n",
        "\n",
        "    acc: 0.88598(test비율 0.2)\n",
        "\n",
        "2. logistic regression(k-fold X)(TfidfVectorizer사용)\n",
        "\n",
        "    acc: 0.8962682(test비율 0.3)\n",
        "    \n",
        "    acc: 0.89626(test비율 0.2)(label 2를 분류하는데 좀 더 좋다.)(label 2가 f1-score:0.19)\n",
        "\n",
        "=> k-fold 안 할시, TfidfVectorizer(test비율 0.2)가 좋다.\n",
        "\n",
        "--------------------------------------------\n",
        "\n",
        "3.   logistic regression(k-fold)(CountVectorizer사용)\n",
        "\n",
        "     acc: 0.885629(test비율 0.3)\n",
        "\n",
        "     acc: 0.88417(test비율 0.2)\n",
        "\n",
        "4.  logistic regrssion(k-fold)(TfidfVecotrizer사용)\n",
        "\n",
        "    acc: 0.8851408535848144(test비율 0.2)\n",
        "\n",
        "    acc: 0.8838558878052712(test비율 0.3)\n",
        "\n",
        "---------------------------------------------\n",
        "\n",
        "5. Bi-lstm(keras embedding)\n",
        "\n",
        "   acc: 0.8667633901583848\n",
        "\n",
        "6. Bi-lstm(keras.embedding)+k-fold\n",
        "\n",
        "   acc: 0.8954177245798574(label 2가 f1-score:0.23로 가장 좋은듯)\n",
        "\n",
        "--------------------------------------------\n",
        "\n",
        "7. Bert Tokenizer&Embedding + Bi-lstm\n",
        "\n",
        "  acc: 0.8557610929754564\n",
        "\n",
        "---------------------------------------------\n",
        "이제부터 label 0과 1 사용\n",
        "\n",
        "7. Bi-lstm(keras embedding) - k-fold 추가(불균형 맞추기)\n",
        "\n",
        "  acc: 0.9296004008518101(f1 score: 0.81, 0.96)(onesideselection)\n",
        "\n",
        "  acc: 0.76(SMOTHEENN)\n",
        "\n",
        "8. 1D-CNN(keras embedding) + k-fold(불균형 조정)\n",
        "\n",
        "  acc: 0.9359889765752224(f1 score: 0.82, 0.96)\n",
        "\n",
        "  (roc_curve: 0.8790103584959378)"
      ]
    },
    {
      "cell_type": "code",
      "metadata": {
        "id": "AFiOwnMKawuX"
      },
      "source": [
        "import pandas as pd\n",
        "labeldf=pd.DataFrame(columns=['label','sentence'])"
      ],
      "execution_count": null,
      "outputs": []
    },
    {
      "cell_type": "code",
      "metadata": {
        "colab": {
          "base_uri": "https://localhost:8080/",
          "height": 405
        },
        "id": "iBN_Yplj-RhD",
        "outputId": "7ba9355e-96fa-4da7-98b0-0dd371bc8754"
      },
      "source": [
        "dff=pd.read_excel(\"/content/spell_labeling.xlsx\")\n",
        "dff"
      ],
      "execution_count": null,
      "outputs": [
        {
          "output_type": "execute_result",
          "data": {
            "text/html": [
              "<div>\n",
              "<style scoped>\n",
              "    .dataframe tbody tr th:only-of-type {\n",
              "        vertical-align: middle;\n",
              "    }\n",
              "\n",
              "    .dataframe tbody tr th {\n",
              "        vertical-align: top;\n",
              "    }\n",
              "\n",
              "    .dataframe thead th {\n",
              "        text-align: right;\n",
              "    }\n",
              "</style>\n",
              "<table border=\"1\" class=\"dataframe\">\n",
              "  <thead>\n",
              "    <tr style=\"text-align: right;\">\n",
              "      <th></th>\n",
              "      <th>Unnamed: 0</th>\n",
              "      <th>Unnamed: 0.1</th>\n",
              "      <th>Unnamed: 0.1.1</th>\n",
              "      <th>label</th>\n",
              "      <th>sentence</th>\n",
              "    </tr>\n",
              "  </thead>\n",
              "  <tbody>\n",
              "    <tr>\n",
              "      <th>0</th>\n",
              "      <td>0</td>\n",
              "      <td>0</td>\n",
              "      <td>0</td>\n",
              "      <td>0</td>\n",
              "      <td>창문 구조 자체가 방음이 잘되지 않고 찬바람이 들어오는 것 같아요.</td>\n",
              "    </tr>\n",
              "    <tr>\n",
              "      <th>1</th>\n",
              "      <td>1</td>\n",
              "      <td>1</td>\n",
              "      <td>1</td>\n",
              "      <td>0</td>\n",
              "      <td>지금 새벽 네시가 다 되어 가는데 밖에 경찰차 소리가 엄청나게 크게 들리네요?.</td>\n",
              "    </tr>\n",
              "    <tr>\n",
              "      <th>2</th>\n",
              "      <td>2</td>\n",
              "      <td>2</td>\n",
              "      <td>2</td>\n",
              "      <td>0</td>\n",
              "      <td>난방도 기능은 존재하는데 되는지를 모르겠네요.</td>\n",
              "    </tr>\n",
              "    <tr>\n",
              "      <th>3</th>\n",
              "      <td>3</td>\n",
              "      <td>3</td>\n",
              "      <td>3</td>\n",
              "      <td>0</td>\n",
              "      <td>별로 춥지 않아서 컴플레인은 걸지 않았지만 겨울철 되면 문제가 커질 것 같고요.</td>\n",
              "    </tr>\n",
              "    <tr>\n",
              "      <th>4</th>\n",
              "      <td>4</td>\n",
              "      <td>4</td>\n",
              "      <td>4</td>\n",
              "      <td>0</td>\n",
              "      <td>그리고 화장실 문이 심하게 덜 렁 꺼리고 콘센트가 거의 없어서 매우 불편했습니다.</td>\n",
              "    </tr>\n",
              "    <tr>\n",
              "      <th>...</th>\n",
              "      <td>...</td>\n",
              "      <td>...</td>\n",
              "      <td>...</td>\n",
              "      <td>...</td>\n",
              "      <td>...</td>\n",
              "    </tr>\n",
              "    <tr>\n",
              "      <th>41350</th>\n",
              "      <td>41350</td>\n",
              "      <td>41350</td>\n",
              "      <td>41350</td>\n",
              "      <td>1</td>\n",
              "      <td>젛았습니다습니다</td>\n",
              "    </tr>\n",
              "    <tr>\n",
              "      <th>41351</th>\n",
              "      <td>41351</td>\n",
              "      <td>41351</td>\n",
              "      <td>41351</td>\n",
              "      <td>1</td>\n",
              "      <td>즇앗씁니다!니다!</td>\n",
              "    </tr>\n",
              "    <tr>\n",
              "      <th>41352</th>\n",
              "      <td>41352</td>\n",
              "      <td>41352</td>\n",
              "      <td>41352</td>\n",
              "      <td>1</td>\n",
              "      <td>좋ㅉㅗㅎ 앗습니다</td>\n",
              "    </tr>\n",
              "    <tr>\n",
              "      <th>41353</th>\n",
              "      <td>41353</td>\n",
              "      <td>41353</td>\n",
              "      <td>41353</td>\n",
              "      <td>1</td>\n",
              "      <td>펺습니다습니다</td>\n",
              "    </tr>\n",
              "    <tr>\n",
              "      <th>41354</th>\n",
              "      <td>41354</td>\n",
              "      <td>41354</td>\n",
              "      <td>41354</td>\n",
              "      <td>1</td>\n",
              "      <td>헿.보일러도일러도 틀었더니 더울 정따뜻. 영등포에등포에 또 오게 되면 당연 여기로 ...</td>\n",
              "    </tr>\n",
              "  </tbody>\n",
              "</table>\n",
              "<p>41355 rows × 5 columns</p>\n",
              "</div>"
            ],
            "text/plain": [
              "       Unnamed: 0  ...                                           sentence\n",
              "0               0  ...              창문 구조 자체가 방음이 잘되지 않고 찬바람이 들어오는 것 같아요.\n",
              "1               1  ...       지금 새벽 네시가 다 되어 가는데 밖에 경찰차 소리가 엄청나게 크게 들리네요?.\n",
              "2               2  ...                          난방도 기능은 존재하는데 되는지를 모르겠네요.\n",
              "3               3  ...       별로 춥지 않아서 컴플레인은 걸지 않았지만 겨울철 되면 문제가 커질 것 같고요.\n",
              "4               4  ...      그리고 화장실 문이 심하게 덜 렁 꺼리고 콘센트가 거의 없어서 매우 불편했습니다.\n",
              "...           ...  ...                                                ...\n",
              "41350       41350  ...                                           젛았습니다습니다\n",
              "41351       41351  ...                                          즇앗씁니다!니다!\n",
              "41352       41352  ...                                          좋ㅉㅗㅎ 앗습니다\n",
              "41353       41353  ...                                            펺습니다습니다\n",
              "41354       41354  ...  헿.보일러도일러도 틀었더니 더울 정따뜻. 영등포에등포에 또 오게 되면 당연 여기로 ...\n",
              "\n",
              "[41355 rows x 5 columns]"
            ]
          },
          "metadata": {
            "tags": []
          },
          "execution_count": 4
        }
      ]
    },
    {
      "cell_type": "code",
      "metadata": {
        "id": "7r0URGi0gSsc"
      },
      "source": [
        "labeldf['label']=dff['label']\n",
        "labeldf['sentence']=dff['sentence']"
      ],
      "execution_count": null,
      "outputs": []
    },
    {
      "cell_type": "code",
      "metadata": {
        "id": "eJCSFSgch8kY"
      },
      "source": [
        "labeldf.loc[11224,'label']=1\n",
        "labeldf.loc[12739,'label']=1"
      ],
      "execution_count": null,
      "outputs": []
    },
    {
      "cell_type": "markdown",
      "metadata": {
        "id": "K-x3efVf6cpW"
      },
      "source": [
        "# 1. TF-IDF 후에, logistic regression 사용"
      ]
    },
    {
      "cell_type": "code",
      "metadata": {
        "id": "3V7J6070nbFJ"
      },
      "source": [
        "import re\n",
        "labeldf['sentence'] = labeldf['sentence'].str.replace('<br />',' ')\n",
        "\n",
        "labeldf['sentence']=labeldf['sentence'].apply(lambda x : re.sub('[^a-zA-Zㄱ-ㅎ|ㅏ-ㅣ|가-힣]',' ',str(x)))"
      ],
      "execution_count": null,
      "outputs": []
    },
    {
      "cell_type": "code",
      "metadata": {
        "colab": {
          "base_uri": "https://localhost:8080/",
          "height": 405
        },
        "id": "LE3ppkiiNtf1",
        "outputId": "607a2259-d2ea-4d58-a7a1-0c17fd35d528"
      },
      "source": [
        "labeldf=labeldf[labeldf.label !=2 ]\n",
        "labeldf=labeldf.reset_index()\n",
        "labeldf"
      ],
      "execution_count": null,
      "outputs": [
        {
          "output_type": "execute_result",
          "data": {
            "text/html": [
              "<div>\n",
              "<style scoped>\n",
              "    .dataframe tbody tr th:only-of-type {\n",
              "        vertical-align: middle;\n",
              "    }\n",
              "\n",
              "    .dataframe tbody tr th {\n",
              "        vertical-align: top;\n",
              "    }\n",
              "\n",
              "    .dataframe thead th {\n",
              "        text-align: right;\n",
              "    }\n",
              "</style>\n",
              "<table border=\"1\" class=\"dataframe\">\n",
              "  <thead>\n",
              "    <tr style=\"text-align: right;\">\n",
              "      <th></th>\n",
              "      <th>index</th>\n",
              "      <th>label</th>\n",
              "      <th>sentence</th>\n",
              "    </tr>\n",
              "  </thead>\n",
              "  <tbody>\n",
              "    <tr>\n",
              "      <th>0</th>\n",
              "      <td>0</td>\n",
              "      <td>0</td>\n",
              "      <td>창문 구조 자체가 방음이 잘되지 않고 찬바람이 들어오는 것 같아요</td>\n",
              "    </tr>\n",
              "    <tr>\n",
              "      <th>1</th>\n",
              "      <td>1</td>\n",
              "      <td>0</td>\n",
              "      <td>지금 새벽 네시가 다 되어 가는데 밖에 경찰차 소리가 엄청나게 크게 들리네요</td>\n",
              "    </tr>\n",
              "    <tr>\n",
              "      <th>2</th>\n",
              "      <td>2</td>\n",
              "      <td>0</td>\n",
              "      <td>난방도 기능은 존재하는데 되는지를 모르겠네요</td>\n",
              "    </tr>\n",
              "    <tr>\n",
              "      <th>3</th>\n",
              "      <td>3</td>\n",
              "      <td>0</td>\n",
              "      <td>별로 춥지 않아서 컴플레인은 걸지 않았지만 겨울철 되면 문제가 커질 것 같고요</td>\n",
              "    </tr>\n",
              "    <tr>\n",
              "      <th>4</th>\n",
              "      <td>4</td>\n",
              "      <td>0</td>\n",
              "      <td>그리고 화장실 문이 심하게 덜 렁 꺼리고 콘센트가 거의 없어서 매우 불편했습니다</td>\n",
              "    </tr>\n",
              "    <tr>\n",
              "      <th>...</th>\n",
              "      <td>...</td>\n",
              "      <td>...</td>\n",
              "      <td>...</td>\n",
              "    </tr>\n",
              "    <tr>\n",
              "      <th>39909</th>\n",
              "      <td>41350</td>\n",
              "      <td>1</td>\n",
              "      <td>젛았습니다습니다</td>\n",
              "    </tr>\n",
              "    <tr>\n",
              "      <th>39910</th>\n",
              "      <td>41351</td>\n",
              "      <td>1</td>\n",
              "      <td>즇앗씁니다 니다</td>\n",
              "    </tr>\n",
              "    <tr>\n",
              "      <th>39911</th>\n",
              "      <td>41352</td>\n",
              "      <td>1</td>\n",
              "      <td>좋ㅉㅗㅎ 앗습니다</td>\n",
              "    </tr>\n",
              "    <tr>\n",
              "      <th>39912</th>\n",
              "      <td>41353</td>\n",
              "      <td>1</td>\n",
              "      <td>펺습니다습니다</td>\n",
              "    </tr>\n",
              "    <tr>\n",
              "      <th>39913</th>\n",
              "      <td>41354</td>\n",
              "      <td>1</td>\n",
              "      <td>헿 보일러도일러도 틀었더니 더울 정따뜻  영등포에등포에 또 오게 되면 당연 여기로 ...</td>\n",
              "    </tr>\n",
              "  </tbody>\n",
              "</table>\n",
              "<p>39914 rows × 3 columns</p>\n",
              "</div>"
            ],
            "text/plain": [
              "       index  label                                           sentence\n",
              "0          0      0              창문 구조 자체가 방음이 잘되지 않고 찬바람이 들어오는 것 같아요 \n",
              "1          1      0       지금 새벽 네시가 다 되어 가는데 밖에 경찰차 소리가 엄청나게 크게 들리네요  \n",
              "2          2      0                          난방도 기능은 존재하는데 되는지를 모르겠네요 \n",
              "3          3      0       별로 춥지 않아서 컴플레인은 걸지 않았지만 겨울철 되면 문제가 커질 것 같고요 \n",
              "4          4      0      그리고 화장실 문이 심하게 덜 렁 꺼리고 콘센트가 거의 없어서 매우 불편했습니다 \n",
              "...      ...    ...                                                ...\n",
              "39909  41350      1                                           젛았습니다습니다\n",
              "39910  41351      1                                          즇앗씁니다 니다 \n",
              "39911  41352      1                                          좋ㅉㅗㅎ 앗습니다\n",
              "39912  41353      1                                            펺습니다습니다\n",
              "39913  41354      1  헿 보일러도일러도 틀었더니 더울 정따뜻  영등포에등포에 또 오게 되면 당연 여기로 ...\n",
              "\n",
              "[39914 rows x 3 columns]"
            ]
          },
          "metadata": {
            "tags": []
          },
          "execution_count": 8
        }
      ]
    },
    {
      "cell_type": "code",
      "metadata": {
        "id": "jXIea5e7q1lC"
      },
      "source": [
        "target=labeldf['label']\n",
        "feature=labeldf['sentence']"
      ],
      "execution_count": null,
      "outputs": []
    },
    {
      "cell_type": "code",
      "metadata": {
        "id": "UUKBQ9etq7sL"
      },
      "source": [
        "from sklearn.model_selection import train_test_split\n",
        "X_train, X_test, y_train, y_test = train_test_split(feature,\n",
        "                                                   target,\n",
        "                                                   test_size=0.2,\n",
        "                                                   random_state=42)"
      ],
      "execution_count": null,
      "outputs": []
    },
    {
      "cell_type": "code",
      "metadata": {
        "id": "4Dpp9XEZrMki"
      },
      "source": [
        "r = open('/content/한국어불용어100.txt', mode='rt', encoding='utf-8')\n",
        "stopwords=[]\n",
        "z=r.readlines()\n",
        "for i in range(len(z)):\n",
        "  stopwords.append(z[i].split('\\t')[0])"
      ],
      "execution_count": null,
      "outputs": []
    },
    {
      "cell_type": "code",
      "metadata": {
        "id": "H3AEIOcqrB2D"
      },
      "source": [
        "from sklearn.pipeline import Pipeline\n",
        "from sklearn.feature_extraction.text import CountVectorizer\n",
        "from sklearn.feature_extraction.text import TfidfVectorizer\n",
        "from sklearn.linear_model import LogisticRegression\n",
        "\n",
        "\n",
        "pipeline = Pipeline([('cnt_vect',TfidfVectorizer(stop_words=stopwords,\n",
        "                                               ngram_range=(1,2))),\n",
        "                    ('lr_clf', LogisticRegression(C=10))])"
      ],
      "execution_count": null,
      "outputs": []
    },
    {
      "cell_type": "code",
      "metadata": {
        "colab": {
          "base_uri": "https://localhost:8080/"
        },
        "id": "DYcVhh9wuT9m",
        "outputId": "01c4015b-0d0c-477e-8059-ae101ec89f85"
      },
      "source": [
        "## 위에서 설정해준 Pipleline으로 데이터 학습시킬 때는 벡터화시키기 전의 원본 데이터\n",
        "\n",
        "pipeline.fit(X_train, y_train)\n",
        "y_pred = pipeline.predict(X_test)"
      ],
      "execution_count": null,
      "outputs": [
        {
          "output_type": "stream",
          "text": [
            "/usr/local/lib/python3.7/dist-packages/sklearn/linear_model/_logistic.py:940: ConvergenceWarning: lbfgs failed to converge (status=1):\n",
            "STOP: TOTAL NO. of ITERATIONS REACHED LIMIT.\n",
            "\n",
            "Increase the number of iterations (max_iter) or scale the data as shown in:\n",
            "    https://scikit-learn.org/stable/modules/preprocessing.html\n",
            "Please also refer to the documentation for alternative solver options:\n",
            "    https://scikit-learn.org/stable/modules/linear_model.html#logistic-regression\n",
            "  extra_warning_msg=_LOGISTIC_SOLVER_CONVERGENCE_MSG)\n"
          ],
          "name": "stderr"
        }
      ]
    },
    {
      "cell_type": "code",
      "metadata": {
        "colab": {
          "base_uri": "https://localhost:8080/"
        },
        "id": "UtF5kHuZ-e2e",
        "outputId": "3dd4a59b-13e9-4750-d9ec-2cb8d0258d00"
      },
      "source": [
        "y_pred.shape"
      ],
      "execution_count": null,
      "outputs": [
        {
          "output_type": "execute_result",
          "data": {
            "text/plain": [
              "(7983,)"
            ]
          },
          "metadata": {
            "tags": []
          },
          "execution_count": 14
        }
      ]
    },
    {
      "cell_type": "code",
      "metadata": {
        "id": "ez3_qt0liaPG"
      },
      "source": [
        "from sklearn.metrics import accuracy_score, roc_auc_score, roc_curve\n",
        "# '1' label로 예측될 확률 추출 for roc_auc_score\n",
        "y_pred_proba = pipeline.predict_proba(X_test)\n",
        "\n",
        "acc = accuracy_score(y_test, y_pred)\n",
        "#auc = roc_auc_score(y_test, y_pred_proba,average='macro', sample_weight=None)"
      ],
      "execution_count": null,
      "outputs": []
    },
    {
      "cell_type": "code",
      "metadata": {
        "colab": {
          "base_uri": "https://localhost:8080/"
        },
        "id": "KAYW19awiAEL",
        "outputId": "11ccbc62-64cb-4f98-e476-3a2390dab2e2"
      },
      "source": [
        "print(acc)\n",
        "y_pred_proba[0][0]"
      ],
      "execution_count": null,
      "outputs": [
        {
          "output_type": "stream",
          "text": [
            "0.9324815232368784\n"
          ],
          "name": "stdout"
        },
        {
          "output_type": "execute_result",
          "data": {
            "text/plain": [
              "0.7894405639120945"
            ]
          },
          "metadata": {
            "tags": []
          },
          "execution_count": 16
        }
      ]
    },
    {
      "cell_type": "code",
      "metadata": {
        "id": "y3fLVlD75TAE"
      },
      "source": [
        "y_pred_proba1=[]\n",
        "for i in range(len(y_pred_proba)):\n",
        "  if y_pred_proba[i][0]>y_pred_proba[i][1]:\n",
        "    y_pred_proba1.append(0)\n",
        "  elif y_pred_proba[i][1]>y_pred_proba[i][0]:\n",
        "    y_pred_proba1.append(1)"
      ],
      "execution_count": null,
      "outputs": []
    },
    {
      "cell_type": "code",
      "metadata": {
        "id": "YmCHEqLRA-QK"
      },
      "source": [
        "if 3 in y_test:\n",
        "  print(\"yes\")"
      ],
      "execution_count": null,
      "outputs": []
    },
    {
      "cell_type": "code",
      "metadata": {
        "colab": {
          "base_uri": "https://localhost:8080/"
        },
        "id": "gPgx0hUoDSrb",
        "outputId": "5759550e-e215-4e1c-8c98-6e6bef165387"
      },
      "source": [
        "y_test.unique()"
      ],
      "execution_count": null,
      "outputs": [
        {
          "output_type": "execute_result",
          "data": {
            "text/plain": [
              "array([1, 0])"
            ]
          },
          "metadata": {
            "tags": []
          },
          "execution_count": 20
        }
      ]
    },
    {
      "cell_type": "code",
      "metadata": {
        "colab": {
          "base_uri": "https://localhost:8080/"
        },
        "id": "maPSWU3h_cQ1",
        "outputId": "8327e77d-253e-4df6-8535-403599a06d1a"
      },
      "source": [
        "from sklearn.metrics import confusion_matrix\n",
        "from sklearn.metrics import classification_report\n",
        "\n",
        "print(confusion_matrix(y_test, y_pred_proba1))\n",
        "print(classification_report(y_test, y_pred_proba1, target_names=['0', '1']))"
      ],
      "execution_count": null,
      "outputs": [
        {
          "output_type": "stream",
          "text": [
            "[[1168  305]\n",
            " [ 234 6276]]\n",
            "              precision    recall  f1-score   support\n",
            "\n",
            "           0       0.83      0.79      0.81      1473\n",
            "           1       0.95      0.96      0.96      6510\n",
            "\n",
            "    accuracy                           0.93      7983\n",
            "   macro avg       0.89      0.88      0.89      7983\n",
            "weighted avg       0.93      0.93      0.93      7983\n",
            "\n"
          ],
          "name": "stdout"
        }
      ]
    },
    {
      "cell_type": "code",
      "metadata": {
        "colab": {
          "base_uri": "https://localhost:8080/"
        },
        "id": "0FCc6gwb_ptG",
        "outputId": "45ab4895-42f7-4d0a-c8f6-cdaf4276a6b5"
      },
      "source": [
        "y_pred_proba"
      ],
      "execution_count": null,
      "outputs": [
        {
          "output_type": "execute_result",
          "data": {
            "text/plain": [
              "array([[1.80845232e-03, 9.83091166e-01, 1.51003821e-02],\n",
              "       [2.51541299e-03, 9.19706232e-01, 7.77783549e-02],\n",
              "       [3.13871865e-01, 5.99378444e-01, 8.67496908e-02],\n",
              "       ...,\n",
              "       [2.41965361e-02, 3.67430053e-01, 6.08373411e-01],\n",
              "       [6.03523601e-04, 9.99165433e-01, 2.31043141e-04],\n",
              "       [1.75118333e-03, 9.95785961e-01, 2.46285550e-03]])"
            ]
          },
          "metadata": {
            "tags": []
          },
          "execution_count": 519
        }
      ]
    },
    {
      "cell_type": "markdown",
      "metadata": {
        "id": "T4rGotOnZutm"
      },
      "source": [
        "# 2. logstic regression + K-fold"
      ]
    },
    {
      "cell_type": "code",
      "metadata": {
        "id": "lHSGCnNMkwGy"
      },
      "source": [
        "import pandas as pd\n",
        "dff=pd.read_excel(\"/content/spell_labeling.xlsx\")"
      ],
      "execution_count": null,
      "outputs": []
    },
    {
      "cell_type": "code",
      "metadata": {
        "colab": {
          "base_uri": "https://localhost:8080/"
        },
        "id": "vwt5fJLqH0Xa",
        "outputId": "bf7e5ea7-521c-4fb9-85c5-61cb8aa39894"
      },
      "source": [
        "print(dff.loc[dff['label']==0].count())\n",
        "print(dff.loc[dff['label']==1].count())\n",
        "print(dff.loc[dff['label']==2].count())\n",
        "#심각한 데이터 편차"
      ],
      "execution_count": null,
      "outputs": [
        {
          "output_type": "stream",
          "text": [
            "Unnamed: 0        7575\n",
            "Unnamed: 0.1      7575\n",
            "Unnamed: 0.1.1    7575\n",
            "label             7575\n",
            "sentence          7575\n",
            "dtype: int64\n",
            "Unnamed: 0        32337\n",
            "Unnamed: 0.1      32337\n",
            "Unnamed: 0.1.1    32337\n",
            "label             32337\n",
            "sentence          32337\n",
            "dtype: int64\n",
            "Unnamed: 0        1441\n",
            "Unnamed: 0.1      1441\n",
            "Unnamed: 0.1.1    1441\n",
            "label             1441\n",
            "sentence          1441\n",
            "dtype: int64\n"
          ],
          "name": "stdout"
        }
      ]
    },
    {
      "cell_type": "code",
      "metadata": {
        "id": "DqIDxxQTk6Gn"
      },
      "source": [
        "labeldf=pd.DataFrame(columns=['label','sentence'])\n",
        "labeldf['label']=dff['label']\n",
        "labeldf['sentence']=dff['sentence']"
      ],
      "execution_count": null,
      "outputs": []
    },
    {
      "cell_type": "code",
      "metadata": {
        "id": "KQesAPCplC4A"
      },
      "source": [
        "labeldf.loc[11224,'label']=1\n",
        "labeldf.loc[12739,'label']=1"
      ],
      "execution_count": null,
      "outputs": []
    },
    {
      "cell_type": "code",
      "metadata": {
        "id": "jf6krfNAlMQ-"
      },
      "source": [
        "import re\n",
        "labeldf['sentence'] = labeldf['sentence'].str.replace('<br />',' ')\n",
        "\n",
        "labeldf['sentence']=labeldf['sentence'].apply(lambda x : re.sub('[^a-zA-Zㄱ-ㅎ|ㅏ-ㅣ|가-힣]',' ',str(x)))"
      ],
      "execution_count": null,
      "outputs": []
    },
    {
      "cell_type": "code",
      "metadata": {
        "id": "cv81rk1ylMRA"
      },
      "source": [
        "target=labeldf['label']\n",
        "feature=labeldf['sentence']"
      ],
      "execution_count": null,
      "outputs": []
    },
    {
      "cell_type": "markdown",
      "metadata": {
        "id": "VdRcNakLqMFA"
      },
      "source": [
        "**불용어 처리**"
      ]
    },
    {
      "cell_type": "code",
      "metadata": {
        "id": "2fKTYLq5qRYK"
      },
      "source": [
        "r = open('/content/한국어불용어100.txt', mode='rt', encoding='utf-8')\n",
        "stopwords=[]\n",
        "z=r.readlines()\n",
        "for i in range(len(z)):\n",
        "  stopwords.append(z[i].split('\\t')[0])"
      ],
      "execution_count": null,
      "outputs": []
    },
    {
      "cell_type": "code",
      "metadata": {
        "id": "GSZuxTerqOJO"
      },
      "source": [
        "def remove_stopwords(text):\n",
        "    final_text = []\n",
        "    for i in text.split():\n",
        "        if i.strip() not in stopwords:\n",
        "            final_text.append(i.strip())\n",
        "    return \" \".join(final_text)"
      ],
      "execution_count": null,
      "outputs": []
    },
    {
      "cell_type": "code",
      "metadata": {
        "id": "64on-v5xrRYh"
      },
      "source": [
        "feature = feature.apply(remove_stopwords)\n",
        "X_train=feature.values\n",
        "y_train=labeldf['label'].values"
      ],
      "execution_count": null,
      "outputs": []
    },
    {
      "cell_type": "code",
      "metadata": {
        "id": "tBSCnZZJlOYI"
      },
      "source": [
        "from sklearn.feature_extraction.text import CountVectorizer\n",
        "from sklearn.feature_extraction.text import TfidfVectorizer\n",
        "\n",
        "transformer = TfidfVectorizer(ngram_range=(1,2))\n",
        "X_train=transformer.fit_transform(X_train)"
      ],
      "execution_count": null,
      "outputs": []
    },
    {
      "cell_type": "code",
      "metadata": {
        "colab": {
          "base_uri": "https://localhost:8080/"
        },
        "id": "3K0d4A5OwIoJ",
        "outputId": "4d0c4724-cacd-496f-ec29-26fce0dc7178"
      },
      "source": [
        "print(X_train.shape)"
      ],
      "execution_count": null,
      "outputs": [
        {
          "output_type": "stream",
          "text": [
            "(41355, 124511)\n"
          ],
          "name": "stdout"
        }
      ]
    },
    {
      "cell_type": "code",
      "metadata": {
        "id": "4LC_cdc6wIxk"
      },
      "source": [
        "from sklearn.linear_model import LogisticRegression\n",
        "lr_clf = LogisticRegression(C=10)"
      ],
      "execution_count": null,
      "outputs": []
    },
    {
      "cell_type": "code",
      "metadata": {
        "id": "ULpGq4UmC_5c"
      },
      "source": [
        "from sklearn.model_selection import train_test_split\n",
        "X_train, X_test, y_train, y_test = train_test_split(X_train,\n",
        "                                                   y_train,\n",
        "                                                   test_size=0.3,\n",
        "                                                   random_state=42)"
      ],
      "execution_count": null,
      "outputs": []
    },
    {
      "cell_type": "code",
      "metadata": {
        "id": "LCPFmZXhxVR-"
      },
      "source": [
        "#교차검증을 해보자!\n",
        "import numpy as np\n",
        "from sklearn.model_selection import StratifiedKFold\n",
        "cross_validation = StratifiedKFold(n_splits=5, shuffle=True, random_state=42)"
      ],
      "execution_count": null,
      "outputs": []
    },
    {
      "cell_type": "code",
      "metadata": {
        "colab": {
          "base_uri": "https://localhost:8080/"
        },
        "id": "iQN9AXAB8TEE",
        "outputId": "6011c1e4-9b50-4e90-830d-d90434af40c5"
      },
      "source": [
        "p_validation = np.zeros((X_train.shape[0],))\n",
        "p_validation.shape"
      ],
      "execution_count": null,
      "outputs": [
        {
          "output_type": "execute_result",
          "data": {
            "text/plain": [
              "(28948,)"
            ]
          },
          "metadata": {
            "tags": []
          },
          "execution_count": 554
        }
      ]
    },
    {
      "cell_type": "code",
      "metadata": {
        "colab": {
          "base_uri": "https://localhost:8080/"
        },
        "id": "1qy1arhp3WuQ",
        "outputId": "99a19eb7-766a-4194-de62-69f4fd3d9653"
      },
      "source": [
        "from tensorflow.keras.callbacks import EarlyStopping, ReduceLROnPlateau\n",
        "from tensorflow.keras.utils import plot_model, to_categorical\n",
        "\n",
        "p_validation = np.zeros((X_train.shape[0],))\n",
        "p_test = np.zeros((X_test.shape[0],3))\n",
        "for i, (i_train, i_validation) in enumerate(cross_validation.split(X_train, y_train), 1):\n",
        "    \n",
        "    print(f'\\n training model for 교차검증 # {i}번째 \\n')\n",
        "\n",
        "    print(f'학습인덱스 : {i_train} | 학습데이터에 사용되는 데이터 : {len(i_train)}')\n",
        "    print(f'검증인덱스 : {i_validation} | 검증에 사용하는 데이터 : {len(i_validation)}\\n')\n",
        "    print('-' * 90)\n",
        "    \n",
        "    class_model = lr_clf   \n",
        "    print(X_train[i_train].shape)\n",
        "    history = class_model.fit(X_train[i_train], \n",
        "            y_train[i_train])\n",
        "    p_validation[i_validation,] = class_model.predict(X_train[i_validation])\n",
        "    p_test += class_model.predict_proba(X_test)/5\n",
        "    print('-' * 90)"
      ],
      "execution_count": null,
      "outputs": [
        {
          "output_type": "stream",
          "text": [
            "\n",
            " training model for 교차검증 # 1번째 \n",
            "\n",
            "학습인덱스 : [    0     1     2 ... 28944 28945 28947] | 학습데이터에 사용되는 데이터 : 23158\n",
            "검증인덱스 : [    7     8    24 ... 28935 28936 28946] | 검증에 사용하는 데이터 : 5790\n",
            "\n",
            "------------------------------------------------------------------------------------------\n",
            "(23158, 124511)\n"
          ],
          "name": "stdout"
        },
        {
          "output_type": "stream",
          "text": [
            "/usr/local/lib/python3.7/dist-packages/sklearn/linear_model/_logistic.py:940: ConvergenceWarning: lbfgs failed to converge (status=1):\n",
            "STOP: TOTAL NO. of ITERATIONS REACHED LIMIT.\n",
            "\n",
            "Increase the number of iterations (max_iter) or scale the data as shown in:\n",
            "    https://scikit-learn.org/stable/modules/preprocessing.html\n",
            "Please also refer to the documentation for alternative solver options:\n",
            "    https://scikit-learn.org/stable/modules/linear_model.html#logistic-regression\n",
            "  extra_warning_msg=_LOGISTIC_SOLVER_CONVERGENCE_MSG)\n"
          ],
          "name": "stderr"
        },
        {
          "output_type": "stream",
          "text": [
            "------------------------------------------------------------------------------------------\n",
            "\n",
            " training model for 교차검증 # 2번째 \n",
            "\n",
            "학습인덱스 : [    0     1     2 ... 28944 28946 28947] | 학습데이터에 사용되는 데이터 : 23158\n",
            "검증인덱스 : [    4     5     9 ... 28938 28939 28945] | 검증에 사용하는 데이터 : 5790\n",
            "\n",
            "------------------------------------------------------------------------------------------\n",
            "(23158, 124511)\n"
          ],
          "name": "stdout"
        },
        {
          "output_type": "stream",
          "text": [
            "/usr/local/lib/python3.7/dist-packages/sklearn/linear_model/_logistic.py:940: ConvergenceWarning: lbfgs failed to converge (status=1):\n",
            "STOP: TOTAL NO. of ITERATIONS REACHED LIMIT.\n",
            "\n",
            "Increase the number of iterations (max_iter) or scale the data as shown in:\n",
            "    https://scikit-learn.org/stable/modules/preprocessing.html\n",
            "Please also refer to the documentation for alternative solver options:\n",
            "    https://scikit-learn.org/stable/modules/linear_model.html#logistic-regression\n",
            "  extra_warning_msg=_LOGISTIC_SOLVER_CONVERGENCE_MSG)\n"
          ],
          "name": "stderr"
        },
        {
          "output_type": "stream",
          "text": [
            "------------------------------------------------------------------------------------------\n",
            "\n",
            " training model for 교차검증 # 3번째 \n",
            "\n",
            "학습인덱스 : [    0     1     2 ... 28945 28946 28947] | 학습데이터에 사용되는 데이터 : 23158\n",
            "검증인덱스 : [   10    15    18 ... 28931 28941 28943] | 검증에 사용하는 데이터 : 5790\n",
            "\n",
            "------------------------------------------------------------------------------------------\n",
            "(23158, 124511)\n"
          ],
          "name": "stdout"
        },
        {
          "output_type": "stream",
          "text": [
            "/usr/local/lib/python3.7/dist-packages/sklearn/linear_model/_logistic.py:940: ConvergenceWarning: lbfgs failed to converge (status=1):\n",
            "STOP: TOTAL NO. of ITERATIONS REACHED LIMIT.\n",
            "\n",
            "Increase the number of iterations (max_iter) or scale the data as shown in:\n",
            "    https://scikit-learn.org/stable/modules/preprocessing.html\n",
            "Please also refer to the documentation for alternative solver options:\n",
            "    https://scikit-learn.org/stable/modules/linear_model.html#logistic-regression\n",
            "  extra_warning_msg=_LOGISTIC_SOLVER_CONVERGENCE_MSG)\n"
          ],
          "name": "stderr"
        },
        {
          "output_type": "stream",
          "text": [
            "------------------------------------------------------------------------------------------\n",
            "\n",
            " training model for 교차검증 # 4번째 \n",
            "\n",
            "학습인덱스 : [    2     3     4 ... 28944 28945 28946] | 학습데이터에 사용되는 데이터 : 23159\n",
            "검증인덱스 : [    0     1    12 ... 28937 28942 28947] | 검증에 사용하는 데이터 : 5789\n",
            "\n",
            "------------------------------------------------------------------------------------------\n",
            "(23159, 124511)\n"
          ],
          "name": "stdout"
        },
        {
          "output_type": "stream",
          "text": [
            "/usr/local/lib/python3.7/dist-packages/sklearn/linear_model/_logistic.py:940: ConvergenceWarning: lbfgs failed to converge (status=1):\n",
            "STOP: TOTAL NO. of ITERATIONS REACHED LIMIT.\n",
            "\n",
            "Increase the number of iterations (max_iter) or scale the data as shown in:\n",
            "    https://scikit-learn.org/stable/modules/preprocessing.html\n",
            "Please also refer to the documentation for alternative solver options:\n",
            "    https://scikit-learn.org/stable/modules/linear_model.html#logistic-regression\n",
            "  extra_warning_msg=_LOGISTIC_SOLVER_CONVERGENCE_MSG)\n"
          ],
          "name": "stderr"
        },
        {
          "output_type": "stream",
          "text": [
            "------------------------------------------------------------------------------------------\n",
            "\n",
            " training model for 교차검증 # 5번째 \n",
            "\n",
            "학습인덱스 : [    0     1     4 ... 28945 28946 28947] | 학습데이터에 사용되는 데이터 : 23159\n",
            "검증인덱스 : [    2     3     6 ... 28933 28940 28944] | 검증에 사용하는 데이터 : 5789\n",
            "\n",
            "------------------------------------------------------------------------------------------\n",
            "(23159, 124511)\n",
            "------------------------------------------------------------------------------------------\n"
          ],
          "name": "stdout"
        },
        {
          "output_type": "stream",
          "text": [
            "/usr/local/lib/python3.7/dist-packages/sklearn/linear_model/_logistic.py:940: ConvergenceWarning: lbfgs failed to converge (status=1):\n",
            "STOP: TOTAL NO. of ITERATIONS REACHED LIMIT.\n",
            "\n",
            "Increase the number of iterations (max_iter) or scale the data as shown in:\n",
            "    https://scikit-learn.org/stable/modules/preprocessing.html\n",
            "Please also refer to the documentation for alternative solver options:\n",
            "    https://scikit-learn.org/stable/modules/linear_model.html#logistic-regression\n",
            "  extra_warning_msg=_LOGISTIC_SOLVER_CONVERGENCE_MSG)\n"
          ],
          "name": "stderr"
        }
      ]
    },
    {
      "cell_type": "code",
      "metadata": {
        "colab": {
          "base_uri": "https://localhost:8080/"
        },
        "id": "nTjWXDIa7UJ5",
        "outputId": "1cf2c8dd-1525-4588-84f4-ad1ccd071bfb"
      },
      "source": [
        "from sklearn.metrics import accuracy_score, log_loss \n",
        "print(accuracy_score(y_train, p_validation) * 100)"
      ],
      "execution_count": null,
      "outputs": [
        {
          "output_type": "stream",
          "text": [
            "88.83860715766203\n"
          ],
          "name": "stdout"
        }
      ]
    },
    {
      "cell_type": "code",
      "metadata": {
        "id": "diyMdVUQF2kD"
      },
      "source": [
        "y_pred=[]\n",
        "for i in range(len(p_test)):\n",
        "  if p_test[i][0]>p_test[i][1] and p_test[i][0]>p_test[i][2]:\n",
        "    y_pred.append(0)\n",
        "  elif p_test[i][1]>p_test[i][0] and p_test[i][1]>p_test[i][2]:\n",
        "    y_pred.append(1)\n",
        "  elif p_test[i][2]>p_test[i][0] and p_test[i][2]>p_test[i][1]:\n",
        "    y_pred.append(2)"
      ],
      "execution_count": null,
      "outputs": []
    },
    {
      "cell_type": "code",
      "metadata": {
        "colab": {
          "base_uri": "https://localhost:8080/"
        },
        "id": "9oLmcqNby-hd",
        "outputId": "ec5050e6-a928-4184-a621-595761aa7f02"
      },
      "source": [
        "acc = accuracy_score(y_test,y_pred)\n",
        "print(acc)"
      ],
      "execution_count": null,
      "outputs": [
        {
          "output_type": "stream",
          "text": [
            "0.8838558878052712\n"
          ],
          "name": "stdout"
        }
      ]
    },
    {
      "cell_type": "code",
      "metadata": {
        "colab": {
          "base_uri": "https://localhost:8080/"
        },
        "id": "yvneMpDXDz7v",
        "outputId": "2e2b99d5-90a8-4cbb-c6c8-2f45e6ebf898"
      },
      "source": [
        "from sklearn.metrics import confusion_matrix\n",
        "from sklearn.metrics import classification_report\n",
        "\n",
        "print(confusion_matrix(y_test, y_pred))\n",
        "print(classification_report(y_test, y_pred, target_names=['0', '1', '2']))"
      ],
      "execution_count": null,
      "outputs": [
        {
          "output_type": "stream",
          "text": [
            "[[1557  792    4]\n",
            " [ 238 9389   10]\n",
            " [  91  306   20]]\n",
            "              precision    recall  f1-score   support\n",
            "\n",
            "           0       0.83      0.66      0.73      2353\n",
            "           1       0.90      0.97      0.93      9637\n",
            "           2       0.59      0.05      0.09       417\n",
            "\n",
            "    accuracy                           0.88     12407\n",
            "   macro avg       0.77      0.56      0.59     12407\n",
            "weighted avg       0.87      0.88      0.87     12407\n",
            "\n"
          ],
          "name": "stdout"
        }
      ]
    },
    {
      "cell_type": "markdown",
      "metadata": {
        "id": "Bcni38H6i-Ss"
      },
      "source": [
        "# 3. Bi-Lstm(keras embedding 사용)"
      ]
    },
    {
      "cell_type": "code",
      "metadata": {
        "colab": {
          "base_uri": "https://localhost:8080/",
          "height": 405
        },
        "id": "BQDOYhgvGR4O",
        "outputId": "98e3dbab-7fc2-4b71-e1fc-3d16fc68c8b8"
      },
      "source": [
        "dff=pd.read_excel(\"/content/spell_labeling.xlsx\")\n",
        "dff"
      ],
      "execution_count": null,
      "outputs": [
        {
          "output_type": "execute_result",
          "data": {
            "text/html": [
              "<div>\n",
              "<style scoped>\n",
              "    .dataframe tbody tr th:only-of-type {\n",
              "        vertical-align: middle;\n",
              "    }\n",
              "\n",
              "    .dataframe tbody tr th {\n",
              "        vertical-align: top;\n",
              "    }\n",
              "\n",
              "    .dataframe thead th {\n",
              "        text-align: right;\n",
              "    }\n",
              "</style>\n",
              "<table border=\"1\" class=\"dataframe\">\n",
              "  <thead>\n",
              "    <tr style=\"text-align: right;\">\n",
              "      <th></th>\n",
              "      <th>Unnamed: 0</th>\n",
              "      <th>Unnamed: 0.1</th>\n",
              "      <th>Unnamed: 0.1.1</th>\n",
              "      <th>label</th>\n",
              "      <th>sentence</th>\n",
              "    </tr>\n",
              "  </thead>\n",
              "  <tbody>\n",
              "    <tr>\n",
              "      <th>0</th>\n",
              "      <td>0</td>\n",
              "      <td>0</td>\n",
              "      <td>0</td>\n",
              "      <td>0</td>\n",
              "      <td>창문 구조 자체가 방음이 잘되지 않고 찬바람이 들어오는 것 같아요.</td>\n",
              "    </tr>\n",
              "    <tr>\n",
              "      <th>1</th>\n",
              "      <td>1</td>\n",
              "      <td>1</td>\n",
              "      <td>1</td>\n",
              "      <td>0</td>\n",
              "      <td>지금 새벽 네시가 다 되어 가는데 밖에 경찰차 소리가 엄청나게 크게 들리네요?.</td>\n",
              "    </tr>\n",
              "    <tr>\n",
              "      <th>2</th>\n",
              "      <td>2</td>\n",
              "      <td>2</td>\n",
              "      <td>2</td>\n",
              "      <td>0</td>\n",
              "      <td>난방도 기능은 존재하는데 되는지를 모르겠네요.</td>\n",
              "    </tr>\n",
              "    <tr>\n",
              "      <th>3</th>\n",
              "      <td>3</td>\n",
              "      <td>3</td>\n",
              "      <td>3</td>\n",
              "      <td>0</td>\n",
              "      <td>별로 춥지 않아서 컴플레인은 걸지 않았지만 겨울철 되면 문제가 커질 것 같고요.</td>\n",
              "    </tr>\n",
              "    <tr>\n",
              "      <th>4</th>\n",
              "      <td>4</td>\n",
              "      <td>4</td>\n",
              "      <td>4</td>\n",
              "      <td>0</td>\n",
              "      <td>그리고 화장실 문이 심하게 덜 렁 꺼리고 콘센트가 거의 없어서 매우 불편했습니다.</td>\n",
              "    </tr>\n",
              "    <tr>\n",
              "      <th>...</th>\n",
              "      <td>...</td>\n",
              "      <td>...</td>\n",
              "      <td>...</td>\n",
              "      <td>...</td>\n",
              "      <td>...</td>\n",
              "    </tr>\n",
              "    <tr>\n",
              "      <th>41350</th>\n",
              "      <td>41350</td>\n",
              "      <td>41350</td>\n",
              "      <td>41350</td>\n",
              "      <td>1</td>\n",
              "      <td>젛았습니다습니다</td>\n",
              "    </tr>\n",
              "    <tr>\n",
              "      <th>41351</th>\n",
              "      <td>41351</td>\n",
              "      <td>41351</td>\n",
              "      <td>41351</td>\n",
              "      <td>1</td>\n",
              "      <td>즇앗씁니다!니다!</td>\n",
              "    </tr>\n",
              "    <tr>\n",
              "      <th>41352</th>\n",
              "      <td>41352</td>\n",
              "      <td>41352</td>\n",
              "      <td>41352</td>\n",
              "      <td>1</td>\n",
              "      <td>좋ㅉㅗㅎ 앗습니다</td>\n",
              "    </tr>\n",
              "    <tr>\n",
              "      <th>41353</th>\n",
              "      <td>41353</td>\n",
              "      <td>41353</td>\n",
              "      <td>41353</td>\n",
              "      <td>1</td>\n",
              "      <td>펺습니다습니다</td>\n",
              "    </tr>\n",
              "    <tr>\n",
              "      <th>41354</th>\n",
              "      <td>41354</td>\n",
              "      <td>41354</td>\n",
              "      <td>41354</td>\n",
              "      <td>1</td>\n",
              "      <td>헿.보일러도일러도 틀었더니 더울 정따뜻. 영등포에등포에 또 오게 되면 당연 여기로 ...</td>\n",
              "    </tr>\n",
              "  </tbody>\n",
              "</table>\n",
              "<p>41355 rows × 5 columns</p>\n",
              "</div>"
            ],
            "text/plain": [
              "       Unnamed: 0  ...                                           sentence\n",
              "0               0  ...              창문 구조 자체가 방음이 잘되지 않고 찬바람이 들어오는 것 같아요.\n",
              "1               1  ...       지금 새벽 네시가 다 되어 가는데 밖에 경찰차 소리가 엄청나게 크게 들리네요?.\n",
              "2               2  ...                          난방도 기능은 존재하는데 되는지를 모르겠네요.\n",
              "3               3  ...       별로 춥지 않아서 컴플레인은 걸지 않았지만 겨울철 되면 문제가 커질 것 같고요.\n",
              "4               4  ...      그리고 화장실 문이 심하게 덜 렁 꺼리고 콘센트가 거의 없어서 매우 불편했습니다.\n",
              "...           ...  ...                                                ...\n",
              "41350       41350  ...                                           젛았습니다습니다\n",
              "41351       41351  ...                                          즇앗씁니다!니다!\n",
              "41352       41352  ...                                          좋ㅉㅗㅎ 앗습니다\n",
              "41353       41353  ...                                            펺습니다습니다\n",
              "41354       41354  ...  헿.보일러도일러도 틀었더니 더울 정따뜻. 영등포에등포에 또 오게 되면 당연 여기로 ...\n",
              "\n",
              "[41355 rows x 5 columns]"
            ]
          },
          "metadata": {
            "tags": []
          },
          "execution_count": 666
        }
      ]
    },
    {
      "cell_type": "code",
      "metadata": {
        "id": "oZX5f9V4sfvi"
      },
      "source": [
        "feature=dff['sentence']"
      ],
      "execution_count": null,
      "outputs": []
    },
    {
      "cell_type": "code",
      "metadata": {
        "id": "H40lCC-ysmnu"
      },
      "source": [
        "dff.loc[11224,'label']=1\n",
        "dff.loc[12739,'label']=1"
      ],
      "execution_count": null,
      "outputs": []
    },
    {
      "cell_type": "code",
      "metadata": {
        "id": "BVIlm6AqtWbI"
      },
      "source": [
        ""
      ],
      "execution_count": null,
      "outputs": []
    },
    {
      "cell_type": "code",
      "metadata": {
        "id": "VAyMK64rsuAR"
      },
      "source": [
        "r = open('/content/한국어불용어100.txt', mode='rt', encoding='utf-8')\n",
        "stopwords=[]\n",
        "z=r.readlines()\n",
        "for i in range(len(z)):\n",
        "  stopwords.append(z[i].split('\\t')[0])"
      ],
      "execution_count": null,
      "outputs": []
    },
    {
      "cell_type": "code",
      "metadata": {
        "id": "i-uf-2G8suAS"
      },
      "source": [
        "def remove_stopwords(text):\n",
        "    final_text = []\n",
        "    for i in text.split():\n",
        "        if i.strip() not in stopwords:\n",
        "            final_text.append(i.strip())\n",
        "    return \" \".join(final_text)"
      ],
      "execution_count": null,
      "outputs": []
    },
    {
      "cell_type": "code",
      "metadata": {
        "id": "48aqtTXSsXzW"
      },
      "source": [
        "import re\n",
        "feature = feature.str.replace('<br />',' ')\n",
        "\n",
        "feature=feature.apply(lambda x : re.sub('[^a-zA-Zㄱ-ㅎ|ㅏ-ㅣ|가-힣]',' ',str(x)))"
      ],
      "execution_count": null,
      "outputs": []
    },
    {
      "cell_type": "code",
      "metadata": {
        "id": "37elF2rouaX4"
      },
      "source": [
        "feature = feature.apply(remove_stopwords)\n",
        "feature = np.array([x for x in feature])"
      ],
      "execution_count": null,
      "outputs": []
    },
    {
      "cell_type": "code",
      "metadata": {
        "id": "JA_U_wO_zOa_"
      },
      "source": [
        "from keras.utils import np_utils\n",
        "from tensorflow.keras.utils import plot_model, to_categorical\n",
        "\n",
        "y_train=dff['label'].values\n",
        "train_y = np_utils.to_categorical(y_train)"
      ],
      "execution_count": null,
      "outputs": []
    },
    {
      "cell_type": "code",
      "metadata": {
        "id": "6WqaPBq_ytsF"
      },
      "source": [
        "from sklearn.model_selection import train_test_split\n",
        "X_train, X_test, y_train, y_test = train_test_split(feature,\n",
        "                                                   train_y,\n",
        "                                                   test_size=0.2,\n",
        "                                                   random_state=42)"
      ],
      "execution_count": null,
      "outputs": []
    },
    {
      "cell_type": "code",
      "metadata": {
        "colab": {
          "base_uri": "https://localhost:8080/",
          "height": 244
        },
        "id": "7LbX6MPKzdkR",
        "outputId": "e3faf845-4843-4f87-adbd-e2707a4b6d14"
      },
      "source": [
        "import seaborn as sns\n",
        "\n",
        "X_trainlen = X_train.apply(lambda x : len(x.split()))\n",
        "\n",
        "def plot_doc_lengths(X_trainlen):\n",
        "    max_seq_len = np.round(X_trainlen.mean() + X_trainlen.std()).astype(int)\n",
        "    sns.distplot(tuple(X_trainlen), hist=True, kde=True, label='Document lengths')\n",
        "    plt.axvline(x=max_seq_len, color='k', linestyle='--', label=f'Sequence length mean:{max_seq_len}')\n",
        "    plt.title('Document lengths')\n",
        "    plt.legend()\n",
        "    plt.show()\n",
        "    print(f\" 가장 긴 문장은 {X_trainlen.max()} 개의 단어를, 평균 문장은 {X_trainlen.mean()} 개의 단어를, 가장 짧은 문장은 {X_trainlen.min()} 개의 단어를 가지고 있습니다.\")\n",
        "\n",
        "plot_doc_lengths(X_trainlen)"
      ],
      "execution_count": null,
      "outputs": [
        {
          "output_type": "error",
          "ename": "AttributeError",
          "evalue": "ignored",
          "traceback": [
            "\u001b[0;31m---------------------------------------------------------------------------\u001b[0m",
            "\u001b[0;31mAttributeError\u001b[0m                            Traceback (most recent call last)",
            "\u001b[0;32m<ipython-input-676-b60a9ab62a7f>\u001b[0m in \u001b[0;36m<module>\u001b[0;34m()\u001b[0m\n\u001b[1;32m      1\u001b[0m \u001b[0;32mimport\u001b[0m \u001b[0mseaborn\u001b[0m \u001b[0;32mas\u001b[0m \u001b[0msns\u001b[0m\u001b[0;34m\u001b[0m\u001b[0;34m\u001b[0m\u001b[0m\n\u001b[1;32m      2\u001b[0m \u001b[0;34m\u001b[0m\u001b[0m\n\u001b[0;32m----> 3\u001b[0;31m \u001b[0mX_trainlen\u001b[0m \u001b[0;34m=\u001b[0m \u001b[0mX_train\u001b[0m\u001b[0;34m.\u001b[0m\u001b[0mapply\u001b[0m\u001b[0;34m(\u001b[0m\u001b[0;32mlambda\u001b[0m \u001b[0mx\u001b[0m \u001b[0;34m:\u001b[0m \u001b[0mlen\u001b[0m\u001b[0;34m(\u001b[0m\u001b[0mx\u001b[0m\u001b[0;34m.\u001b[0m\u001b[0msplit\u001b[0m\u001b[0;34m(\u001b[0m\u001b[0;34m)\u001b[0m\u001b[0;34m)\u001b[0m\u001b[0;34m)\u001b[0m\u001b[0;34m\u001b[0m\u001b[0;34m\u001b[0m\u001b[0m\n\u001b[0m\u001b[1;32m      4\u001b[0m \u001b[0;34m\u001b[0m\u001b[0m\n\u001b[1;32m      5\u001b[0m \u001b[0;32mdef\u001b[0m \u001b[0mplot_doc_lengths\u001b[0m\u001b[0;34m(\u001b[0m\u001b[0mX_trainlen\u001b[0m\u001b[0;34m)\u001b[0m\u001b[0;34m:\u001b[0m\u001b[0;34m\u001b[0m\u001b[0;34m\u001b[0m\u001b[0m\n",
            "\u001b[0;31mAttributeError\u001b[0m: 'numpy.ndarray' object has no attribute 'apply'"
          ]
        }
      ]
    },
    {
      "cell_type": "code",
      "metadata": {
        "colab": {
          "base_uri": "https://localhost:8080/"
        },
        "id": "CALHWuYl1S3e",
        "outputId": "9e6177c5-a653-4a13-8dc4-c57ed147d1d4"
      },
      "source": [
        "embedding_dim=300\n",
        "max_length=72\n",
        "padding_type='post'\n",
        "\n",
        "tokenizer = Tokenizer()\n",
        "tokenizer.fit_on_texts(X_train) \n",
        "word_index = tokenizer.word_index\n",
        "\n",
        "vocab_size=len(word_index)+1 #vocabulary 크기 설정\n",
        "print(vocab_size)"
      ],
      "execution_count": null,
      "outputs": [
        {
          "output_type": "stream",
          "text": [
            "24726\n"
          ],
          "name": "stdout"
        }
      ]
    },
    {
      "cell_type": "code",
      "metadata": {
        "colab": {
          "base_uri": "https://localhost:8080/"
        },
        "id": "OLkF_JIC1jlG",
        "outputId": "ebd462c3-20ae-4028-817d-f4650901d407"
      },
      "source": [
        "from keras_preprocessing.sequence import pad_sequences \n",
        "\n",
        "#데이터를 sequence로 변환하고 padding 해주기\n",
        "train_sequences = tokenizer.texts_to_sequences(X_train)\n",
        "train_padded = pad_sequences(train_sequences, padding=padding_type, maxlen=max_length) \n",
        "\n",
        "test_sequences = tokenizer.texts_to_sequences(X_test)\n",
        "test_padded = pad_sequences(test_sequences, padding=padding_type, maxlen=max_length)\n",
        "\n",
        "print(train_padded.shape, test_padded.shape)"
      ],
      "execution_count": null,
      "outputs": [
        {
          "output_type": "stream",
          "text": [
            "(33084, 72) (8271, 72)\n"
          ],
          "name": "stdout"
        }
      ]
    },
    {
      "cell_type": "code",
      "metadata": {
        "id": "YgmRFV6X3DDx"
      },
      "source": [
        "from tensorflow.keras import Sequential\n",
        "from tensorflow.keras.layers import Dense, Embedding, LSTM, Dropout, Bidirectional\n",
        "from tensorflow.keras.optimizers import Adam\n",
        "\n",
        "epoch_val = 10\n",
        "model = Sequential([\n",
        "        Embedding(vocab_size, embedding_dim, input_length=max_length),\n",
        "        Bidirectional(LSTM(64, return_sequences=True)),\n",
        "        Bidirectional(LSTM(64, return_sequences = True)),\n",
        "        Bidirectional(LSTM(64)),\n",
        "        Dense(3, activation='softmax')\n",
        "    ])\n",
        "    \n",
        "# compile model\n",
        "model.compile(loss='categorical_crossentropy', optimizer='adam',metrics=['accuracy'])"
      ],
      "execution_count": null,
      "outputs": []
    },
    {
      "cell_type": "code",
      "metadata": {
        "colab": {
          "base_uri": "https://localhost:8080/"
        },
        "id": "6CV00cm-6zbK",
        "outputId": "02c688a3-a4a3-4f6b-a754-48e8651664ea"
      },
      "source": [
        "y_train.shape"
      ],
      "execution_count": null,
      "outputs": [
        {
          "output_type": "execute_result",
          "data": {
            "text/plain": [
              "(33084, 3)"
            ]
          },
          "metadata": {
            "tags": []
          },
          "execution_count": 728
        }
      ]
    },
    {
      "cell_type": "code",
      "metadata": {
        "colab": {
          "base_uri": "https://localhost:8080/"
        },
        "id": "yEXUDbs23rul",
        "outputId": "a703b190-a1a4-42ec-f29f-1054932ff056"
      },
      "source": [
        "history = model.fit(train_padded, y_train, epochs=50, batch_size=100, validation_split= 0.2) "
      ],
      "execution_count": null,
      "outputs": [
        {
          "output_type": "stream",
          "text": [
            "Epoch 1/50\n",
            "265/265 [==============================] - 70s 223ms/step - loss: 0.4524 - accuracy: 0.8338 - val_loss: 0.2868 - val_accuracy: 0.8981\n",
            "Epoch 2/50\n",
            "265/265 [==============================] - 57s 215ms/step - loss: 0.1859 - accuracy: 0.9386 - val_loss: 0.2917 - val_accuracy: 0.9006\n",
            "Epoch 3/50\n",
            "265/265 [==============================] - 57s 215ms/step - loss: 0.1119 - accuracy: 0.9622 - val_loss: 0.3537 - val_accuracy: 0.8805\n",
            "Epoch 4/50\n",
            "265/265 [==============================] - 56s 212ms/step - loss: 0.0612 - accuracy: 0.9825 - val_loss: 0.4050 - val_accuracy: 0.8803\n",
            "Epoch 5/50\n",
            "265/265 [==============================] - 57s 214ms/step - loss: 0.0399 - accuracy: 0.9890 - val_loss: 0.4828 - val_accuracy: 0.8838\n",
            "Epoch 6/50\n",
            "265/265 [==============================] - 57s 214ms/step - loss: 0.0330 - accuracy: 0.9910 - val_loss: 0.4800 - val_accuracy: 0.8799\n",
            "Epoch 7/50\n",
            "265/265 [==============================] - 57s 216ms/step - loss: 0.0291 - accuracy: 0.9919 - val_loss: 0.5251 - val_accuracy: 0.8803\n",
            "Epoch 8/50\n",
            "265/265 [==============================] - 57s 216ms/step - loss: 0.0221 - accuracy: 0.9937 - val_loss: 0.5710 - val_accuracy: 0.8770\n",
            "Epoch 9/50\n",
            "265/265 [==============================] - 57s 217ms/step - loss: 0.0214 - accuracy: 0.9940 - val_loss: 0.5706 - val_accuracy: 0.8785\n",
            "Epoch 10/50\n",
            "265/265 [==============================] - 57s 216ms/step - loss: 0.0245 - accuracy: 0.9937 - val_loss: 0.5686 - val_accuracy: 0.8818\n",
            "Epoch 11/50\n",
            "265/265 [==============================] - 57s 216ms/step - loss: 0.0160 - accuracy: 0.9951 - val_loss: 0.6287 - val_accuracy: 0.8817\n",
            "Epoch 12/50\n",
            "265/265 [==============================] - 57s 216ms/step - loss: 0.0171 - accuracy: 0.9947 - val_loss: 0.7080 - val_accuracy: 0.8756\n",
            "Epoch 13/50\n",
            "265/265 [==============================] - 58s 218ms/step - loss: 0.0198 - accuracy: 0.9936 - val_loss: 0.6068 - val_accuracy: 0.8731\n",
            "Epoch 14/50\n",
            "265/265 [==============================] - 57s 216ms/step - loss: 0.0161 - accuracy: 0.9946 - val_loss: 0.7180 - val_accuracy: 0.8681\n",
            "Epoch 15/50\n",
            "265/265 [==============================] - 58s 218ms/step - loss: 0.0152 - accuracy: 0.9941 - val_loss: 0.7021 - val_accuracy: 0.8724\n",
            "Epoch 16/50\n",
            "265/265 [==============================] - 57s 217ms/step - loss: 0.0153 - accuracy: 0.9941 - val_loss: 0.7900 - val_accuracy: 0.8617\n",
            "Epoch 17/50\n",
            "265/265 [==============================] - 57s 217ms/step - loss: 0.0156 - accuracy: 0.9947 - val_loss: 0.7745 - val_accuracy: 0.8702\n",
            "Epoch 18/50\n",
            "265/265 [==============================] - 58s 218ms/step - loss: 0.0133 - accuracy: 0.9950 - val_loss: 0.7687 - val_accuracy: 0.8750\n",
            "Epoch 19/50\n",
            "265/265 [==============================] - 57s 217ms/step - loss: 0.0144 - accuracy: 0.9950 - val_loss: 0.8808 - val_accuracy: 0.8699\n",
            "Epoch 20/50\n",
            "265/265 [==============================] - 57s 216ms/step - loss: 0.0134 - accuracy: 0.9955 - val_loss: 0.8489 - val_accuracy: 0.8762\n",
            "Epoch 21/50\n",
            "265/265 [==============================] - 57s 216ms/step - loss: 0.0125 - accuracy: 0.9956 - val_loss: 0.7926 - val_accuracy: 0.8711\n",
            "Epoch 22/50\n",
            "265/265 [==============================] - 57s 217ms/step - loss: 0.0131 - accuracy: 0.9950 - val_loss: 0.7603 - val_accuracy: 0.8709\n",
            "Epoch 23/50\n",
            "265/265 [==============================] - 57s 215ms/step - loss: 0.0113 - accuracy: 0.9955 - val_loss: 0.8059 - val_accuracy: 0.8740\n",
            "Epoch 24/50\n",
            "265/265 [==============================] - 57s 215ms/step - loss: 0.0094 - accuracy: 0.9962 - val_loss: 0.8120 - val_accuracy: 0.8749\n",
            "Epoch 25/50\n",
            "265/265 [==============================] - 57s 215ms/step - loss: 0.0098 - accuracy: 0.9962 - val_loss: 0.9063 - val_accuracy: 0.8652\n",
            "Epoch 26/50\n",
            "265/265 [==============================] - 57s 214ms/step - loss: 0.0113 - accuracy: 0.9961 - val_loss: 0.9037 - val_accuracy: 0.8696\n",
            "Epoch 27/50\n",
            "265/265 [==============================] - 57s 215ms/step - loss: 0.0106 - accuracy: 0.9958 - val_loss: 0.8815 - val_accuracy: 0.8741\n",
            "Epoch 28/50\n",
            "265/265 [==============================] - 57s 215ms/step - loss: 0.0110 - accuracy: 0.9964 - val_loss: 0.8618 - val_accuracy: 0.8759\n",
            "Epoch 29/50\n",
            "265/265 [==============================] - 57s 216ms/step - loss: 0.0087 - accuracy: 0.9968 - val_loss: 0.9588 - val_accuracy: 0.8708\n",
            "Epoch 30/50\n",
            "265/265 [==============================] - 57s 216ms/step - loss: 0.0095 - accuracy: 0.9965 - val_loss: 0.9607 - val_accuracy: 0.8749\n",
            "Epoch 31/50\n",
            "265/265 [==============================] - 57s 215ms/step - loss: 0.0125 - accuracy: 0.9956 - val_loss: 0.8576 - val_accuracy: 0.8613\n",
            "Epoch 32/50\n",
            "265/265 [==============================] - 57s 216ms/step - loss: 0.0119 - accuracy: 0.9957 - val_loss: 0.7558 - val_accuracy: 0.8718\n",
            "Epoch 33/50\n",
            "265/265 [==============================] - 57s 215ms/step - loss: 0.0098 - accuracy: 0.9963 - val_loss: 0.8164 - val_accuracy: 0.8709\n",
            "Epoch 34/50\n",
            "265/265 [==============================] - 57s 216ms/step - loss: 0.0080 - accuracy: 0.9968 - val_loss: 0.8840 - val_accuracy: 0.8709\n",
            "Epoch 35/50\n",
            "265/265 [==============================] - 57s 215ms/step - loss: 0.0089 - accuracy: 0.9966 - val_loss: 0.9438 - val_accuracy: 0.8720\n",
            "Epoch 36/50\n",
            "265/265 [==============================] - 57s 213ms/step - loss: 0.0078 - accuracy: 0.9971 - val_loss: 0.9741 - val_accuracy: 0.8741\n",
            "Epoch 37/50\n",
            "265/265 [==============================] - 56s 213ms/step - loss: 0.0081 - accuracy: 0.9969 - val_loss: 1.0033 - val_accuracy: 0.8718\n",
            "Epoch 38/50\n",
            "265/265 [==============================] - 57s 214ms/step - loss: 0.0079 - accuracy: 0.9967 - val_loss: 1.0234 - val_accuracy: 0.8746\n",
            "Epoch 39/50\n",
            "265/265 [==============================] - 57s 214ms/step - loss: 0.0078 - accuracy: 0.9972 - val_loss: 1.0082 - val_accuracy: 0.8706\n",
            "Epoch 40/50\n",
            "265/265 [==============================] - 57s 214ms/step - loss: 0.0084 - accuracy: 0.9965 - val_loss: 1.0313 - val_accuracy: 0.8700\n",
            "Epoch 41/50\n",
            "265/265 [==============================] - 56s 213ms/step - loss: 0.0088 - accuracy: 0.9970 - val_loss: 0.8769 - val_accuracy: 0.8658\n",
            "Epoch 42/50\n",
            "265/265 [==============================] - 57s 214ms/step - loss: 0.0101 - accuracy: 0.9968 - val_loss: 0.8649 - val_accuracy: 0.8652\n",
            "Epoch 43/50\n",
            "265/265 [==============================] - 56s 213ms/step - loss: 0.0082 - accuracy: 0.9969 - val_loss: 0.8453 - val_accuracy: 0.8697\n",
            "Epoch 44/50\n",
            "265/265 [==============================] - 57s 214ms/step - loss: 0.0066 - accuracy: 0.9977 - val_loss: 0.8729 - val_accuracy: 0.8703\n",
            "Epoch 45/50\n",
            "265/265 [==============================] - 57s 215ms/step - loss: 0.0087 - accuracy: 0.9968 - val_loss: 0.9614 - val_accuracy: 0.8711\n",
            "Epoch 46/50\n",
            "265/265 [==============================] - 57s 214ms/step - loss: 0.0075 - accuracy: 0.9970 - val_loss: 0.9561 - val_accuracy: 0.8663\n",
            "Epoch 47/50\n",
            "265/265 [==============================] - 57s 215ms/step - loss: 0.0070 - accuracy: 0.9968 - val_loss: 0.9683 - val_accuracy: 0.8699\n",
            "Epoch 48/50\n",
            "265/265 [==============================] - 57s 214ms/step - loss: 0.0076 - accuracy: 0.9969 - val_loss: 1.0294 - val_accuracy: 0.8706\n",
            "Epoch 49/50\n",
            "265/265 [==============================] - 57s 214ms/step - loss: 0.0077 - accuracy: 0.9972 - val_loss: 1.0540 - val_accuracy: 0.8696\n",
            "Epoch 50/50\n",
            "265/265 [==============================] - 57s 214ms/step - loss: 0.0078 - accuracy: 0.9967 - val_loss: 1.0542 - val_accuracy: 0.8693\n"
          ],
          "name": "stdout"
        }
      ]
    },
    {
      "cell_type": "code",
      "metadata": {
        "colab": {
          "base_uri": "https://localhost:8080/",
          "height": 314
        },
        "id": "vpEN70T13r0w",
        "outputId": "1be3f1e0-a584-42d0-c904-f5cb9e835a7c"
      },
      "source": [
        "plt.figure(figsize=(12, 4))\n",
        "\n",
        "plt.subplot(1, 2, 1)\n",
        "plt.title('loss of Bidirectional LSTM (model3) ', fontsize= 15)\n",
        "plt.plot(history.history['loss'], 'b-', label='loss')\n",
        "plt.plot(history.history['val_loss'],'r--', label='val_loss')\n",
        "plt.xlabel('Epoch')\n",
        "plt.legend()\n",
        "\n",
        "plt.subplot(1, 2, 2)\n",
        "plt.title('accuracy of Bidirectional LSTM (model3) ', fontsize= 15)\n",
        "plt.plot(history.history['accuracy'], 'g-', label='accuracy')\n",
        "plt.plot(history.history['val_accuracy'],'k--', label='val_accuracy')\n",
        "plt.xlabel('Epoch')\n",
        "plt.legend()\n",
        "plt.show"
      ],
      "execution_count": null,
      "outputs": [
        {
          "output_type": "execute_result",
          "data": {
            "text/plain": [
              "<function matplotlib.pyplot.show>"
            ]
          },
          "metadata": {
            "tags": []
          },
          "execution_count": 730
        },
        {
          "output_type": "display_data",
          "data": {
            "image/png": "[encoded data removed]",
            "text/plain": [
              "<Figure size 864x288 with 2 Axes>"
            ]
          },
          "metadata": {
            "tags": [],
            "needs_background": "light"
          }
        }
      ]
    },
    {
      "cell_type": "code",
      "metadata": {
        "id": "96pSdA-f7oXa"
      },
      "source": [
        "y_pred_proba = model.predict(test_padded)"
      ],
      "execution_count": null,
      "outputs": []
    },
    {
      "cell_type": "code",
      "metadata": {
        "colab": {
          "base_uri": "https://localhost:8080/"
        },
        "id": "MQmWOr19C748",
        "outputId": "7b7caf0e-c0c0-4748-a78e-6e11118d0f8c"
      },
      "source": [
        "len(y_pred_proba)"
      ],
      "execution_count": null,
      "outputs": [
        {
          "output_type": "execute_result",
          "data": {
            "text/plain": [
              "8271"
            ]
          },
          "metadata": {
            "tags": []
          },
          "execution_count": 732
        }
      ]
    },
    {
      "cell_type": "code",
      "metadata": {
        "id": "VDhRMZ6zBZe5"
      },
      "source": [
        "y_pred_proba1=[]\n",
        "for i in range(len(y_pred_proba)):\n",
        "  if y_pred_proba[i][0]>y_pred_proba[i][1] and y_pred_proba[i][0]>y_pred_proba[i][2]:\n",
        "    y_pred_proba1.append(0)\n",
        "  elif y_pred_proba[i][1]>y_pred_proba[i][0] and y_pred_proba[i][1]>y_pred_proba[i][2]:\n",
        "    y_pred_proba1.append(1)\n",
        "  elif y_pred_proba[i][2]>y_pred_proba[i][0] and y_pred_proba[i][2]>y_pred_proba[i][1]:\n",
        "    y_pred_proba1.append(2)"
      ],
      "execution_count": null,
      "outputs": []
    },
    {
      "cell_type": "code",
      "metadata": {
        "colab": {
          "base_uri": "https://localhost:8080/"
        },
        "id": "vd66YGxPDGNi",
        "outputId": "fedb534e-e95d-4321-bda7-6373d1760c3a"
      },
      "source": [
        "len(y_pred_proba1)"
      ],
      "execution_count": null,
      "outputs": [
        {
          "output_type": "execute_result",
          "data": {
            "text/plain": [
              "8271"
            ]
          },
          "metadata": {
            "tags": []
          },
          "execution_count": 734
        }
      ]
    },
    {
      "cell_type": "code",
      "metadata": {
        "id": "ufpwG8YuBojH"
      },
      "source": [
        "y_test_proba1=[]\n",
        "for i in range(len(y_test)):\n",
        "  if y_test[i][0]==1:\n",
        "    y_test_proba1.append(0)\n",
        "  elif y_test[i][1]==1:\n",
        "    y_test_proba1.append(1)\n",
        "  elif y_test[i][2]==1:\n",
        "    y_test_proba1.append(2)"
      ],
      "execution_count": null,
      "outputs": []
    },
    {
      "cell_type": "code",
      "metadata": {
        "id": "6tmHMl2NBV6s"
      },
      "source": [
        "acc = accuracy_score(y_test_proba1, y_pred_proba1)"
      ],
      "execution_count": null,
      "outputs": []
    },
    {
      "cell_type": "code",
      "metadata": {
        "colab": {
          "base_uri": "https://localhost:8080/"
        },
        "id": "bnEW1OT_wFu7",
        "outputId": "a9dc4e82-537a-4fda-8692-62b8e91feebb"
      },
      "source": [
        "print(acc)"
      ],
      "execution_count": null,
      "outputs": [
        {
          "output_type": "stream",
          "text": [
            "0.8667633901583848\n"
          ],
          "name": "stdout"
        }
      ]
    },
    {
      "cell_type": "markdown",
      "metadata": {
        "id": "xvSWdvoFOls5"
      },
      "source": [
        "# 4. Bi-lstm(keras embedding) - k-fold 추가"
      ]
    },
    {
      "cell_type": "code",
      "metadata": {
        "colab": {
          "base_uri": "https://localhost:8080/",
          "height": 405
        },
        "id": "C-jm3gCLOy9N",
        "outputId": "03eec6f4-194d-4e6a-aa82-cf7147c14b5e"
      },
      "source": [
        "dff=pd.read_excel(\"/content/spell_labeling.xlsx\")\n",
        "dff"
      ],
      "execution_count": null,
      "outputs": [
        {
          "output_type": "execute_result",
          "data": {
            "text/html": [
              "<div>\n",
              "<style scoped>\n",
              "    .dataframe tbody tr th:only-of-type {\n",
              "        vertical-align: middle;\n",
              "    }\n",
              "\n",
              "    .dataframe tbody tr th {\n",
              "        vertical-align: top;\n",
              "    }\n",
              "\n",
              "    .dataframe thead th {\n",
              "        text-align: right;\n",
              "    }\n",
              "</style>\n",
              "<table border=\"1\" class=\"dataframe\">\n",
              "  <thead>\n",
              "    <tr style=\"text-align: right;\">\n",
              "      <th></th>\n",
              "      <th>Unnamed: 0</th>\n",
              "      <th>Unnamed: 0.1</th>\n",
              "      <th>Unnamed: 0.1.1</th>\n",
              "      <th>label</th>\n",
              "      <th>sentence</th>\n",
              "    </tr>\n",
              "  </thead>\n",
              "  <tbody>\n",
              "    <tr>\n",
              "      <th>0</th>\n",
              "      <td>0</td>\n",
              "      <td>0</td>\n",
              "      <td>0</td>\n",
              "      <td>0</td>\n",
              "      <td>창문 구조 자체가 방음이 잘되지 않고 찬바람이 들어오는 것 같아요.</td>\n",
              "    </tr>\n",
              "    <tr>\n",
              "      <th>1</th>\n",
              "      <td>1</td>\n",
              "      <td>1</td>\n",
              "      <td>1</td>\n",
              "      <td>0</td>\n",
              "      <td>지금 새벽 네시가 다 되어 가는데 밖에 경찰차 소리가 엄청나게 크게 들리네요?.</td>\n",
              "    </tr>\n",
              "    <tr>\n",
              "      <th>2</th>\n",
              "      <td>2</td>\n",
              "      <td>2</td>\n",
              "      <td>2</td>\n",
              "      <td>0</td>\n",
              "      <td>난방도 기능은 존재하는데 되는지를 모르겠네요.</td>\n",
              "    </tr>\n",
              "    <tr>\n",
              "      <th>3</th>\n",
              "      <td>3</td>\n",
              "      <td>3</td>\n",
              "      <td>3</td>\n",
              "      <td>0</td>\n",
              "      <td>별로 춥지 않아서 컴플레인은 걸지 않았지만 겨울철 되면 문제가 커질 것 같고요.</td>\n",
              "    </tr>\n",
              "    <tr>\n",
              "      <th>4</th>\n",
              "      <td>4</td>\n",
              "      <td>4</td>\n",
              "      <td>4</td>\n",
              "      <td>0</td>\n",
              "      <td>그리고 화장실 문이 심하게 덜 렁 꺼리고 콘센트가 거의 없어서 매우 불편했습니다.</td>\n",
              "    </tr>\n",
              "    <tr>\n",
              "      <th>...</th>\n",
              "      <td>...</td>\n",
              "      <td>...</td>\n",
              "      <td>...</td>\n",
              "      <td>...</td>\n",
              "      <td>...</td>\n",
              "    </tr>\n",
              "    <tr>\n",
              "      <th>41350</th>\n",
              "      <td>41350</td>\n",
              "      <td>41350</td>\n",
              "      <td>41350</td>\n",
              "      <td>1</td>\n",
              "      <td>젛았습니다습니다</td>\n",
              "    </tr>\n",
              "    <tr>\n",
              "      <th>41351</th>\n",
              "      <td>41351</td>\n",
              "      <td>41351</td>\n",
              "      <td>41351</td>\n",
              "      <td>1</td>\n",
              "      <td>즇앗씁니다!니다!</td>\n",
              "    </tr>\n",
              "    <tr>\n",
              "      <th>41352</th>\n",
              "      <td>41352</td>\n",
              "      <td>41352</td>\n",
              "      <td>41352</td>\n",
              "      <td>1</td>\n",
              "      <td>좋ㅉㅗㅎ 앗습니다</td>\n",
              "    </tr>\n",
              "    <tr>\n",
              "      <th>41353</th>\n",
              "      <td>41353</td>\n",
              "      <td>41353</td>\n",
              "      <td>41353</td>\n",
              "      <td>1</td>\n",
              "      <td>펺습니다습니다</td>\n",
              "    </tr>\n",
              "    <tr>\n",
              "      <th>41354</th>\n",
              "      <td>41354</td>\n",
              "      <td>41354</td>\n",
              "      <td>41354</td>\n",
              "      <td>1</td>\n",
              "      <td>헿.보일러도일러도 틀었더니 더울 정따뜻. 영등포에등포에 또 오게 되면 당연 여기로 ...</td>\n",
              "    </tr>\n",
              "  </tbody>\n",
              "</table>\n",
              "<p>41355 rows × 5 columns</p>\n",
              "</div>"
            ],
            "text/plain": [
              "       Unnamed: 0  ...                                           sentence\n",
              "0               0  ...              창문 구조 자체가 방음이 잘되지 않고 찬바람이 들어오는 것 같아요.\n",
              "1               1  ...       지금 새벽 네시가 다 되어 가는데 밖에 경찰차 소리가 엄청나게 크게 들리네요?.\n",
              "2               2  ...                          난방도 기능은 존재하는데 되는지를 모르겠네요.\n",
              "3               3  ...       별로 춥지 않아서 컴플레인은 걸지 않았지만 겨울철 되면 문제가 커질 것 같고요.\n",
              "4               4  ...      그리고 화장실 문이 심하게 덜 렁 꺼리고 콘센트가 거의 없어서 매우 불편했습니다.\n",
              "...           ...  ...                                                ...\n",
              "41350       41350  ...                                           젛았습니다습니다\n",
              "41351       41351  ...                                          즇앗씁니다!니다!\n",
              "41352       41352  ...                                          좋ㅉㅗㅎ 앗습니다\n",
              "41353       41353  ...                                            펺습니다습니다\n",
              "41354       41354  ...  헿.보일러도일러도 틀었더니 더울 정따뜻. 영등포에등포에 또 오게 되면 당연 여기로 ...\n",
              "\n",
              "[41355 rows x 5 columns]"
            ]
          },
          "metadata": {
            "tags": []
          },
          "execution_count": 753
        }
      ]
    },
    {
      "cell_type": "code",
      "metadata": {
        "id": "Fc1c4qiuOy9i"
      },
      "source": [
        "feature=dff['sentence']"
      ],
      "execution_count": null,
      "outputs": []
    },
    {
      "cell_type": "code",
      "metadata": {
        "id": "Z4gpsc4AOzRv"
      },
      "source": [
        "dff.loc[11224,'label']=1\n",
        "dff.loc[12739,'label']=1"
      ],
      "execution_count": null,
      "outputs": []
    },
    {
      "cell_type": "code",
      "metadata": {
        "id": "-6X5Y84FOzRx"
      },
      "source": [
        "r = open('/content/한국어불용어100.txt', mode='rt', encoding='utf-8')\n",
        "stopwords=[]\n",
        "z=r.readlines()\n",
        "for i in range(len(z)):\n",
        "  stopwords.append(z[i].split('\\t')[0])"
      ],
      "execution_count": null,
      "outputs": []
    },
    {
      "cell_type": "code",
      "metadata": {
        "id": "Kjfxmzs8OzRx"
      },
      "source": [
        "def remove_stopwords(text):\n",
        "    final_text = []\n",
        "    for i in text.split():\n",
        "        if i.strip() not in stopwords:\n",
        "            final_text.append(i.strip())\n",
        "    return \" \".join(final_text)"
      ],
      "execution_count": null,
      "outputs": []
    },
    {
      "cell_type": "code",
      "metadata": {
        "id": "T2PQqgodOzRy"
      },
      "source": [
        "import re\n",
        "feature = feature.str.replace('<br />',' ')\n",
        "\n",
        "feature=feature.apply(lambda x : re.sub('[^a-zA-Zㄱ-ㅎ|ㅏ-ㅣ|가-힣]',' ',str(x)))"
      ],
      "execution_count": null,
      "outputs": []
    },
    {
      "cell_type": "code",
      "metadata": {
        "id": "gV0umpIhOzRy"
      },
      "source": [
        "feature = feature.apply(remove_stopwords)\n",
        "feature = np.array([x for x in feature])"
      ],
      "execution_count": null,
      "outputs": []
    },
    {
      "cell_type": "code",
      "metadata": {
        "id": "974_3Hf7OzRz"
      },
      "source": [
        "from keras.utils import np_utils\n",
        "from tensorflow.keras.utils import plot_model, to_categorical\n",
        "\n",
        "y_train=dff['label'].values"
      ],
      "execution_count": null,
      "outputs": []
    },
    {
      "cell_type": "code",
      "metadata": {
        "id": "b-JI84WbOzRz"
      },
      "source": [
        "from sklearn.model_selection import train_test_split\n",
        "X_train, X_test, y_train, y_test = train_test_split(feature,\n",
        "                                                   y_train,\n",
        "                                                   test_size=0.2,\n",
        "                                                   random_state=42)"
      ],
      "execution_count": null,
      "outputs": []
    },
    {
      "cell_type": "code",
      "metadata": {
        "colab": {
          "base_uri": "https://localhost:8080/"
        },
        "id": "plBlYHFUPNqY",
        "outputId": "a9e0b747-3255-4bd7-df28-f1057bac3ef3"
      },
      "source": [
        "embedding_dim=300\n",
        "max_length=72\n",
        "padding_type='post'\n",
        "\n",
        "tokenizer = Tokenizer()\n",
        "tokenizer.fit_on_texts(X_train) \n",
        "word_index = tokenizer.word_index\n",
        "\n",
        "vocab_size=len(word_index)+1 #vocabulary 크기 설정\n",
        "print(vocab_size)"
      ],
      "execution_count": null,
      "outputs": [
        {
          "output_type": "stream",
          "text": [
            "24726\n"
          ],
          "name": "stdout"
        }
      ]
    },
    {
      "cell_type": "code",
      "metadata": {
        "colab": {
          "base_uri": "https://localhost:8080/"
        },
        "id": "k7sBx-h4PNqf",
        "outputId": "7543e3b1-b64c-43a5-e53c-5ea977e814ee"
      },
      "source": [
        "from keras_preprocessing.sequence import pad_sequences \n",
        "\n",
        "#데이터를 sequence로 변환하고 padding 해주기\n",
        "train_sequences = tokenizer.texts_to_sequences(X_train)\n",
        "train_padded = pad_sequences(train_sequences, padding=padding_type, maxlen=max_length) \n",
        "\n",
        "test_sequences = tokenizer.texts_to_sequences(X_test)\n",
        "test_padded = pad_sequences(test_sequences, padding=padding_type, maxlen=max_length)\n",
        "\n",
        "print(train_padded.shape, test_padded.shape)"
      ],
      "execution_count": null,
      "outputs": [
        {
          "output_type": "stream",
          "text": [
            "(33084, 72) (8271, 72)\n"
          ],
          "name": "stdout"
        }
      ]
    },
    {
      "cell_type": "code",
      "metadata": {
        "id": "uCnJQ47aPNqg"
      },
      "source": [
        "from tensorflow.keras import Sequential\n",
        "from tensorflow.keras.layers import Dense, Embedding, LSTM, Dropout, Bidirectional\n",
        "from tensorflow.keras.optimizers import Adam\n",
        "\n",
        "epoch_val = 10\n",
        "model = Sequential([\n",
        "        Embedding(vocab_size, embedding_dim, input_length=max_length),\n",
        "        Bidirectional(LSTM(64, return_sequences=True)),\n",
        "        Bidirectional(LSTM(64, return_sequences = True)),\n",
        "        Bidirectional(LSTM(64)),\n",
        "        Dense(3, activation='softmax')\n",
        "    ])\n",
        "    \n",
        "# compile model\n",
        "model.compile(loss='categorical_crossentropy', optimizer='adam',metrics=['accuracy'])"
      ],
      "execution_count": null,
      "outputs": []
    },
    {
      "cell_type": "code",
      "metadata": {
        "colab": {
          "base_uri": "https://localhost:8080/"
        },
        "id": "54u5doOfOy9k",
        "outputId": "09316e16-bc5c-47ed-f1f1-436eb8d5a873"
      },
      "source": [
        "# 계층 교차 검증\n",
        "n_fold = 5  \n",
        "seed = 42\n",
        "\n",
        "cv = StratifiedKFold(n_splits = n_fold, shuffle=True, random_state=seed)\n",
        "\n",
        "# 테스트데이터의 예측값 담을 곳 생성\n",
        "test_y = np.zeros((test_padded.shape[0], 3))\n",
        "\n",
        "# 조기 종료 옵션 추가\n",
        "es = EarlyStopping(monitor='val_loss', min_delta=0.001, patience=3,\n",
        "                   verbose=1, mode='min', baseline=None, restore_best_weights=True)\n",
        "\n",
        "for i, (i_trn, i_val) in enumerate(cv.split(train_padded, y_train), 1):\n",
        "    print(f'training model for CV #{i}')\n",
        "\n",
        "    model.fit(train_padded[i_trn], \n",
        "            to_categorical(y_train[i_trn]),\n",
        "            validation_data=(train_padded[i_val], to_categorical(y_train[i_val])),\n",
        "            epochs=10,\n",
        "            batch_size=512,\n",
        "            callbacks=[es])     # 조기 종료 옵션\n",
        "                      \n",
        "    test_y += model.predict(test_padded) / n_fold    # 나온 예측값들을 교차 검증 횟수로 나눈다"
      ],
      "execution_count": null,
      "outputs": [
        {
          "output_type": "stream",
          "text": [
            "training model for CV #1\n",
            "Epoch 1/10\n",
            "52/52 [==============================] - 26s 316ms/step - loss: 0.6799 - accuracy: 0.7352 - val_loss: 0.3208 - val_accuracy: 0.8841\n",
            "Epoch 2/10\n",
            "52/52 [==============================] - 14s 262ms/step - loss: 0.2622 - accuracy: 0.9141 - val_loss: 0.2921 - val_accuracy: 0.9001\n",
            "Epoch 3/10\n",
            "52/52 [==============================] - 14s 263ms/step - loss: 0.1626 - accuracy: 0.9466 - val_loss: 0.3311 - val_accuracy: 0.8909\n",
            "Epoch 4/10\n",
            "52/52 [==============================] - 14s 262ms/step - loss: 0.1199 - accuracy: 0.9581 - val_loss: 0.3707 - val_accuracy: 0.8817\n",
            "Epoch 5/10\n",
            "52/52 [==============================] - 14s 262ms/step - loss: 0.0855 - accuracy: 0.9728 - val_loss: 0.3879 - val_accuracy: 0.8814\n",
            "Restoring model weights from the end of the best epoch.\n",
            "Epoch 00005: early stopping\n",
            "training model for CV #2\n",
            "Epoch 1/10\n",
            "52/52 [==============================] - 14s 266ms/step - loss: 0.1976 - accuracy: 0.9334 - val_loss: 0.1668 - val_accuracy: 0.9423\n",
            "Epoch 2/10\n",
            "52/52 [==============================] - 14s 262ms/step - loss: 0.1297 - accuracy: 0.9570 - val_loss: 0.1718 - val_accuracy: 0.9408\n",
            "Epoch 3/10\n",
            "52/52 [==============================] - 14s 263ms/step - loss: 0.0908 - accuracy: 0.9723 - val_loss: 0.1879 - val_accuracy: 0.9356\n",
            "Epoch 4/10\n",
            "52/52 [==============================] - 14s 261ms/step - loss: 0.0591 - accuracy: 0.9839 - val_loss: 0.2070 - val_accuracy: 0.9299\n",
            "Restoring model weights from the end of the best epoch.\n",
            "Epoch 00004: early stopping\n",
            "training model for CV #3\n",
            "Epoch 1/10\n",
            "52/52 [==============================] - 14s 264ms/step - loss: 0.1497 - accuracy: 0.9494 - val_loss: 0.1260 - val_accuracy: 0.9532\n",
            "Epoch 2/10\n",
            "52/52 [==============================] - 13s 259ms/step - loss: 0.1051 - accuracy: 0.9663 - val_loss: 0.1165 - val_accuracy: 0.9648\n",
            "Epoch 3/10\n",
            "52/52 [==============================] - 14s 262ms/step - loss: 0.0698 - accuracy: 0.9787 - val_loss: 0.1258 - val_accuracy: 0.9592\n",
            "Epoch 4/10\n",
            "52/52 [==============================] - 14s 262ms/step - loss: 0.0478 - accuracy: 0.9868 - val_loss: 0.1422 - val_accuracy: 0.9554\n",
            "Epoch 5/10\n",
            "52/52 [==============================] - 13s 258ms/step - loss: 0.0372 - accuracy: 0.9898 - val_loss: 0.1629 - val_accuracy: 0.9506\n",
            "Restoring model weights from the end of the best epoch.\n",
            "Epoch 00005: early stopping\n",
            "training model for CV #4\n",
            "Epoch 1/10\n",
            "52/52 [==============================] - 14s 269ms/step - loss: 0.0828 - accuracy: 0.9760 - val_loss: 0.0665 - val_accuracy: 0.9797\n",
            "Epoch 2/10\n",
            "52/52 [==============================] - 14s 264ms/step - loss: 0.0515 - accuracy: 0.9863 - val_loss: 0.0726 - val_accuracy: 0.9766\n",
            "Epoch 3/10\n",
            "52/52 [==============================] - 14s 263ms/step - loss: 0.0405 - accuracy: 0.9886 - val_loss: 0.0840 - val_accuracy: 0.9729\n",
            "Epoch 4/10\n",
            "52/52 [==============================] - 14s 262ms/step - loss: 0.0349 - accuracy: 0.9906 - val_loss: 0.0946 - val_accuracy: 0.9720\n",
            "Restoring model weights from the end of the best epoch.\n",
            "Epoch 00004: early stopping\n",
            "training model for CV #5\n",
            "Epoch 1/10\n",
            "52/52 [==============================] - 14s 264ms/step - loss: 0.0574 - accuracy: 0.9837 - val_loss: 0.0534 - val_accuracy: 0.9846\n",
            "Epoch 2/10\n",
            "52/52 [==============================] - 14s 262ms/step - loss: 0.0431 - accuracy: 0.9875 - val_loss: 0.0611 - val_accuracy: 0.9819\n",
            "Epoch 3/10\n",
            "52/52 [==============================] - 13s 260ms/step - loss: 0.0351 - accuracy: 0.9906 - val_loss: 0.0685 - val_accuracy: 0.9802\n",
            "Epoch 4/10\n",
            "52/52 [==============================] - 14s 261ms/step - loss: 0.0306 - accuracy: 0.9919 - val_loss: 0.0743 - val_accuracy: 0.9779\n",
            "Restoring model weights from the end of the best epoch.\n",
            "Epoch 00004: early stopping\n"
          ],
          "name": "stdout"
        }
      ]
    },
    {
      "cell_type": "code",
      "metadata": {
        "id": "Vau8JajIP3Sp"
      },
      "source": [
        "y_pred_proba1=[]\n",
        "for i in range(len(test_y)):\n",
        "  if test_y[i][0]>test_y[i][1] and test_y[i][0]>test_y[i][2]:\n",
        "    y_pred_proba1.append(0)\n",
        "  elif test_y[i][1]>test_y[i][0] and test_y[i][1]>test_y[i][2]:\n",
        "    y_pred_proba1.append(1)\n",
        "  elif test_y[i][2]>test_y[i][0] and test_y[i][2]>test_y[i][1]:\n",
        "    y_pred_proba1.append(2)"
      ],
      "execution_count": null,
      "outputs": []
    },
    {
      "cell_type": "code",
      "metadata": {
        "id": "CuyhtEjKRP6R"
      },
      "source": [
        "acc = accuracy_score(y_test, y_pred_proba1)"
      ],
      "execution_count": null,
      "outputs": []
    },
    {
      "cell_type": "code",
      "metadata": {
        "colab": {
          "base_uri": "https://localhost:8080/"
        },
        "id": "lHXX7q_CRWqK",
        "outputId": "4a87065a-50be-4b23-c223-29dede1dafaa"
      },
      "source": [
        "print(acc)"
      ],
      "execution_count": null,
      "outputs": [
        {
          "output_type": "stream",
          "text": [
            "0.8954177245798574\n"
          ],
          "name": "stdout"
        }
      ]
    },
    {
      "cell_type": "code",
      "metadata": {
        "colab": {
          "base_uri": "https://localhost:8080/"
        },
        "id": "Tl_FIjYjSHMa",
        "outputId": "4606924c-aec4-4348-9633-8f80d1f9abbb"
      },
      "source": [
        "from sklearn.metrics import confusion_matrix\n",
        "from sklearn.metrics import classification_report\n",
        "\n",
        "print(confusion_matrix(y_test, y_pred_proba1))\n",
        "print(classification_report(y_test, y_pred_proba1, target_names=['0', '1', '2']))"
      ],
      "execution_count": null,
      "outputs": [
        {
          "output_type": "stream",
          "text": [
            "[[1219  318   44]\n",
            " [ 237 6140   25]\n",
            " [  94  147   47]]\n",
            "              precision    recall  f1-score   support\n",
            "\n",
            "           0       0.79      0.77      0.78      1581\n",
            "           1       0.93      0.96      0.94      6402\n",
            "           2       0.41      0.16      0.23       288\n",
            "\n",
            "    accuracy                           0.90      8271\n",
            "   macro avg       0.71      0.63      0.65      8271\n",
            "weighted avg       0.88      0.90      0.89      8271\n",
            "\n"
          ],
          "name": "stdout"
        }
      ]
    },
    {
      "cell_type": "markdown",
      "metadata": {
        "id": "kTqvDK6JWKyY"
      },
      "source": [
        "# bert토큰화+Bi-LSTM+k-fold"
      ]
    },
    {
      "cell_type": "code",
      "metadata": {
        "colab": {
          "base_uri": "https://localhost:8080/",
          "height": 405
        },
        "id": "XrriSaXui2lu",
        "outputId": "8be5497c-8eef-4ea1-e4f7-ef3f2eab03b2"
      },
      "source": [
        "import pandas as pd\n",
        "dff = pd.read_excel(\"/content/spell_labeling.xlsx\")\n",
        "dff"
      ],
      "execution_count": null,
      "outputs": [
        {
          "output_type": "execute_result",
          "data": {
            "text/html": [
              "<div>\n",
              "<style scoped>\n",
              "    .dataframe tbody tr th:only-of-type {\n",
              "        vertical-align: middle;\n",
              "    }\n",
              "\n",
              "    .dataframe tbody tr th {\n",
              "        vertical-align: top;\n",
              "    }\n",
              "\n",
              "    .dataframe thead th {\n",
              "        text-align: right;\n",
              "    }\n",
              "</style>\n",
              "<table border=\"1\" class=\"dataframe\">\n",
              "  <thead>\n",
              "    <tr style=\"text-align: right;\">\n",
              "      <th></th>\n",
              "      <th>Unnamed: 0</th>\n",
              "      <th>Unnamed: 0.1</th>\n",
              "      <th>Unnamed: 0.1.1</th>\n",
              "      <th>label</th>\n",
              "      <th>sentence</th>\n",
              "    </tr>\n",
              "  </thead>\n",
              "  <tbody>\n",
              "    <tr>\n",
              "      <th>0</th>\n",
              "      <td>0</td>\n",
              "      <td>0</td>\n",
              "      <td>0</td>\n",
              "      <td>0</td>\n",
              "      <td>창문 구조 자체가 방음이 잘되지 않고 찬바람이 들어오는 것 같아요.</td>\n",
              "    </tr>\n",
              "    <tr>\n",
              "      <th>1</th>\n",
              "      <td>1</td>\n",
              "      <td>1</td>\n",
              "      <td>1</td>\n",
              "      <td>0</td>\n",
              "      <td>지금 새벽 네시가 다 되어 가는데 밖에 경찰차 소리가 엄청나게 크게 들리네요?.</td>\n",
              "    </tr>\n",
              "    <tr>\n",
              "      <th>2</th>\n",
              "      <td>2</td>\n",
              "      <td>2</td>\n",
              "      <td>2</td>\n",
              "      <td>0</td>\n",
              "      <td>난방도 기능은 존재하는데 되는지를 모르겠네요.</td>\n",
              "    </tr>\n",
              "    <tr>\n",
              "      <th>3</th>\n",
              "      <td>3</td>\n",
              "      <td>3</td>\n",
              "      <td>3</td>\n",
              "      <td>0</td>\n",
              "      <td>별로 춥지 않아서 컴플레인은 걸지 않았지만 겨울철 되면 문제가 커질 것 같고요.</td>\n",
              "    </tr>\n",
              "    <tr>\n",
              "      <th>4</th>\n",
              "      <td>4</td>\n",
              "      <td>4</td>\n",
              "      <td>4</td>\n",
              "      <td>0</td>\n",
              "      <td>그리고 화장실 문이 심하게 덜 렁 꺼리고 콘센트가 거의 없어서 매우 불편했습니다.</td>\n",
              "    </tr>\n",
              "    <tr>\n",
              "      <th>...</th>\n",
              "      <td>...</td>\n",
              "      <td>...</td>\n",
              "      <td>...</td>\n",
              "      <td>...</td>\n",
              "      <td>...</td>\n",
              "    </tr>\n",
              "    <tr>\n",
              "      <th>41350</th>\n",
              "      <td>41350</td>\n",
              "      <td>41350</td>\n",
              "      <td>41350</td>\n",
              "      <td>1</td>\n",
              "      <td>젛았습니다습니다</td>\n",
              "    </tr>\n",
              "    <tr>\n",
              "      <th>41351</th>\n",
              "      <td>41351</td>\n",
              "      <td>41351</td>\n",
              "      <td>41351</td>\n",
              "      <td>1</td>\n",
              "      <td>즇앗씁니다!니다!</td>\n",
              "    </tr>\n",
              "    <tr>\n",
              "      <th>41352</th>\n",
              "      <td>41352</td>\n",
              "      <td>41352</td>\n",
              "      <td>41352</td>\n",
              "      <td>1</td>\n",
              "      <td>좋ㅉㅗㅎ 앗습니다</td>\n",
              "    </tr>\n",
              "    <tr>\n",
              "      <th>41353</th>\n",
              "      <td>41353</td>\n",
              "      <td>41353</td>\n",
              "      <td>41353</td>\n",
              "      <td>1</td>\n",
              "      <td>펺습니다습니다</td>\n",
              "    </tr>\n",
              "    <tr>\n",
              "      <th>41354</th>\n",
              "      <td>41354</td>\n",
              "      <td>41354</td>\n",
              "      <td>41354</td>\n",
              "      <td>1</td>\n",
              "      <td>헿.보일러도일러도 틀었더니 더울 정따뜻. 영등포에등포에 또 오게 되면 당연 여기로 ...</td>\n",
              "    </tr>\n",
              "  </tbody>\n",
              "</table>\n",
              "<p>41355 rows × 5 columns</p>\n",
              "</div>"
            ],
            "text/plain": [
              "       Unnamed: 0  ...                                           sentence\n",
              "0               0  ...              창문 구조 자체가 방음이 잘되지 않고 찬바람이 들어오는 것 같아요.\n",
              "1               1  ...       지금 새벽 네시가 다 되어 가는데 밖에 경찰차 소리가 엄청나게 크게 들리네요?.\n",
              "2               2  ...                          난방도 기능은 존재하는데 되는지를 모르겠네요.\n",
              "3               3  ...       별로 춥지 않아서 컴플레인은 걸지 않았지만 겨울철 되면 문제가 커질 것 같고요.\n",
              "4               4  ...      그리고 화장실 문이 심하게 덜 렁 꺼리고 콘센트가 거의 없어서 매우 불편했습니다.\n",
              "...           ...  ...                                                ...\n",
              "41350       41350  ...                                           젛았습니다습니다\n",
              "41351       41351  ...                                          즇앗씁니다!니다!\n",
              "41352       41352  ...                                          좋ㅉㅗㅎ 앗습니다\n",
              "41353       41353  ...                                            펺습니다습니다\n",
              "41354       41354  ...  헿.보일러도일러도 틀었더니 더울 정따뜻. 영등포에등포에 또 오게 되면 당연 여기로 ...\n",
              "\n",
              "[41355 rows x 5 columns]"
            ]
          },
          "metadata": {
            "tags": []
          },
          "execution_count": 2
        }
      ]
    },
    {
      "cell_type": "code",
      "metadata": {
        "colab": {
          "base_uri": "https://localhost:8080/"
        },
        "id": "bCRRfz5gSbE8",
        "outputId": "49a5b4e3-3c4d-437f-edf8-71e68172c4ce"
      },
      "source": [
        "!pip install bert-for-tf2"
      ],
      "execution_count": null,
      "outputs": [
        {
          "output_type": "stream",
          "text": [
            "Requirement already satisfied: bert-for-tf2 in /usr/local/lib/python3.7/dist-packages (0.14.9)\n",
            "Requirement already satisfied: params-flow>=0.8.0 in /usr/local/lib/python3.7/dist-packages (from bert-for-tf2) (0.8.2)\n",
            "Requirement already satisfied: py-params>=0.9.6 in /usr/local/lib/python3.7/dist-packages (from bert-for-tf2) (0.10.2)\n",
            "Requirement already satisfied: numpy in /usr/local/lib/python3.7/dist-packages (from params-flow>=0.8.0->bert-for-tf2) (1.19.5)\n",
            "Requirement already satisfied: tqdm in /usr/local/lib/python3.7/dist-packages (from params-flow>=0.8.0->bert-for-tf2) (4.41.1)\n"
          ],
          "name": "stdout"
        }
      ]
    },
    {
      "cell_type": "code",
      "metadata": {
        "id": "Ico3GA-tWPyP"
      },
      "source": [
        "import bert\n",
        "import tensorflow_hub as hub\n",
        "\n",
        "module_url = \"https://tfhub.dev/tensorflow/bert_en_uncased_L-24_H-1024_A-16/1\"\n",
        "bert_layer = hub.KerasLayer(module_url, trainable=True)\n",
        "vocab_file = bert_layer.resolved_object.vocab_file.asset_path.numpy()\n",
        "do_lower_case = bert_layer.resolved_object.do_lower_case.numpy()\n",
        "tokenizer = bert.bert_tokenization.FullTokenizer(vocab_file, do_lower_case)"
      ],
      "execution_count": null,
      "outputs": []
    },
    {
      "cell_type": "code",
      "metadata": {
        "id": "O68fcaCglUi4"
      },
      "source": [
        "feature=dff['sentence']"
      ],
      "execution_count": null,
      "outputs": []
    },
    {
      "cell_type": "code",
      "metadata": {
        "id": "2Jo3av9UlUjK"
      },
      "source": [
        "dff.loc[11224,'label']=1\n",
        "dff.loc[12739,'label']=1"
      ],
      "execution_count": null,
      "outputs": []
    },
    {
      "cell_type": "code",
      "metadata": {
        "id": "mJ2bs0rAlUjL"
      },
      "source": [
        "r = open('/content/한국어불용어100.txt', mode='rt', encoding='utf-8')\n",
        "stopwords=[]\n",
        "z=r.readlines()\n",
        "for i in range(len(z)):\n",
        "  stopwords.append(z[i].split('\\t')[0])"
      ],
      "execution_count": null,
      "outputs": []
    },
    {
      "cell_type": "code",
      "metadata": {
        "id": "fl34iJfelUjL"
      },
      "source": [
        "def remove_stopwords(text):\n",
        "    final_text = []\n",
        "    for i in text.split():\n",
        "        if i.strip() not in stopwords:\n",
        "            final_text.append(i.strip())\n",
        "    return \" \".join(final_text)"
      ],
      "execution_count": null,
      "outputs": []
    },
    {
      "cell_type": "code",
      "metadata": {
        "id": "jTf5NlIRlUjM"
      },
      "source": [
        "import re\n",
        "feature = feature.str.replace('<br />',' ')\n",
        "\n",
        "feature=feature.apply(lambda x : re.sub('[^a-zA-Zㄱ-ㅎ|ㅏ-ㅣ|가-힣]',' ',str(x)))"
      ],
      "execution_count": null,
      "outputs": []
    },
    {
      "cell_type": "code",
      "metadata": {
        "id": "lu-HctWZlUjM"
      },
      "source": [
        "feature = feature.apply(remove_stopwords)"
      ],
      "execution_count": null,
      "outputs": []
    },
    {
      "cell_type": "code",
      "metadata": {
        "id": "Dv1EOKExm07u"
      },
      "source": [
        "from sklearn.model_selection import train_test_split\n",
        "X_train, X_test, y_train, y_test = train_test_split(feature,\n",
        "                                                   dff['label'].values,\n",
        "                                                   test_size=0.2,\n",
        "                                                   random_state=42)"
      ],
      "execution_count": null,
      "outputs": []
    },
    {
      "cell_type": "code",
      "metadata": {
        "id": "Oo1nrrMqWNPw"
      },
      "source": [
        "# https://www.kaggle.com/xhlulu/disaster-nlp-keras-bert-using-tfhub\n",
        "max_length=72\n",
        "\n",
        "#토큰화와 임베딩(bert encoding)\n",
        "def bert_encode(texts, tokenizer, max_len=max_length):\n",
        "    all_tokens = []\n",
        "    all_masks = []\n",
        "    all_segments = []\n",
        "    \n",
        "    for text in texts:\n",
        "        text = tokenizer.tokenize(text)\n",
        "            \n",
        "        text = text[:max_len-2]\n",
        "        input_sequence = [\"[CLS]\"] + text + [\"[SEP]\"] #혹시 하나의 리뷰에 1개 이상의 문장이 있을 수 있으므로 분리\n",
        "        pad_len = max_len - len(input_sequence)\n",
        "        \n",
        "        tokens = tokenizer.convert_tokens_to_ids(input_sequence)\n",
        "        tokens += [0] * pad_len\n",
        "        pad_masks = [1] * len(input_sequence) + [0] * pad_len\n",
        "        segment_ids = [0] * max_len\n",
        "        \n",
        "        all_tokens.append(tokens)\n",
        "        all_masks.append(pad_masks)\n",
        "        all_segments.append(segment_ids)\n",
        "    \n",
        "    return np.array(all_tokens), np.array(all_masks), np.array(all_segments)"
      ],
      "execution_count": null,
      "outputs": []
    },
    {
      "cell_type": "code",
      "metadata": {
        "colab": {
          "base_uri": "https://localhost:8080/"
        },
        "id": "hR_wyGuQivrs",
        "outputId": "0f4b0c91-8048-40c3-d09e-5af278e303bc"
      },
      "source": [
        "import numpy as np\n",
        "train_padded = bert_encode(X_train, tokenizer,max_len=max_length)\n",
        "test_padded = bert_encode(X_test, tokenizer,max_len=max_length)\n",
        "print(train_padded[0].shape,test_padded[0].shape)"
      ],
      "execution_count": null,
      "outputs": [
        {
          "output_type": "stream",
          "text": [
            "(33084, 72) (8271, 72)\n"
          ],
          "name": "stdout"
        }
      ]
    },
    {
      "cell_type": "code",
      "metadata": {
        "colab": {
          "base_uri": "https://localhost:8080/"
        },
        "id": "yqBoYjwtmOCo",
        "outputId": "71397d40-6c7a-43cc-c642-c20c38f19e24"
      },
      "source": [
        "embedding_dim=300\n",
        "word_index = tokenizer.vocab\n",
        "\n",
        "vocab_size=len(word_index)+1 #vocabulary 크기 설정\n",
        "print(vocab_size)"
      ],
      "execution_count": null,
      "outputs": [
        {
          "output_type": "stream",
          "text": [
            "30523\n"
          ],
          "name": "stdout"
        }
      ]
    },
    {
      "cell_type": "code",
      "metadata": {
        "id": "tVnRqrOepJzZ"
      },
      "source": [
        "from tensorflow.keras import Sequential\n",
        "from tensorflow.keras.layers import Dense, Embedding, LSTM, Dropout, Bidirectional\n",
        "from tensorflow.keras.optimizers import Adam\n",
        "from tensorflow.keras import Sequential, Model, Input\n",
        "import tensorflow as tf\n",
        "\n",
        "epoch_val = 10\n",
        "model = Sequential([\n",
        "        Embedding(vocab_size, embedding_dim, input_length=max_length),\n",
        "        Bidirectional(LSTM(64, return_sequences=True)),\n",
        "        Bidirectional(LSTM(64, return_sequences = True)),\n",
        "        Bidirectional(LSTM(64)),\n",
        "        Dense(3, activation='softmax')\n",
        "    ])\n",
        "    \n",
        "# compile model\n",
        "model.compile(loss='categorical_crossentropy', optimizer='adam',metrics=['accuracy'])"
      ],
      "execution_count": null,
      "outputs": []
    },
    {
      "cell_type": "code",
      "metadata": {
        "colab": {
          "base_uri": "https://localhost:8080/",
          "height": 902
        },
        "id": "Z6PDgPGRqA3b",
        "outputId": "6143b384-cefa-4afe-9cf7-48e11451e9fd"
      },
      "source": [
        "# 계층 교차 검증\n",
        "from sklearn.model_selection import StratifiedKFold\n",
        "from tensorflow.keras.callbacks import EarlyStopping, ReduceLROnPlateau\n",
        "from tensorflow.keras.utils import plot_model, to_categorical\n",
        "\n",
        "n_fold = 3\n",
        "seed = 42\n",
        "\n",
        "cv = StratifiedKFold(n_splits = n_fold, shuffle=True, random_state=seed)\n",
        "\n",
        "p_val = np.zeros((train_padded[0].shape[0], 3))\n",
        "# 테스트데이터의 예측값 담을 곳 생성\n",
        "p_tst = np.zeros((test_padded[0].shape[0], 3))\n",
        "\n",
        "for i, (i_trn, i_val) in enumerate(cv.split(train_padded[0], y_train), 1):\n",
        "    print(f'training model for CV #{i}')\n",
        "    es = EarlyStopping(monitor='val_accuracy', min_delta=0.001, patience=2,\n",
        "                       verbose=1, mode='min', baseline=None, restore_best_weights=True)\n",
        "    \n",
        "    clf = get_model(bert_layer,max_length)\n",
        "    if i == 1:\n",
        "        print(clf.summary())\n",
        "        \n",
        "    clf.fit([x[i_trn] for x in train_padded], \n",
        "            to_categorical(y_train[i_trn]),\n",
        "            validation_data=([x[i_val] for x in train_padded], to_categorical(y_train[i_val])),\n",
        "            epochs=10,\n",
        "            batch_size=25,\n",
        "            callbacks=[es])\n",
        "    p_val[i_val, :] = clf.predict([x[i_val] for x in train_padded])\n",
        "    p_tst += clf.predict(test_padded) / n_fold"
      ],
      "execution_count": null,
      "outputs": [
        {
          "output_type": "stream",
          "text": [
            "training model for CV #1\n",
            "Model: \"model\"\n",
            "__________________________________________________________________________________________________\n",
            "Layer (type)                    Output Shape         Param #     Connected to                     \n",
            "==================================================================================================\n",
            "input_word_ids (InputLayer)     [(None, 72)]         0                                            \n",
            "__________________________________________________________________________________________________\n",
            "input_mask (InputLayer)         [(None, 72)]         0                                            \n",
            "__________________________________________________________________________________________________\n",
            "segment_ids (InputLayer)        [(None, 72)]         0                                            \n",
            "__________________________________________________________________________________________________\n",
            "keras_layer (KerasLayer)        [(None, 1024), (None 335141889   input_word_ids[0][0]             \n",
            "                                                                 input_mask[0][0]                 \n",
            "                                                                 segment_ids[0][0]                \n",
            "__________________________________________________________________________________________________\n",
            "tf.__operators__.getitem (Slici (None, 1024)         0           keras_layer[0][1]                \n",
            "__________________________________________________________________________________________________\n",
            "dense (Dense)                   (None, 256)          262400      tf.__operators__.getitem[0][0]   \n",
            "__________________________________________________________________________________________________\n",
            "dense_1 (Dense)                 (None, 3)            771         dense[0][0]                      \n",
            "==================================================================================================\n",
            "Total params: 335,405,060\n",
            "Trainable params: 335,405,059\n",
            "Non-trainable params: 1\n",
            "__________________________________________________________________________________________________\n",
            "None\n",
            "Epoch 1/10\n",
            " 50/883 [>.............................] - ETA: 14:45:47 - loss: 0.6348 - accuracy: 0.7613"
          ],
          "name": "stdout"
        },
        {
          "output_type": "error",
          "ename": "KeyboardInterrupt",
          "evalue": "ignored",
          "traceback": [
            "\u001b[0;31m---------------------------------------------------------------------------\u001b[0m",
            "\u001b[0;31mKeyboardInterrupt\u001b[0m                         Traceback (most recent call last)",
            "\u001b[0;32m<ipython-input-16-f0c07fad4ec7>\u001b[0m in \u001b[0;36m<module>\u001b[0;34m()\u001b[0m\n\u001b[1;32m     27\u001b[0m             \u001b[0mepochs\u001b[0m\u001b[0;34m=\u001b[0m\u001b[0;36m10\u001b[0m\u001b[0;34m,\u001b[0m\u001b[0;34m\u001b[0m\u001b[0;34m\u001b[0m\u001b[0m\n\u001b[1;32m     28\u001b[0m             \u001b[0mbatch_size\u001b[0m\u001b[0;34m=\u001b[0m\u001b[0;36m25\u001b[0m\u001b[0;34m,\u001b[0m\u001b[0;34m\u001b[0m\u001b[0;34m\u001b[0m\u001b[0m\n\u001b[0;32m---> 29\u001b[0;31m             callbacks=[es])\n\u001b[0m\u001b[1;32m     30\u001b[0m     \u001b[0mp_val\u001b[0m\u001b[0;34m[\u001b[0m\u001b[0mi_val\u001b[0m\u001b[0;34m,\u001b[0m \u001b[0;34m:\u001b[0m\u001b[0;34m]\u001b[0m \u001b[0;34m=\u001b[0m \u001b[0mclf\u001b[0m\u001b[0;34m.\u001b[0m\u001b[0mpredict\u001b[0m\u001b[0;34m(\u001b[0m\u001b[0;34m[\u001b[0m\u001b[0mx\u001b[0m\u001b[0;34m[\u001b[0m\u001b[0mi_val\u001b[0m\u001b[0;34m]\u001b[0m \u001b[0;32mfor\u001b[0m \u001b[0mx\u001b[0m \u001b[0;32min\u001b[0m \u001b[0mtrain_padded\u001b[0m\u001b[0;34m]\u001b[0m\u001b[0;34m)\u001b[0m\u001b[0;34m\u001b[0m\u001b[0;34m\u001b[0m\u001b[0m\n\u001b[1;32m     31\u001b[0m     \u001b[0mp_tst\u001b[0m \u001b[0;34m+=\u001b[0m \u001b[0mclf\u001b[0m\u001b[0;34m.\u001b[0m\u001b[0mpredict\u001b[0m\u001b[0;34m(\u001b[0m\u001b[0mtest_padded\u001b[0m\u001b[0;34m)\u001b[0m \u001b[0;34m/\u001b[0m \u001b[0mn_fold\u001b[0m\u001b[0;34m\u001b[0m\u001b[0;34m\u001b[0m\u001b[0m\n",
            "\u001b[0;32m/usr/local/lib/python3.7/dist-packages/tensorflow/python/keras/engine/training.py\u001b[0m in \u001b[0;36mfit\u001b[0;34m(self, x, y, batch_size, epochs, verbose, callbacks, validation_split, validation_data, shuffle, class_weight, sample_weight, initial_epoch, steps_per_epoch, validation_steps, validation_batch_size, validation_freq, max_queue_size, workers, use_multiprocessing)\u001b[0m\n\u001b[1;32m   1098\u001b[0m                 _r=1):\n\u001b[1;32m   1099\u001b[0m               \u001b[0mcallbacks\u001b[0m\u001b[0;34m.\u001b[0m\u001b[0mon_train_batch_begin\u001b[0m\u001b[0;34m(\u001b[0m\u001b[0mstep\u001b[0m\u001b[0;34m)\u001b[0m\u001b[0;34m\u001b[0m\u001b[0;34m\u001b[0m\u001b[0m\n\u001b[0;32m-> 1100\u001b[0;31m               \u001b[0mtmp_logs\u001b[0m \u001b[0;34m=\u001b[0m \u001b[0mself\u001b[0m\u001b[0;34m.\u001b[0m\u001b[0mtrain_function\u001b[0m\u001b[0;34m(\u001b[0m\u001b[0miterator\u001b[0m\u001b[0;34m)\u001b[0m\u001b[0;34m\u001b[0m\u001b[0;34m\u001b[0m\u001b[0m\n\u001b[0m\u001b[1;32m   1101\u001b[0m               \u001b[0;32mif\u001b[0m \u001b[0mdata_handler\u001b[0m\u001b[0;34m.\u001b[0m\u001b[0mshould_sync\u001b[0m\u001b[0;34m:\u001b[0m\u001b[0;34m\u001b[0m\u001b[0;34m\u001b[0m\u001b[0m\n\u001b[1;32m   1102\u001b[0m                 \u001b[0mcontext\u001b[0m\u001b[0;34m.\u001b[0m\u001b[0masync_wait\u001b[0m\u001b[0;34m(\u001b[0m\u001b[0;34m)\u001b[0m\u001b[0;34m\u001b[0m\u001b[0;34m\u001b[0m\u001b[0m\n",
            "\u001b[0;32m/usr/local/lib/python3.7/dist-packages/tensorflow/python/eager/def_function.py\u001b[0m in \u001b[0;36m__call__\u001b[0;34m(self, *args, **kwds)\u001b[0m\n\u001b[1;32m    826\u001b[0m     \u001b[0mtracing_count\u001b[0m \u001b[0;34m=\u001b[0m \u001b[0mself\u001b[0m\u001b[0;34m.\u001b[0m\u001b[0mexperimental_get_tracing_count\u001b[0m\u001b[0;34m(\u001b[0m\u001b[0;34m)\u001b[0m\u001b[0;34m\u001b[0m\u001b[0;34m\u001b[0m\u001b[0m\n\u001b[1;32m    827\u001b[0m     \u001b[0;32mwith\u001b[0m \u001b[0mtrace\u001b[0m\u001b[0;34m.\u001b[0m\u001b[0mTrace\u001b[0m\u001b[0;34m(\u001b[0m\u001b[0mself\u001b[0m\u001b[0;34m.\u001b[0m\u001b[0m_name\u001b[0m\u001b[0;34m)\u001b[0m \u001b[0;32mas\u001b[0m \u001b[0mtm\u001b[0m\u001b[0;34m:\u001b[0m\u001b[0;34m\u001b[0m\u001b[0;34m\u001b[0m\u001b[0m\n\u001b[0;32m--> 828\u001b[0;31m       \u001b[0mresult\u001b[0m \u001b[0;34m=\u001b[0m \u001b[0mself\u001b[0m\u001b[0;34m.\u001b[0m\u001b[0m_call\u001b[0m\u001b[0;34m(\u001b[0m\u001b[0;34m*\u001b[0m\u001b[0margs\u001b[0m\u001b[0;34m,\u001b[0m \u001b[0;34m**\u001b[0m\u001b[0mkwds\u001b[0m\u001b[0;34m)\u001b[0m\u001b[0;34m\u001b[0m\u001b[0;34m\u001b[0m\u001b[0m\n\u001b[0m\u001b[1;32m    829\u001b[0m       \u001b[0mcompiler\u001b[0m \u001b[0;34m=\u001b[0m \u001b[0;34m\"xla\"\u001b[0m \u001b[0;32mif\u001b[0m \u001b[0mself\u001b[0m\u001b[0;34m.\u001b[0m\u001b[0m_experimental_compile\u001b[0m \u001b[0;32melse\u001b[0m \u001b[0;34m\"nonXla\"\u001b[0m\u001b[0;34m\u001b[0m\u001b[0;34m\u001b[0m\u001b[0m\n\u001b[1;32m    830\u001b[0m       \u001b[0mnew_tracing_count\u001b[0m \u001b[0;34m=\u001b[0m \u001b[0mself\u001b[0m\u001b[0;34m.\u001b[0m\u001b[0mexperimental_get_tracing_count\u001b[0m\u001b[0;34m(\u001b[0m\u001b[0;34m)\u001b[0m\u001b[0;34m\u001b[0m\u001b[0;34m\u001b[0m\u001b[0m\n",
            "\u001b[0;32m/usr/local/lib/python3.7/dist-packages/tensorflow/python/eager/def_function.py\u001b[0m in \u001b[0;36m_call\u001b[0;34m(self, *args, **kwds)\u001b[0m\n\u001b[1;32m    853\u001b[0m       \u001b[0;31m# In this case we have created variables on the first call, so we run the\u001b[0m\u001b[0;34m\u001b[0m\u001b[0;34m\u001b[0m\u001b[0;34m\u001b[0m\u001b[0m\n\u001b[1;32m    854\u001b[0m       \u001b[0;31m# defunned version which is guaranteed to never create variables.\u001b[0m\u001b[0;34m\u001b[0m\u001b[0;34m\u001b[0m\u001b[0;34m\u001b[0m\u001b[0m\n\u001b[0;32m--> 855\u001b[0;31m       \u001b[0;32mreturn\u001b[0m \u001b[0mself\u001b[0m\u001b[0;34m.\u001b[0m\u001b[0m_stateless_fn\u001b[0m\u001b[0;34m(\u001b[0m\u001b[0;34m*\u001b[0m\u001b[0margs\u001b[0m\u001b[0;34m,\u001b[0m \u001b[0;34m**\u001b[0m\u001b[0mkwds\u001b[0m\u001b[0;34m)\u001b[0m  \u001b[0;31m# pylint: disable=not-callable\u001b[0m\u001b[0;34m\u001b[0m\u001b[0;34m\u001b[0m\u001b[0m\n\u001b[0m\u001b[1;32m    856\u001b[0m     \u001b[0;32melif\u001b[0m \u001b[0mself\u001b[0m\u001b[0;34m.\u001b[0m\u001b[0m_stateful_fn\u001b[0m \u001b[0;32mis\u001b[0m \u001b[0;32mnot\u001b[0m \u001b[0;32mNone\u001b[0m\u001b[0;34m:\u001b[0m\u001b[0;34m\u001b[0m\u001b[0;34m\u001b[0m\u001b[0m\n\u001b[1;32m    857\u001b[0m       \u001b[0;31m# Release the lock early so that multiple threads can perform the call\u001b[0m\u001b[0;34m\u001b[0m\u001b[0;34m\u001b[0m\u001b[0;34m\u001b[0m\u001b[0m\n",
            "\u001b[0;32m/usr/local/lib/python3.7/dist-packages/tensorflow/python/eager/function.py\u001b[0m in \u001b[0;36m__call__\u001b[0;34m(self, *args, **kwargs)\u001b[0m\n\u001b[1;32m   2941\u001b[0m        filtered_flat_args) = self._maybe_define_function(args, kwargs)\n\u001b[1;32m   2942\u001b[0m     return graph_function._call_flat(\n\u001b[0;32m-> 2943\u001b[0;31m         filtered_flat_args, captured_inputs=graph_function.captured_inputs)  # pylint: disable=protected-access\n\u001b[0m\u001b[1;32m   2944\u001b[0m \u001b[0;34m\u001b[0m\u001b[0m\n\u001b[1;32m   2945\u001b[0m   \u001b[0;34m@\u001b[0m\u001b[0mproperty\u001b[0m\u001b[0;34m\u001b[0m\u001b[0;34m\u001b[0m\u001b[0m\n",
            "\u001b[0;32m/usr/local/lib/python3.7/dist-packages/tensorflow/python/eager/function.py\u001b[0m in \u001b[0;36m_call_flat\u001b[0;34m(self, args, captured_inputs, cancellation_manager)\u001b[0m\n\u001b[1;32m   1917\u001b[0m       \u001b[0;31m# No tape is watching; skip to running the function.\u001b[0m\u001b[0;34m\u001b[0m\u001b[0;34m\u001b[0m\u001b[0;34m\u001b[0m\u001b[0m\n\u001b[1;32m   1918\u001b[0m       return self._build_call_outputs(self._inference_function.call(\n\u001b[0;32m-> 1919\u001b[0;31m           ctx, args, cancellation_manager=cancellation_manager))\n\u001b[0m\u001b[1;32m   1920\u001b[0m     forward_backward = self._select_forward_and_backward_functions(\n\u001b[1;32m   1921\u001b[0m         \u001b[0margs\u001b[0m\u001b[0;34m,\u001b[0m\u001b[0;34m\u001b[0m\u001b[0;34m\u001b[0m\u001b[0m\n",
            "\u001b[0;32m/usr/local/lib/python3.7/dist-packages/tensorflow/python/eager/function.py\u001b[0m in \u001b[0;36mcall\u001b[0;34m(self, ctx, args, cancellation_manager)\u001b[0m\n\u001b[1;32m    558\u001b[0m               \u001b[0minputs\u001b[0m\u001b[0;34m=\u001b[0m\u001b[0margs\u001b[0m\u001b[0;34m,\u001b[0m\u001b[0;34m\u001b[0m\u001b[0;34m\u001b[0m\u001b[0m\n\u001b[1;32m    559\u001b[0m               \u001b[0mattrs\u001b[0m\u001b[0;34m=\u001b[0m\u001b[0mattrs\u001b[0m\u001b[0;34m,\u001b[0m\u001b[0;34m\u001b[0m\u001b[0;34m\u001b[0m\u001b[0m\n\u001b[0;32m--> 560\u001b[0;31m               ctx=ctx)\n\u001b[0m\u001b[1;32m    561\u001b[0m         \u001b[0;32melse\u001b[0m\u001b[0;34m:\u001b[0m\u001b[0;34m\u001b[0m\u001b[0;34m\u001b[0m\u001b[0m\n\u001b[1;32m    562\u001b[0m           outputs = execute.execute_with_cancellation(\n",
            "\u001b[0;32m/usr/local/lib/python3.7/dist-packages/tensorflow/python/eager/execute.py\u001b[0m in \u001b[0;36mquick_execute\u001b[0;34m(op_name, num_outputs, inputs, attrs, ctx, name)\u001b[0m\n\u001b[1;32m     58\u001b[0m     \u001b[0mctx\u001b[0m\u001b[0;34m.\u001b[0m\u001b[0mensure_initialized\u001b[0m\u001b[0;34m(\u001b[0m\u001b[0;34m)\u001b[0m\u001b[0;34m\u001b[0m\u001b[0;34m\u001b[0m\u001b[0m\n\u001b[1;32m     59\u001b[0m     tensors = pywrap_tfe.TFE_Py_Execute(ctx._handle, device_name, op_name,\n\u001b[0;32m---> 60\u001b[0;31m                                         inputs, attrs, num_outputs)\n\u001b[0m\u001b[1;32m     61\u001b[0m   \u001b[0;32mexcept\u001b[0m \u001b[0mcore\u001b[0m\u001b[0;34m.\u001b[0m\u001b[0m_NotOkStatusException\u001b[0m \u001b[0;32mas\u001b[0m \u001b[0me\u001b[0m\u001b[0;34m:\u001b[0m\u001b[0;34m\u001b[0m\u001b[0;34m\u001b[0m\u001b[0m\n\u001b[1;32m     62\u001b[0m     \u001b[0;32mif\u001b[0m \u001b[0mname\u001b[0m \u001b[0;32mis\u001b[0m \u001b[0;32mnot\u001b[0m \u001b[0;32mNone\u001b[0m\u001b[0;34m:\u001b[0m\u001b[0;34m\u001b[0m\u001b[0;34m\u001b[0m\u001b[0m\n",
            "\u001b[0;31mKeyboardInterrupt\u001b[0m: "
          ]
        }
      ]
    },
    {
      "cell_type": "code",
      "metadata": {
        "colab": {
          "base_uri": "https://localhost:8080/"
        },
        "id": "0T8WM8ZRrbg3",
        "outputId": "65b1184e-80f0-416d-9831-7648de17f423"
      },
      "source": [
        "p_tst"
      ],
      "execution_count": null,
      "outputs": [
        {
          "output_type": "execute_result",
          "data": {
            "text/plain": [
              "array([[0.03426597, 0.94635035, 0.01938369],\n",
              "       [0.06653986, 0.89953682, 0.03392335],\n",
              "       [0.04422927, 0.90984908, 0.04592167],\n",
              "       ...,\n",
              "       [0.01682603, 0.96347289, 0.01970106],\n",
              "       [0.01671887, 0.96481106, 0.01847007],\n",
              "       [0.04878362, 0.92682797, 0.02438842]])"
            ]
          },
          "metadata": {
            "tags": []
          },
          "execution_count": 21
        }
      ]
    },
    {
      "cell_type": "code",
      "metadata": {
        "id": "7t56tAtCuoJT"
      },
      "source": [
        "y_pred_proba1=[]\n",
        "for i in range(len(p_tst)):\n",
        "  if p_tst[i][0]>p_tst[i][1] and p_tst[i][0]>p_tst[i][2]:\n",
        "    y_pred_proba1.append(0)\n",
        "  elif p_tst[i][1]>p_tst[i][0] and p_tst[i][1]>p_tst[i][2]:\n",
        "    y_pred_proba1.append(1)\n",
        "  elif p_tst[i][2]>p_tst[i][0] and p_tst[i][2]>p_tst[i][1]:\n",
        "    y_pred_proba1.append(2)"
      ],
      "execution_count": null,
      "outputs": []
    },
    {
      "cell_type": "code",
      "metadata": {
        "id": "0MYGe47vuoJb"
      },
      "source": [
        "from sklearn.metrics import accuracy_score\n",
        "acc = accuracy_score(y_test, y_pred_proba1)"
      ],
      "execution_count": null,
      "outputs": []
    },
    {
      "cell_type": "code",
      "metadata": {
        "colab": {
          "base_uri": "https://localhost:8080/"
        },
        "id": "jiaEJ1TyuoJc",
        "outputId": "ff2fd680-4ee9-4ae3-81b2-17aef549eb71"
      },
      "source": [
        "print(acc)"
      ],
      "execution_count": null,
      "outputs": [
        {
          "output_type": "stream",
          "text": [
            "0.8557610929754564\n"
          ],
          "name": "stdout"
        }
      ]
    },
    {
      "cell_type": "code",
      "metadata": {
        "colab": {
          "base_uri": "https://localhost:8080/"
        },
        "id": "MPzQTm1wuoJd",
        "outputId": "26a54ee1-2efe-4141-b9d7-c3061439b977"
      },
      "source": [
        "from sklearn.metrics import confusion_matrix\n",
        "from sklearn.metrics import classification_report\n",
        "\n",
        "print(confusion_matrix(y_test, y_pred_proba1))\n",
        "print(classification_report(y_test, y_pred_proba1, target_names=['0', '1', '2']))"
      ],
      "execution_count": null,
      "outputs": [
        {
          "output_type": "stream",
          "text": [
            "[[ 988  593    0]\n",
            " [ 311 6089    2]\n",
            " [  92  195    1]]\n",
            "              precision    recall  f1-score   support\n",
            "\n",
            "           0       0.71      0.62      0.66      1581\n",
            "           1       0.89      0.95      0.92      6402\n",
            "           2       0.33      0.00      0.01       288\n",
            "\n",
            "    accuracy                           0.86      8271\n",
            "   macro avg       0.64      0.53      0.53      8271\n",
            "weighted avg       0.83      0.86      0.84      8271\n",
            "\n"
          ],
          "name": "stdout"
        }
      ]
    },
    {
      "cell_type": "code",
      "metadata": {
        "colab": {
          "base_uri": "https://localhost:8080/"
        },
        "id": "9Vqf4bQtu8dJ",
        "outputId": "d060244f-8bd1-47ac-f3e9-ce4e92b5095f"
      },
      "source": [
        "from sklearn.metrics import accuracy_score, log_loss\n",
        "\n",
        "print(f'Accuracy (CV): {accuracy_score(y_train, np.argmax(p_val, axis=1)) * 100:8.4f}%')\n",
        "print(f'Log Loss (CV): {log_loss(pd.get_dummies(y_train), p_val):8.4f}')"
      ],
      "execution_count": null,
      "outputs": [
        {
          "output_type": "stream",
          "text": [
            "Accuracy (CV):  84.7237%\n",
            "Log Loss (CV):   0.3945\n"
          ],
          "name": "stdout"
        }
      ]
    },
    {
      "cell_type": "code",
      "metadata": {
        "id": "PQUJlSpWvYD8"
      },
      "source": [
        "from keras.models import load_model\n",
        "\n",
        "model.save('Bert__model.h5')"
      ],
      "execution_count": null,
      "outputs": []
    }
  ]
}