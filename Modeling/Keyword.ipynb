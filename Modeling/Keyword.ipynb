{
 "metadata": {
  "language_info": {
   "codemirror_mode": {
    "name": "ipython",
    "version": 3
   },
   "file_extension": ".py",
   "mimetype": "text/x-python",
   "name": "python",
   "nbconvert_exporter": "python",
   "pygments_lexer": "ipython3",
   "version": "3.7.3"
  },
  "orig_nbformat": 2,
  "kernelspec": {
   "name": "python373jvsc74a57bd0e48d23369a553edc96f1373b6255b5687d82d68cd08867622b2500e338930542",
   "display_name": "Python 3.7.3 64-bit ('base': conda)"
  }
 },
 "nbformat": 4,
 "nbformat_minor": 2,
 "cells": [
  {
   "cell_type": "code",
   "execution_count": 1,
   "metadata": {},
   "outputs": [],
   "source": [
    "import pandas as pd\n",
    "from konlpy.tag import Okt\n",
    "import re\n",
    "import numpy as np\n",
    "from sklearn.feature_extraction.text import TfidfVectorizer\n",
    "from math import log\n",
    "from operator import itemgetter"
   ]
  },
  {
   "cell_type": "code",
   "execution_count": 2,
   "metadata": {},
   "outputs": [],
   "source": [
    "dataset = pd.read_csv('D:/LikeLion/Code/Project2/Data/spell_check_label.csv',encoding='utf-8')"
   ]
  },
  {
   "cell_type": "code",
   "execution_count": 3,
   "metadata": {},
   "outputs": [
    {
     "output_type": "execute_result",
     "data": {
      "text/plain": [
       "        reviewID  cleanliness  convenience  kindness  position  totalScore  \\\n",
       "0       10737608            1            1         1         1           1   \n",
       "1       10737608            1            1         1         1           1   \n",
       "2       10737608            1            1         1         1           1   \n",
       "3       10736181            5            5         5         5           5   \n",
       "4       10736181            5            5         5         5           5   \n",
       "...          ...          ...          ...       ...       ...         ...   \n",
       "112058   2893006            5            5         5         5           5   \n",
       "112059   2846155            4            4         4         4           4   \n",
       "112060   2845540            4            3         4         3           5   \n",
       "112061   2840630            3            3         3         3           4   \n",
       "112062   2835989            5            5         4         4           4   \n",
       "\n",
       "                                                  content        date  \\\n",
       "0       전철 다니는 소리때문에 잠을 못자겠습니다. 전철이 밤 늦게까지 새벽 일찍부터 다녀서...  2020-11-07   \n",
       "1       전철 다니는 소리때문에 잠을 못자겠습니다. 전철이 밤 늦게까지 새벽 일찍부터 다녀서...  2020-11-07   \n",
       "2       전철 다니는 소리때문에 잠을 못자겠습니다. 전철이 밤 늦게까지 새벽 일찍부터 다녀서...  2020-11-07   \n",
       "3       침대가 넓어서 너무 좋았어요! 접근성도 좋아서 추천합니다! 다만 화장실이 특이하게 ...  2020-11-07   \n",
       "4       침대가 넓어서 너무 좋았어요! 접근성도 좋아서 추천합니다! 다만 화장실이 특이하게 ...  2020-11-07   \n",
       "...                                                   ...         ...   \n",
       "112058                                         깨끗하고 좋았어요   2018-08-12   \n",
       "112059                                              만족합니다  2018-08-08   \n",
       "112060                                              좋았습니다  2018-08-08   \n",
       "112061                                      일방통행이라 주차하기별로  2018-08-07   \n",
       "112062                                              네 좋아요  2018-08-07   \n",
       "\n",
       "                              hotelAddr hotelGrade         hotelLoc  \\\n",
       "0               서울특별시 영등포구 영등포동1가 143-3        4성급  영등포역 5번출구 도보 3분   \n",
       "1               서울특별시 영등포구 영등포동1가 143-3        4성급  영등포역 5번출구 도보 3분   \n",
       "2               서울특별시 영등포구 영등포동1가 143-3        4성급  영등포역 5번출구 도보 3분   \n",
       "3               서울특별시 영등포구 영등포동1가 143-3        4성급  영등포역 5번출구 도보 3분   \n",
       "4               서울특별시 영등포구 영등포동1가 143-3        4성급  영등포역 5번출구 도보 3분   \n",
       "...                                 ...        ...              ...   \n",
       "112058  서울특별시 서초구 서초동 1337-3 강남역 푸르지오시티       레지던스    강남역 5번출구 도보5분   \n",
       "112059  서울특별시 서초구 서초동 1337-3 강남역 푸르지오시티       레지던스    강남역 5번출구 도보5분   \n",
       "112060  서울특별시 서초구 서초동 1337-3 강남역 푸르지오시티       레지던스    강남역 5번출구 도보5분   \n",
       "112061  서울특별시 서초구 서초동 1337-3 강남역 푸르지오시티       레지던스    강남역 5번출구 도보5분   \n",
       "112062  서울특별시 서초구 서초동 1337-3 강남역 푸르지오시티       레지던스    강남역 5번출구 도보5분   \n",
       "\n",
       "              hotelName  label                           sentence  \\\n",
       "0       페어필드 바이 메리어트 서울      0            전철 다니는 소리때문에 잠을 못자겠습니다.   \n",
       "1       페어필드 바이 메리어트 서울      0  전철이 밤 늦게까지 새벽 일찍부터 다녀서 몇시간 못잤습니다.   \n",
       "2       페어필드 바이 메리어트 서울      0                     그리고 어매니티가 핵구림.   \n",
       "3       페어필드 바이 메리어트 서울      1                   침대가 넓어서 너무 좋았어요!   \n",
       "4       페어필드 바이 메리어트 서울      1                    접근성도 좋아서 추천합니다!   \n",
       "...                 ...    ...                                ...   \n",
       "112058        어반플레이스 강남      1                          깨끗하고 좋았어요   \n",
       "112059        어반플레이스 강남      1                              만족합니다   \n",
       "112060        어반플레이스 강남      1                              좋았습니다   \n",
       "112061        어반플레이스 강남      0                      일방통행이라 주차하기별로   \n",
       "112062        어반플레이스 강남      1                              네 좋아요   \n",
       "\n",
       "                                     fixed  probability  \n",
       "0                전철 다니는 소리 때문에 잠을 못 자겠습니다.    99.305508  \n",
       "1       전철이 밤늦게까지 새벽 일찍부터 다녀서 몇 시간 못 잤습니다.    95.283567  \n",
       "2                           그리고 어메니티가 핵구림.    95.697711  \n",
       "3                         침대가 넓어서 너무 좋았어요!    99.883437  \n",
       "4                          접근성도 좋아서 추천합니다!    99.991143  \n",
       "...                                    ...          ...  \n",
       "112058                           깨끗하고 좋았어요    99.989110  \n",
       "112059                               만족합니다    99.957941  \n",
       "112060                               좋았습니다    99.998638  \n",
       "112061                       일방통행이라 주차하기별로    97.179903  \n",
       "112062                               네 좋아요    94.580398  \n",
       "\n",
       "[112063 rows x 16 columns]"
      ],
      "text/html": "<div>\n<style scoped>\n    .dataframe tbody tr th:only-of-type {\n        vertical-align: middle;\n    }\n\n    .dataframe tbody tr th {\n        vertical-align: top;\n    }\n\n    .dataframe thead th {\n        text-align: right;\n    }\n</style>\n<table border=\"1\" class=\"dataframe\">\n  <thead>\n    <tr style=\"text-align: right;\">\n      <th></th>\n      <th>reviewID</th>\n      <th>cleanliness</th>\n      <th>convenience</th>\n      <th>kindness</th>\n      <th>position</th>\n      <th>totalScore</th>\n      <th>content</th>\n      <th>date</th>\n      <th>hotelAddr</th>\n      <th>hotelGrade</th>\n      <th>hotelLoc</th>\n      <th>hotelName</th>\n      <th>label</th>\n      <th>sentence</th>\n      <th>fixed</th>\n      <th>probability</th>\n    </tr>\n  </thead>\n  <tbody>\n    <tr>\n      <th>0</th>\n      <td>10737608</td>\n      <td>1</td>\n      <td>1</td>\n      <td>1</td>\n      <td>1</td>\n      <td>1</td>\n      <td>전철 다니는 소리때문에 잠을 못자겠습니다. 전철이 밤 늦게까지 새벽 일찍부터 다녀서...</td>\n      <td>2020-11-07</td>\n      <td>서울특별시 영등포구 영등포동1가 143-3</td>\n      <td>4성급</td>\n      <td>영등포역 5번출구 도보 3분</td>\n      <td>페어필드 바이 메리어트 서울</td>\n      <td>0</td>\n      <td>전철 다니는 소리때문에 잠을 못자겠습니다.</td>\n      <td>전철 다니는 소리 때문에 잠을 못 자겠습니다.</td>\n      <td>99.305508</td>\n    </tr>\n    <tr>\n      <th>1</th>\n      <td>10737608</td>\n      <td>1</td>\n      <td>1</td>\n      <td>1</td>\n      <td>1</td>\n      <td>1</td>\n      <td>전철 다니는 소리때문에 잠을 못자겠습니다. 전철이 밤 늦게까지 새벽 일찍부터 다녀서...</td>\n      <td>2020-11-07</td>\n      <td>서울특별시 영등포구 영등포동1가 143-3</td>\n      <td>4성급</td>\n      <td>영등포역 5번출구 도보 3분</td>\n      <td>페어필드 바이 메리어트 서울</td>\n      <td>0</td>\n      <td>전철이 밤 늦게까지 새벽 일찍부터 다녀서 몇시간 못잤습니다.</td>\n      <td>전철이 밤늦게까지 새벽 일찍부터 다녀서 몇 시간 못 잤습니다.</td>\n      <td>95.283567</td>\n    </tr>\n    <tr>\n      <th>2</th>\n      <td>10737608</td>\n      <td>1</td>\n      <td>1</td>\n      <td>1</td>\n      <td>1</td>\n      <td>1</td>\n      <td>전철 다니는 소리때문에 잠을 못자겠습니다. 전철이 밤 늦게까지 새벽 일찍부터 다녀서...</td>\n      <td>2020-11-07</td>\n      <td>서울특별시 영등포구 영등포동1가 143-3</td>\n      <td>4성급</td>\n      <td>영등포역 5번출구 도보 3분</td>\n      <td>페어필드 바이 메리어트 서울</td>\n      <td>0</td>\n      <td>그리고 어매니티가 핵구림.</td>\n      <td>그리고 어메니티가 핵구림.</td>\n      <td>95.697711</td>\n    </tr>\n    <tr>\n      <th>3</th>\n      <td>10736181</td>\n      <td>5</td>\n      <td>5</td>\n      <td>5</td>\n      <td>5</td>\n      <td>5</td>\n      <td>침대가 넓어서 너무 좋았어요! 접근성도 좋아서 추천합니다! 다만 화장실이 특이하게 ...</td>\n      <td>2020-11-07</td>\n      <td>서울특별시 영등포구 영등포동1가 143-3</td>\n      <td>4성급</td>\n      <td>영등포역 5번출구 도보 3분</td>\n      <td>페어필드 바이 메리어트 서울</td>\n      <td>1</td>\n      <td>침대가 넓어서 너무 좋았어요!</td>\n      <td>침대가 넓어서 너무 좋았어요!</td>\n      <td>99.883437</td>\n    </tr>\n    <tr>\n      <th>4</th>\n      <td>10736181</td>\n      <td>5</td>\n      <td>5</td>\n      <td>5</td>\n      <td>5</td>\n      <td>5</td>\n      <td>침대가 넓어서 너무 좋았어요! 접근성도 좋아서 추천합니다! 다만 화장실이 특이하게 ...</td>\n      <td>2020-11-07</td>\n      <td>서울특별시 영등포구 영등포동1가 143-3</td>\n      <td>4성급</td>\n      <td>영등포역 5번출구 도보 3분</td>\n      <td>페어필드 바이 메리어트 서울</td>\n      <td>1</td>\n      <td>접근성도 좋아서 추천합니다!</td>\n      <td>접근성도 좋아서 추천합니다!</td>\n      <td>99.991143</td>\n    </tr>\n    <tr>\n      <th>...</th>\n      <td>...</td>\n      <td>...</td>\n      <td>...</td>\n      <td>...</td>\n      <td>...</td>\n      <td>...</td>\n      <td>...</td>\n      <td>...</td>\n      <td>...</td>\n      <td>...</td>\n      <td>...</td>\n      <td>...</td>\n      <td>...</td>\n      <td>...</td>\n      <td>...</td>\n      <td>...</td>\n    </tr>\n    <tr>\n      <th>112058</th>\n      <td>2893006</td>\n      <td>5</td>\n      <td>5</td>\n      <td>5</td>\n      <td>5</td>\n      <td>5</td>\n      <td>깨끗하고 좋았어요</td>\n      <td>2018-08-12</td>\n      <td>서울특별시 서초구 서초동 1337-3 강남역 푸르지오시티</td>\n      <td>레지던스</td>\n      <td>강남역 5번출구 도보5분</td>\n      <td>어반플레이스 강남</td>\n      <td>1</td>\n      <td>깨끗하고 좋았어요</td>\n      <td>깨끗하고 좋았어요</td>\n      <td>99.989110</td>\n    </tr>\n    <tr>\n      <th>112059</th>\n      <td>2846155</td>\n      <td>4</td>\n      <td>4</td>\n      <td>4</td>\n      <td>4</td>\n      <td>4</td>\n      <td>만족합니다</td>\n      <td>2018-08-08</td>\n      <td>서울특별시 서초구 서초동 1337-3 강남역 푸르지오시티</td>\n      <td>레지던스</td>\n      <td>강남역 5번출구 도보5분</td>\n      <td>어반플레이스 강남</td>\n      <td>1</td>\n      <td>만족합니다</td>\n      <td>만족합니다</td>\n      <td>99.957941</td>\n    </tr>\n    <tr>\n      <th>112060</th>\n      <td>2845540</td>\n      <td>4</td>\n      <td>3</td>\n      <td>4</td>\n      <td>3</td>\n      <td>5</td>\n      <td>좋았습니다</td>\n      <td>2018-08-08</td>\n      <td>서울특별시 서초구 서초동 1337-3 강남역 푸르지오시티</td>\n      <td>레지던스</td>\n      <td>강남역 5번출구 도보5분</td>\n      <td>어반플레이스 강남</td>\n      <td>1</td>\n      <td>좋았습니다</td>\n      <td>좋았습니다</td>\n      <td>99.998638</td>\n    </tr>\n    <tr>\n      <th>112061</th>\n      <td>2840630</td>\n      <td>3</td>\n      <td>3</td>\n      <td>3</td>\n      <td>3</td>\n      <td>4</td>\n      <td>일방통행이라 주차하기별로</td>\n      <td>2018-08-07</td>\n      <td>서울특별시 서초구 서초동 1337-3 강남역 푸르지오시티</td>\n      <td>레지던스</td>\n      <td>강남역 5번출구 도보5분</td>\n      <td>어반플레이스 강남</td>\n      <td>0</td>\n      <td>일방통행이라 주차하기별로</td>\n      <td>일방통행이라 주차하기별로</td>\n      <td>97.179903</td>\n    </tr>\n    <tr>\n      <th>112062</th>\n      <td>2835989</td>\n      <td>5</td>\n      <td>5</td>\n      <td>4</td>\n      <td>4</td>\n      <td>4</td>\n      <td>네 좋아요</td>\n      <td>2018-08-07</td>\n      <td>서울특별시 서초구 서초동 1337-3 강남역 푸르지오시티</td>\n      <td>레지던스</td>\n      <td>강남역 5번출구 도보5분</td>\n      <td>어반플레이스 강남</td>\n      <td>1</td>\n      <td>네 좋아요</td>\n      <td>네 좋아요</td>\n      <td>94.580398</td>\n    </tr>\n  </tbody>\n</table>\n<p>112063 rows × 16 columns</p>\n</div>"
     },
     "metadata": {},
     "execution_count": 3
    }
   ],
   "source": [
    "dataset"
   ]
  },
  {
   "cell_type": "code",
   "execution_count": 4,
   "metadata": {},
   "outputs": [],
   "source": [
    "hotel_name = list(dataset.groupby('hotelName').count().index)\n",
    "groups = dataset.groupby(dataset.hotelName)"
   ]
  },
  {
   "cell_type": "code",
   "execution_count": 5,
   "metadata": {},
   "outputs": [
    {
     "output_type": "execute_result",
     "data": {
      "text/plain": [
       "32"
      ]
     },
     "metadata": {},
     "execution_count": 5
    }
   ],
   "source": [
    "len(hotel_name)"
   ]
  },
  {
   "cell_type": "code",
   "execution_count": 6,
   "metadata": {},
   "outputs": [],
   "source": [
    "for i, name in enumerate(hotel_name):\n",
    "    globals()['df_{}'.format(i)] = groups.get_group(name)"
   ]
  },
  {
   "cell_type": "code",
   "execution_count": 7,
   "metadata": {},
   "outputs": [],
   "source": [
    "df_0_neg = df_0[df_0['label']==0].copy()"
   ]
  },
  {
   "cell_type": "code",
   "execution_count": 8,
   "metadata": {},
   "outputs": [],
   "source": [
    "df_0_neg['fixed'] = df_0_neg['fixed'].apply(lambda x: re.sub(r\"\\d+\",\" \",x))"
   ]
  },
  {
   "cell_type": "code",
   "execution_count": 9,
   "metadata": {},
   "outputs": [
    {
     "output_type": "execute_result",
     "data": {
      "text/plain": [
       "       reviewID  cleanliness  convenience  kindness  position  totalScore  \\\n",
       "86426  12735450            1            1         1         1           1   \n",
       "86429  12687833            4            4         4         4           4   \n",
       "86431  12671199            3            5         5         5           5   \n",
       "86434  12644471            4            2         5         2           3   \n",
       "86435  12639619            3            2         1         1           1   \n",
       "...         ...          ...          ...       ...       ...         ...   \n",
       "87897   7871842            5            5         4         4           4   \n",
       "87899   7871842            5            5         4         4           4   \n",
       "87901   7857671            4            5         5         5           4   \n",
       "87902   7857671            4            5         5         5           4   \n",
       "87906   7834806            5            3         5         4           4   \n",
       "\n",
       "                                                 content        date  \\\n",
       "86426                                               흐 음.  2021-05-02   \n",
       "86429                                    만족합니다 주차장은 협소해요  2021-04-28   \n",
       "86431                              먼지가 좀 있지만 하루 있기에는 좋아요  2021-04-27   \n",
       "86434  전화기가 없는게 가장 큰 불편함.뭘 물어보려는데 1층까지 가야했음.교통 위치접근성은...  2021-04-24   \n",
       "86435                           서비스 형편 없어요 다시는 가고 싶지 않아요  2021-04-24   \n",
       "...                                                  ...         ...   \n",
       "87897  체크아웃시에 데스크에 사람이 없어서.1분 기다림 그거 말고는 요즘 코로나로 관광객이...  2020-02-06   \n",
       "87899  체크아웃시에 데스크에 사람이 없어서.1분 기다림 그거 말고는 요즘 코로나로 관광객이...  2020-02-06   \n",
       "87901  찾기 어렵지 않고 리버뷰 바로앞이 아파트와 폐골프연습장 이상해도 멀리보기엔 욕조에서...  2020-02-04   \n",
       "87902  찾기 어렵지 않고 리버뷰 바로앞이 아파트와 폐골프연습장 이상해도 멀리보기엔 욕조에서...  2020-02-04   \n",
       "87906                    깨끗하고 좋았으나 더블룸인데 트윈침대 두개 붙여두셨네요.  2020-02-02   \n",
       "\n",
       "                 hotelAddr hotelGrade        hotelLoc  hotelName  label  \\\n",
       "86426  서울특별시 강서구 염창동 20-85        3성급  증미역 2번출구 도보 9분  JK 블라썸 호텔      0   \n",
       "86429  서울특별시 강서구 염창동 20-85        3성급  증미역 2번출구 도보 9분  JK 블라썸 호텔      0   \n",
       "86431  서울특별시 강서구 염창동 20-85        3성급  증미역 2번출구 도보 9분  JK 블라썸 호텔      0   \n",
       "86434  서울특별시 강서구 염창동 20-85        3성급  증미역 2번출구 도보 9분  JK 블라썸 호텔      0   \n",
       "86435  서울특별시 강서구 염창동 20-85        3성급  증미역 2번출구 도보 9분  JK 블라썸 호텔      0   \n",
       "...                    ...        ...             ...        ...    ...   \n",
       "87897  서울특별시 강서구 염창동 20-85        3성급  증미역 2번출구 도보 9분  JK 블라썸 호텔      0   \n",
       "87899  서울특별시 강서구 염창동 20-85        3성급  증미역 2번출구 도보 9분  JK 블라썸 호텔      0   \n",
       "87901  서울특별시 강서구 염창동 20-85        3성급  증미역 2번출구 도보 9분  JK 블라썸 호텔      0   \n",
       "87902  서울특별시 강서구 염창동 20-85        3성급  증미역 2번출구 도보 9분  JK 블라썸 호텔      0   \n",
       "87906  서울특별시 강서구 염창동 20-85        3성급  증미역 2번출구 도보 9분  JK 블라썸 호텔      0   \n",
       "\n",
       "                                                sentence  \\\n",
       "86426                                               흐 음.   \n",
       "86429                                          주차장은 협소해요   \n",
       "86431                              먼지가 좀 있지만 하루 있기에는 좋아요   \n",
       "86434  전화기가 없는게 가장 큰 불편함.뭘 물어보려는데 1층까지 가야했음.교통 위치접근성은...   \n",
       "86435                                         서비스 형편 없어요   \n",
       "...                                                  ...   \n",
       "87897                               체크아웃시에 데스크에 사람이 없어서.   \n",
       "87899  주차장은 조금 더 넓게 만드셨으면 주말에 늦게가면 꼭 기계식 이용함 주차장 안내 해...   \n",
       "87901  찾기 어렵지 않고 리버뷰 바로앞이 아파트와 폐골프연습장 이상해도 멀리보기엔 욕조에서...   \n",
       "87902                      더운물이 쉽게 나오지 않아요찬물나오기 한참후에 나옴.   \n",
       "87906                    깨끗하고 좋았으나 더블룸인데 트윈침대 두개 붙여두셨네요.   \n",
       "\n",
       "                                                   fixed  probability  \n",
       "86426                                               흐 음.    65.692143  \n",
       "86429                                          주차장은 협소해요    92.758669  \n",
       "86431                              먼지가 좀 있지만 하루 있기에는 좋아요    99.925895  \n",
       "86434  전화기가 없는 게 가장 큰 불편함. 뭘 물어보려는데  층까지 가야 했음. 교통 위치...    62.882862  \n",
       "86435                                          서비스 형편없어요    95.918297  \n",
       "...                                                  ...          ...  \n",
       "87897                              체크아웃 시에 데스크에 사람이 없어서.    97.993915  \n",
       "87899  주차장은 조금 더 넓게 만드셨으면 주말에 늦게 가면 꼭 기계식 이용함 주차장 안내해...    81.229856  \n",
       "87901  찾기 어렵지 않고 리버뷰 바로 앞이 아파트와 폐골프연습장 이상해도 멀리 보기엔 욕조...    62.881339  \n",
       "87902                   더운물이 쉽게 나오지 않아요 찬물 나오기 한참 후에 나옴.    99.944473  \n",
       "87906                   깨끗하고 좋았으나 더블룸인데 트윈침대 두 개 붙여두셨네요.    68.287791  \n",
       "\n",
       "[424 rows x 16 columns]"
      ],
      "text/html": "<div>\n<style scoped>\n    .dataframe tbody tr th:only-of-type {\n        vertical-align: middle;\n    }\n\n    .dataframe tbody tr th {\n        vertical-align: top;\n    }\n\n    .dataframe thead th {\n        text-align: right;\n    }\n</style>\n<table border=\"1\" class=\"dataframe\">\n  <thead>\n    <tr style=\"text-align: right;\">\n      <th></th>\n      <th>reviewID</th>\n      <th>cleanliness</th>\n      <th>convenience</th>\n      <th>kindness</th>\n      <th>position</th>\n      <th>totalScore</th>\n      <th>content</th>\n      <th>date</th>\n      <th>hotelAddr</th>\n      <th>hotelGrade</th>\n      <th>hotelLoc</th>\n      <th>hotelName</th>\n      <th>label</th>\n      <th>sentence</th>\n      <th>fixed</th>\n      <th>probability</th>\n    </tr>\n  </thead>\n  <tbody>\n    <tr>\n      <th>86426</th>\n      <td>12735450</td>\n      <td>1</td>\n      <td>1</td>\n      <td>1</td>\n      <td>1</td>\n      <td>1</td>\n      <td>흐 음.</td>\n      <td>2021-05-02</td>\n      <td>서울특별시 강서구 염창동 20-85</td>\n      <td>3성급</td>\n      <td>증미역 2번출구 도보 9분</td>\n      <td>JK 블라썸 호텔</td>\n      <td>0</td>\n      <td>흐 음.</td>\n      <td>흐 음.</td>\n      <td>65.692143</td>\n    </tr>\n    <tr>\n      <th>86429</th>\n      <td>12687833</td>\n      <td>4</td>\n      <td>4</td>\n      <td>4</td>\n      <td>4</td>\n      <td>4</td>\n      <td>만족합니다 주차장은 협소해요</td>\n      <td>2021-04-28</td>\n      <td>서울특별시 강서구 염창동 20-85</td>\n      <td>3성급</td>\n      <td>증미역 2번출구 도보 9분</td>\n      <td>JK 블라썸 호텔</td>\n      <td>0</td>\n      <td>주차장은 협소해요</td>\n      <td>주차장은 협소해요</td>\n      <td>92.758669</td>\n    </tr>\n    <tr>\n      <th>86431</th>\n      <td>12671199</td>\n      <td>3</td>\n      <td>5</td>\n      <td>5</td>\n      <td>5</td>\n      <td>5</td>\n      <td>먼지가 좀 있지만 하루 있기에는 좋아요</td>\n      <td>2021-04-27</td>\n      <td>서울특별시 강서구 염창동 20-85</td>\n      <td>3성급</td>\n      <td>증미역 2번출구 도보 9분</td>\n      <td>JK 블라썸 호텔</td>\n      <td>0</td>\n      <td>먼지가 좀 있지만 하루 있기에는 좋아요</td>\n      <td>먼지가 좀 있지만 하루 있기에는 좋아요</td>\n      <td>99.925895</td>\n    </tr>\n    <tr>\n      <th>86434</th>\n      <td>12644471</td>\n      <td>4</td>\n      <td>2</td>\n      <td>5</td>\n      <td>2</td>\n      <td>3</td>\n      <td>전화기가 없는게 가장 큰 불편함.뭘 물어보려는데 1층까지 가야했음.교통 위치접근성은...</td>\n      <td>2021-04-24</td>\n      <td>서울특별시 강서구 염창동 20-85</td>\n      <td>3성급</td>\n      <td>증미역 2번출구 도보 9분</td>\n      <td>JK 블라썸 호텔</td>\n      <td>0</td>\n      <td>전화기가 없는게 가장 큰 불편함.뭘 물어보려는데 1층까지 가야했음.교통 위치접근성은...</td>\n      <td>전화기가 없는 게 가장 큰 불편함. 뭘 물어보려는데  층까지 가야 했음. 교통 위치...</td>\n      <td>62.882862</td>\n    </tr>\n    <tr>\n      <th>86435</th>\n      <td>12639619</td>\n      <td>3</td>\n      <td>2</td>\n      <td>1</td>\n      <td>1</td>\n      <td>1</td>\n      <td>서비스 형편 없어요 다시는 가고 싶지 않아요</td>\n      <td>2021-04-24</td>\n      <td>서울특별시 강서구 염창동 20-85</td>\n      <td>3성급</td>\n      <td>증미역 2번출구 도보 9분</td>\n      <td>JK 블라썸 호텔</td>\n      <td>0</td>\n      <td>서비스 형편 없어요</td>\n      <td>서비스 형편없어요</td>\n      <td>95.918297</td>\n    </tr>\n    <tr>\n      <th>...</th>\n      <td>...</td>\n      <td>...</td>\n      <td>...</td>\n      <td>...</td>\n      <td>...</td>\n      <td>...</td>\n      <td>...</td>\n      <td>...</td>\n      <td>...</td>\n      <td>...</td>\n      <td>...</td>\n      <td>...</td>\n      <td>...</td>\n      <td>...</td>\n      <td>...</td>\n      <td>...</td>\n    </tr>\n    <tr>\n      <th>87897</th>\n      <td>7871842</td>\n      <td>5</td>\n      <td>5</td>\n      <td>4</td>\n      <td>4</td>\n      <td>4</td>\n      <td>체크아웃시에 데스크에 사람이 없어서.1분 기다림 그거 말고는 요즘 코로나로 관광객이...</td>\n      <td>2020-02-06</td>\n      <td>서울특별시 강서구 염창동 20-85</td>\n      <td>3성급</td>\n      <td>증미역 2번출구 도보 9분</td>\n      <td>JK 블라썸 호텔</td>\n      <td>0</td>\n      <td>체크아웃시에 데스크에 사람이 없어서.</td>\n      <td>체크아웃 시에 데스크에 사람이 없어서.</td>\n      <td>97.993915</td>\n    </tr>\n    <tr>\n      <th>87899</th>\n      <td>7871842</td>\n      <td>5</td>\n      <td>5</td>\n      <td>4</td>\n      <td>4</td>\n      <td>4</td>\n      <td>체크아웃시에 데스크에 사람이 없어서.1분 기다림 그거 말고는 요즘 코로나로 관광객이...</td>\n      <td>2020-02-06</td>\n      <td>서울특별시 강서구 염창동 20-85</td>\n      <td>3성급</td>\n      <td>증미역 2번출구 도보 9분</td>\n      <td>JK 블라썸 호텔</td>\n      <td>0</td>\n      <td>주차장은 조금 더 넓게 만드셨으면 주말에 늦게가면 꼭 기계식 이용함 주차장 안내 해...</td>\n      <td>주차장은 조금 더 넓게 만드셨으면 주말에 늦게 가면 꼭 기계식 이용함 주차장 안내해...</td>\n      <td>81.229856</td>\n    </tr>\n    <tr>\n      <th>87901</th>\n      <td>7857671</td>\n      <td>4</td>\n      <td>5</td>\n      <td>5</td>\n      <td>5</td>\n      <td>4</td>\n      <td>찾기 어렵지 않고 리버뷰 바로앞이 아파트와 폐골프연습장 이상해도 멀리보기엔 욕조에서...</td>\n      <td>2020-02-04</td>\n      <td>서울특별시 강서구 염창동 20-85</td>\n      <td>3성급</td>\n      <td>증미역 2번출구 도보 9분</td>\n      <td>JK 블라썸 호텔</td>\n      <td>0</td>\n      <td>찾기 어렵지 않고 리버뷰 바로앞이 아파트와 폐골프연습장 이상해도 멀리보기엔 욕조에서...</td>\n      <td>찾기 어렵지 않고 리버뷰 바로 앞이 아파트와 폐골프연습장 이상해도 멀리 보기엔 욕조...</td>\n      <td>62.881339</td>\n    </tr>\n    <tr>\n      <th>87902</th>\n      <td>7857671</td>\n      <td>4</td>\n      <td>5</td>\n      <td>5</td>\n      <td>5</td>\n      <td>4</td>\n      <td>찾기 어렵지 않고 리버뷰 바로앞이 아파트와 폐골프연습장 이상해도 멀리보기엔 욕조에서...</td>\n      <td>2020-02-04</td>\n      <td>서울특별시 강서구 염창동 20-85</td>\n      <td>3성급</td>\n      <td>증미역 2번출구 도보 9분</td>\n      <td>JK 블라썸 호텔</td>\n      <td>0</td>\n      <td>더운물이 쉽게 나오지 않아요찬물나오기 한참후에 나옴.</td>\n      <td>더운물이 쉽게 나오지 않아요 찬물 나오기 한참 후에 나옴.</td>\n      <td>99.944473</td>\n    </tr>\n    <tr>\n      <th>87906</th>\n      <td>7834806</td>\n      <td>5</td>\n      <td>3</td>\n      <td>5</td>\n      <td>4</td>\n      <td>4</td>\n      <td>깨끗하고 좋았으나 더블룸인데 트윈침대 두개 붙여두셨네요.</td>\n      <td>2020-02-02</td>\n      <td>서울특별시 강서구 염창동 20-85</td>\n      <td>3성급</td>\n      <td>증미역 2번출구 도보 9분</td>\n      <td>JK 블라썸 호텔</td>\n      <td>0</td>\n      <td>깨끗하고 좋았으나 더블룸인데 트윈침대 두개 붙여두셨네요.</td>\n      <td>깨끗하고 좋았으나 더블룸인데 트윈침대 두 개 붙여두셨네요.</td>\n      <td>68.287791</td>\n    </tr>\n  </tbody>\n</table>\n<p>424 rows × 16 columns</p>\n</div>"
     },
     "metadata": {},
     "execution_count": 9
    }
   ],
   "source": [
    "df_0_neg"
   ]
  },
  {
   "cell_type": "code",
   "execution_count": 50,
   "metadata": {},
   "outputs": [],
   "source": [
    "document_count = len(df_0_neg)"
   ]
  },
  {
   "cell_type": "code",
   "execution_count": 10,
   "metadata": {},
   "outputs": [],
   "source": [
    "okt = Okt()"
   ]
  },
  {
   "cell_type": "code",
   "execution_count": 11,
   "metadata": {},
   "outputs": [],
   "source": [
    "def okt_tokenizer(text):\n",
    "    tokens_ko = okt.morphs(text, norm=True, stem=True)\n",
    "    return re.sub('\\.','',' '.join(tokens_ko))"
   ]
  },
  {
   "cell_type": "code",
   "execution_count": 12,
   "metadata": {},
   "outputs": [],
   "source": [
    "df_0_neg['fixed'] = df_0_neg['fixed'].apply(lambda x: okt_tokenizer(x))"
   ]
  },
  {
   "cell_type": "code",
   "execution_count": 13,
   "metadata": {},
   "outputs": [],
   "source": [
    "documents = df_0_neg['fixed'].to_list()"
   ]
  },
  {
   "cell_type": "code",
   "execution_count": 14,
   "metadata": {},
   "outputs": [],
   "source": [
    "def get_term_frequency(document, word_dict=None):\n",
    "    if word_dict is None:\n",
    "        word_dict = {}\n",
    "    words = document.split()\n",
    "\n",
    "    for w in words:\n",
    "        word_dict[w] = 1 + (0 if word_dict.get(w) is None else word_dict[w])\n",
    "\n",
    "    return pd.Series(word_dict).sort_values(ascending=False)"
   ]
  },
  {
   "cell_type": "code",
   "execution_count": 25,
   "metadata": {},
   "outputs": [],
   "source": [
    "def get_document_frequency(documents):\n",
    "    dicts = []\n",
    "    vocab = set([])\n",
    "    df = {}\n",
    "\n",
    "    for d in documents:\n",
    "        tf = get_term_frequency(d)\n",
    "        dicts += [tf]\n",
    "        vocab = vocab | set(tf.keys())\n",
    "\n",
    "    for v in list(vocab):\n",
    "        df[v] = 0\n",
    "        for dict_d in dicts:\n",
    "            if dict_d.get(v) is not None:\n",
    "                df[v] += 1\n",
    "    \n",
    "    return pd.Series(df, name='df').sort_values(ascending=False)"
   ]
  },
  {
   "cell_type": "code",
   "execution_count": 16,
   "metadata": {},
   "outputs": [],
   "source": [
    "def get_tf(docs):\n",
    "    vocab = {}\n",
    "    tfs = []\n",
    "    for d in docs:\n",
    "        vocab = get_term_frequency(d, vocab)\n",
    "        tfs += [get_term_frequency(d)]\n",
    "\n",
    "    stats = []\n",
    "\n",
    "    for word, freq in vocab.items():\n",
    "        tf_v = []\n",
    "        for idx in range(len(docs)):\n",
    "            if tfs[idx].get(word) is not None:\n",
    "                tf_v += [tfs[idx][word]]\n",
    "            \n",
    "            else:\n",
    "                tf_v += [0]\n",
    "\n",
    "        stats.append((word, freq, *tf_v))\n",
    "\n",
    "    column_name = ['word','totalFrequency']\n",
    "\n",
    "    for i in range(1, len(docs)+1):\n",
    "        column_name.append('document'+str(i))\n",
    "\n",
    "    return pd.DataFrame(stats, columns=column_name).sort_values('totalFrequency', ascending=False)"
   ]
  },
  {
   "cell_type": "code",
   "execution_count": 17,
   "metadata": {},
   "outputs": [],
   "source": [
    "# def get_tfidf(docs):\n",
    "#     vocab = {}\n",
    "#     tfs = []\n",
    "#     for d in docs:\n",
    "#         vocab = get_term_frequency(d, vocab)\n",
    "#         tfs += [get_term_frequency(d)]\n",
    "    \n",
    "#     df = get_document_frequency(docs)\n",
    "\n",
    "#     stats = []\n",
    "\n",
    "#     for word, freq in vocab.items():\n",
    "#         tfidfs = []\n",
    "#         for idx in range(len(docs)):\n",
    "#             if tfs[idx].get(word) is not None:\n",
    "#                 tfidfs += [tfs[idx][word] * np.log(len(docs) / df[word])]\n",
    "            \n",
    "#             else:\n",
    "#                 tfidfs += [0]\n",
    "\n",
    "#         stats.append((word, freq, *tfidfs, max(tfidfs)))\n",
    "    \n",
    "#     column_name = ['word','totalFrequency']\n",
    "\n",
    "#     for i in range(1, len(docs)+1):\n",
    "#         column_name.append('document'+str(i))\n",
    "    \n",
    "#     column_name.append('max')\n",
    "\n",
    "#     return pd.DataFrame(stats, columns=column_name).sort_values('max', ascending=False)"
   ]
  },
  {
   "cell_type": "code",
   "execution_count": 26,
   "metadata": {},
   "outputs": [
    {
     "output_type": "stream",
     "name": "stderr",
     "text": [
      "ipykernel_launcher:9: DeprecationWarning: The default dtype for empty Series will be 'object' instead of 'float64' in a future version. Specify a dtype explicitly to silence this warning.\n"
     ]
    }
   ],
   "source": [
    "tf_matrix = get_tf(documnets)\n",
    "df_matrix = get_document_frequency(documnets)"
   ]
  },
  {
   "cell_type": "code",
   "execution_count": 19,
   "metadata": {},
   "outputs": [
    {
     "output_type": "execute_result",
     "data": {
      "text/plain": [
       "가      116\n",
       "이      112\n",
       "하다     106\n",
       "에       98\n",
       "좋다      65\n",
       "      ... \n",
       "체적       1\n",
       "한다는      1\n",
       "분들       1\n",
       "양하다      1\n",
       "장마       1\n",
       "Length: 1235, dtype: int64"
      ]
     },
     "metadata": {},
     "execution_count": 19
    }
   ],
   "source": [
    "df_matrix"
   ]
  },
  {
   "cell_type": "code",
   "execution_count": 20,
   "metadata": {},
   "outputs": [
    {
     "output_type": "execute_result",
     "data": {
      "text/plain": [
       "      word  totalFrequency  document1  document2  document3  document4  \\\n",
       "0       하다             136          0          0          0          1   \n",
       "1        이             129          0          0          0          0   \n",
       "2        가             128          0          0          1          1   \n",
       "3        에             112          0          0          0          0   \n",
       "4       있다              74          0          0          2          0   \n",
       "...    ...             ...        ...        ...        ...        ...   \n",
       "811    연습장               1          0          0          0          0   \n",
       "812   이상하다               1          0          0          0          0   \n",
       "813    도르다               1          0          0          0          0   \n",
       "814     찬물               1          0          0          0          0   \n",
       "1234    블룸               1          0          0          0          0   \n",
       "\n",
       "      document5  document6  document7  document8  ...  document415  \\\n",
       "0             0          0          2          0  ...            0   \n",
       "1             0          0          1          0  ...            0   \n",
       "2             0          0          0          1  ...            0   \n",
       "3             0          0          0          0  ...            1   \n",
       "4             0          0          0          0  ...            1   \n",
       "...         ...        ...        ...        ...  ...          ...   \n",
       "811           0          0          0          0  ...            0   \n",
       "812           0          0          0          0  ...            0   \n",
       "813           0          0          0          0  ...            0   \n",
       "814           0          0          0          0  ...            0   \n",
       "1234          0          0          0          0  ...            0   \n",
       "\n",
       "      document416  document417  document418  document419  document420  \\\n",
       "0               0            0            0            0            0   \n",
       "1               0            0            1            0            1   \n",
       "2               0            0            0            0            0   \n",
       "3               1            0            0            0            2   \n",
       "4               0            0            0            1            0   \n",
       "...           ...          ...          ...          ...          ...   \n",
       "811             0            0            0            0            0   \n",
       "812             0            0            0            0            0   \n",
       "813             0            0            0            0            0   \n",
       "814             0            0            0            0            0   \n",
       "1234            0            0            0            0            0   \n",
       "\n",
       "      document421  document422  document423  document424  \n",
       "0               1            0            0            0  \n",
       "1               0            1            0            0  \n",
       "2               0            0            0            0  \n",
       "3               1            0            1            0  \n",
       "4               0            0            0            0  \n",
       "...           ...          ...          ...          ...  \n",
       "811             0            1            0            0  \n",
       "812             0            1            0            0  \n",
       "813             0            0            0            0  \n",
       "814             0            0            1            0  \n",
       "1234            0            0            0            1  \n",
       "\n",
       "[1235 rows x 426 columns]"
      ],
      "text/html": "<div>\n<style scoped>\n    .dataframe tbody tr th:only-of-type {\n        vertical-align: middle;\n    }\n\n    .dataframe tbody tr th {\n        vertical-align: top;\n    }\n\n    .dataframe thead th {\n        text-align: right;\n    }\n</style>\n<table border=\"1\" class=\"dataframe\">\n  <thead>\n    <tr style=\"text-align: right;\">\n      <th></th>\n      <th>word</th>\n      <th>totalFrequency</th>\n      <th>document1</th>\n      <th>document2</th>\n      <th>document3</th>\n      <th>document4</th>\n      <th>document5</th>\n      <th>document6</th>\n      <th>document7</th>\n      <th>document8</th>\n      <th>...</th>\n      <th>document415</th>\n      <th>document416</th>\n      <th>document417</th>\n      <th>document418</th>\n      <th>document419</th>\n      <th>document420</th>\n      <th>document421</th>\n      <th>document422</th>\n      <th>document423</th>\n      <th>document424</th>\n    </tr>\n  </thead>\n  <tbody>\n    <tr>\n      <th>0</th>\n      <td>하다</td>\n      <td>136</td>\n      <td>0</td>\n      <td>0</td>\n      <td>0</td>\n      <td>1</td>\n      <td>0</td>\n      <td>0</td>\n      <td>2</td>\n      <td>0</td>\n      <td>...</td>\n      <td>0</td>\n      <td>0</td>\n      <td>0</td>\n      <td>0</td>\n      <td>0</td>\n      <td>0</td>\n      <td>1</td>\n      <td>0</td>\n      <td>0</td>\n      <td>0</td>\n    </tr>\n    <tr>\n      <th>1</th>\n      <td>이</td>\n      <td>129</td>\n      <td>0</td>\n      <td>0</td>\n      <td>0</td>\n      <td>0</td>\n      <td>0</td>\n      <td>0</td>\n      <td>1</td>\n      <td>0</td>\n      <td>...</td>\n      <td>0</td>\n      <td>0</td>\n      <td>0</td>\n      <td>1</td>\n      <td>0</td>\n      <td>1</td>\n      <td>0</td>\n      <td>1</td>\n      <td>0</td>\n      <td>0</td>\n    </tr>\n    <tr>\n      <th>2</th>\n      <td>가</td>\n      <td>128</td>\n      <td>0</td>\n      <td>0</td>\n      <td>1</td>\n      <td>1</td>\n      <td>0</td>\n      <td>0</td>\n      <td>0</td>\n      <td>1</td>\n      <td>...</td>\n      <td>0</td>\n      <td>0</td>\n      <td>0</td>\n      <td>0</td>\n      <td>0</td>\n      <td>0</td>\n      <td>0</td>\n      <td>0</td>\n      <td>0</td>\n      <td>0</td>\n    </tr>\n    <tr>\n      <th>3</th>\n      <td>에</td>\n      <td>112</td>\n      <td>0</td>\n      <td>0</td>\n      <td>0</td>\n      <td>0</td>\n      <td>0</td>\n      <td>0</td>\n      <td>0</td>\n      <td>0</td>\n      <td>...</td>\n      <td>1</td>\n      <td>1</td>\n      <td>0</td>\n      <td>0</td>\n      <td>0</td>\n      <td>2</td>\n      <td>1</td>\n      <td>0</td>\n      <td>1</td>\n      <td>0</td>\n    </tr>\n    <tr>\n      <th>4</th>\n      <td>있다</td>\n      <td>74</td>\n      <td>0</td>\n      <td>0</td>\n      <td>2</td>\n      <td>0</td>\n      <td>0</td>\n      <td>0</td>\n      <td>0</td>\n      <td>0</td>\n      <td>...</td>\n      <td>1</td>\n      <td>0</td>\n      <td>0</td>\n      <td>0</td>\n      <td>1</td>\n      <td>0</td>\n      <td>0</td>\n      <td>0</td>\n      <td>0</td>\n      <td>0</td>\n    </tr>\n    <tr>\n      <th>...</th>\n      <td>...</td>\n      <td>...</td>\n      <td>...</td>\n      <td>...</td>\n      <td>...</td>\n      <td>...</td>\n      <td>...</td>\n      <td>...</td>\n      <td>...</td>\n      <td>...</td>\n      <td>...</td>\n      <td>...</td>\n      <td>...</td>\n      <td>...</td>\n      <td>...</td>\n      <td>...</td>\n      <td>...</td>\n      <td>...</td>\n      <td>...</td>\n      <td>...</td>\n      <td>...</td>\n    </tr>\n    <tr>\n      <th>811</th>\n      <td>연습장</td>\n      <td>1</td>\n      <td>0</td>\n      <td>0</td>\n      <td>0</td>\n      <td>0</td>\n      <td>0</td>\n      <td>0</td>\n      <td>0</td>\n      <td>0</td>\n      <td>...</td>\n      <td>0</td>\n      <td>0</td>\n      <td>0</td>\n      <td>0</td>\n      <td>0</td>\n      <td>0</td>\n      <td>0</td>\n      <td>1</td>\n      <td>0</td>\n      <td>0</td>\n    </tr>\n    <tr>\n      <th>812</th>\n      <td>이상하다</td>\n      <td>1</td>\n      <td>0</td>\n      <td>0</td>\n      <td>0</td>\n      <td>0</td>\n      <td>0</td>\n      <td>0</td>\n      <td>0</td>\n      <td>0</td>\n      <td>...</td>\n      <td>0</td>\n      <td>0</td>\n      <td>0</td>\n      <td>0</td>\n      <td>0</td>\n      <td>0</td>\n      <td>0</td>\n      <td>1</td>\n      <td>0</td>\n      <td>0</td>\n    </tr>\n    <tr>\n      <th>813</th>\n      <td>도르다</td>\n      <td>1</td>\n      <td>0</td>\n      <td>0</td>\n      <td>0</td>\n      <td>0</td>\n      <td>0</td>\n      <td>0</td>\n      <td>0</td>\n      <td>0</td>\n      <td>...</td>\n      <td>0</td>\n      <td>0</td>\n      <td>0</td>\n      <td>0</td>\n      <td>0</td>\n      <td>0</td>\n      <td>0</td>\n      <td>0</td>\n      <td>0</td>\n      <td>0</td>\n    </tr>\n    <tr>\n      <th>814</th>\n      <td>찬물</td>\n      <td>1</td>\n      <td>0</td>\n      <td>0</td>\n      <td>0</td>\n      <td>0</td>\n      <td>0</td>\n      <td>0</td>\n      <td>0</td>\n      <td>0</td>\n      <td>...</td>\n      <td>0</td>\n      <td>0</td>\n      <td>0</td>\n      <td>0</td>\n      <td>0</td>\n      <td>0</td>\n      <td>0</td>\n      <td>0</td>\n      <td>1</td>\n      <td>0</td>\n    </tr>\n    <tr>\n      <th>1234</th>\n      <td>블룸</td>\n      <td>1</td>\n      <td>0</td>\n      <td>0</td>\n      <td>0</td>\n      <td>0</td>\n      <td>0</td>\n      <td>0</td>\n      <td>0</td>\n      <td>0</td>\n      <td>...</td>\n      <td>0</td>\n      <td>0</td>\n      <td>0</td>\n      <td>0</td>\n      <td>0</td>\n      <td>0</td>\n      <td>0</td>\n      <td>0</td>\n      <td>0</td>\n      <td>1</td>\n    </tr>\n  </tbody>\n</table>\n<p>1235 rows × 426 columns</p>\n</div>"
     },
     "metadata": {},
     "execution_count": 20
    }
   ],
   "source": [
    "tf_matrix"
   ]
  },
  {
   "cell_type": "code",
   "execution_count": 21,
   "metadata": {},
   "outputs": [
    {
     "output_type": "execute_result",
     "data": {
      "text/plain": [
       "      word  totalFrequency  document1  document2  document3  document4  \\\n",
       "0       하다             136          0          0          0          1   \n",
       "1        이             129          0          0          0          0   \n",
       "2        가             128          0          0          1          1   \n",
       "3        에             112          0          0          0          0   \n",
       "4       있다              74          0          0          2          0   \n",
       "...    ...             ...        ...        ...        ...        ...   \n",
       "811    연습장               1          0          0          0          0   \n",
       "812   이상하다               1          0          0          0          0   \n",
       "813    도르다               1          0          0          0          0   \n",
       "814     찬물               1          0          0          0          0   \n",
       "1234    블룸               1          0          0          0          0   \n",
       "\n",
       "      document5  document6  document7  document8  ...  document415  \\\n",
       "0             0          0          2          0  ...            0   \n",
       "1             0          0          1          0  ...            0   \n",
       "2             0          0          0          1  ...            0   \n",
       "3             0          0          0          0  ...            1   \n",
       "4             0          0          0          0  ...            1   \n",
       "...         ...        ...        ...        ...  ...          ...   \n",
       "811           0          0          0          0  ...            0   \n",
       "812           0          0          0          0  ...            0   \n",
       "813           0          0          0          0  ...            0   \n",
       "814           0          0          0          0  ...            0   \n",
       "1234          0          0          0          0  ...            0   \n",
       "\n",
       "      document416  document417  document418  document419  document420  \\\n",
       "0               0            0            0            0            0   \n",
       "1               0            0            1            0            1   \n",
       "2               0            0            0            0            0   \n",
       "3               1            0            0            0            2   \n",
       "4               0            0            0            1            0   \n",
       "...           ...          ...          ...          ...          ...   \n",
       "811             0            0            0            0            0   \n",
       "812             0            0            0            0            0   \n",
       "813             0            0            0            0            0   \n",
       "814             0            0            0            0            0   \n",
       "1234            0            0            0            0            0   \n",
       "\n",
       "      document421  document422  document423  document424  \n",
       "0               1            0            0            0  \n",
       "1               0            1            0            0  \n",
       "2               0            0            0            0  \n",
       "3               1            0            1            0  \n",
       "4               0            0            0            0  \n",
       "...           ...          ...          ...          ...  \n",
       "811             0            1            0            0  \n",
       "812             0            1            0            0  \n",
       "813             0            0            0            0  \n",
       "814             0            0            1            0  \n",
       "1234            0            0            0            1  \n",
       "\n",
       "[1235 rows x 426 columns]"
      ],
      "text/html": "<div>\n<style scoped>\n    .dataframe tbody tr th:only-of-type {\n        vertical-align: middle;\n    }\n\n    .dataframe tbody tr th {\n        vertical-align: top;\n    }\n\n    .dataframe thead th {\n        text-align: right;\n    }\n</style>\n<table border=\"1\" class=\"dataframe\">\n  <thead>\n    <tr style=\"text-align: right;\">\n      <th></th>\n      <th>word</th>\n      <th>totalFrequency</th>\n      <th>document1</th>\n      <th>document2</th>\n      <th>document3</th>\n      <th>document4</th>\n      <th>document5</th>\n      <th>document6</th>\n      <th>document7</th>\n      <th>document8</th>\n      <th>...</th>\n      <th>document415</th>\n      <th>document416</th>\n      <th>document417</th>\n      <th>document418</th>\n      <th>document419</th>\n      <th>document420</th>\n      <th>document421</th>\n      <th>document422</th>\n      <th>document423</th>\n      <th>document424</th>\n    </tr>\n  </thead>\n  <tbody>\n    <tr>\n      <th>0</th>\n      <td>하다</td>\n      <td>136</td>\n      <td>0</td>\n      <td>0</td>\n      <td>0</td>\n      <td>1</td>\n      <td>0</td>\n      <td>0</td>\n      <td>2</td>\n      <td>0</td>\n      <td>...</td>\n      <td>0</td>\n      <td>0</td>\n      <td>0</td>\n      <td>0</td>\n      <td>0</td>\n      <td>0</td>\n      <td>1</td>\n      <td>0</td>\n      <td>0</td>\n      <td>0</td>\n    </tr>\n    <tr>\n      <th>1</th>\n      <td>이</td>\n      <td>129</td>\n      <td>0</td>\n      <td>0</td>\n      <td>0</td>\n      <td>0</td>\n      <td>0</td>\n      <td>0</td>\n      <td>1</td>\n      <td>0</td>\n      <td>...</td>\n      <td>0</td>\n      <td>0</td>\n      <td>0</td>\n      <td>1</td>\n      <td>0</td>\n      <td>1</td>\n      <td>0</td>\n      <td>1</td>\n      <td>0</td>\n      <td>0</td>\n    </tr>\n    <tr>\n      <th>2</th>\n      <td>가</td>\n      <td>128</td>\n      <td>0</td>\n      <td>0</td>\n      <td>1</td>\n      <td>1</td>\n      <td>0</td>\n      <td>0</td>\n      <td>0</td>\n      <td>1</td>\n      <td>...</td>\n      <td>0</td>\n      <td>0</td>\n      <td>0</td>\n      <td>0</td>\n      <td>0</td>\n      <td>0</td>\n      <td>0</td>\n      <td>0</td>\n      <td>0</td>\n      <td>0</td>\n    </tr>\n    <tr>\n      <th>3</th>\n      <td>에</td>\n      <td>112</td>\n      <td>0</td>\n      <td>0</td>\n      <td>0</td>\n      <td>0</td>\n      <td>0</td>\n      <td>0</td>\n      <td>0</td>\n      <td>0</td>\n      <td>...</td>\n      <td>1</td>\n      <td>1</td>\n      <td>0</td>\n      <td>0</td>\n      <td>0</td>\n      <td>2</td>\n      <td>1</td>\n      <td>0</td>\n      <td>1</td>\n      <td>0</td>\n    </tr>\n    <tr>\n      <th>4</th>\n      <td>있다</td>\n      <td>74</td>\n      <td>0</td>\n      <td>0</td>\n      <td>2</td>\n      <td>0</td>\n      <td>0</td>\n      <td>0</td>\n      <td>0</td>\n      <td>0</td>\n      <td>...</td>\n      <td>1</td>\n      <td>0</td>\n      <td>0</td>\n      <td>0</td>\n      <td>1</td>\n      <td>0</td>\n      <td>0</td>\n      <td>0</td>\n      <td>0</td>\n      <td>0</td>\n    </tr>\n    <tr>\n      <th>...</th>\n      <td>...</td>\n      <td>...</td>\n      <td>...</td>\n      <td>...</td>\n      <td>...</td>\n      <td>...</td>\n      <td>...</td>\n      <td>...</td>\n      <td>...</td>\n      <td>...</td>\n      <td>...</td>\n      <td>...</td>\n      <td>...</td>\n      <td>...</td>\n      <td>...</td>\n      <td>...</td>\n      <td>...</td>\n      <td>...</td>\n      <td>...</td>\n      <td>...</td>\n      <td>...</td>\n    </tr>\n    <tr>\n      <th>811</th>\n      <td>연습장</td>\n      <td>1</td>\n      <td>0</td>\n      <td>0</td>\n      <td>0</td>\n      <td>0</td>\n      <td>0</td>\n      <td>0</td>\n      <td>0</td>\n      <td>0</td>\n      <td>...</td>\n      <td>0</td>\n      <td>0</td>\n      <td>0</td>\n      <td>0</td>\n      <td>0</td>\n      <td>0</td>\n      <td>0</td>\n      <td>1</td>\n      <td>0</td>\n      <td>0</td>\n    </tr>\n    <tr>\n      <th>812</th>\n      <td>이상하다</td>\n      <td>1</td>\n      <td>0</td>\n      <td>0</td>\n      <td>0</td>\n      <td>0</td>\n      <td>0</td>\n      <td>0</td>\n      <td>0</td>\n      <td>0</td>\n      <td>...</td>\n      <td>0</td>\n      <td>0</td>\n      <td>0</td>\n      <td>0</td>\n      <td>0</td>\n      <td>0</td>\n      <td>0</td>\n      <td>1</td>\n      <td>0</td>\n      <td>0</td>\n    </tr>\n    <tr>\n      <th>813</th>\n      <td>도르다</td>\n      <td>1</td>\n      <td>0</td>\n      <td>0</td>\n      <td>0</td>\n      <td>0</td>\n      <td>0</td>\n      <td>0</td>\n      <td>0</td>\n      <td>0</td>\n      <td>...</td>\n      <td>0</td>\n      <td>0</td>\n      <td>0</td>\n      <td>0</td>\n      <td>0</td>\n      <td>0</td>\n      <td>0</td>\n      <td>0</td>\n      <td>0</td>\n      <td>0</td>\n    </tr>\n    <tr>\n      <th>814</th>\n      <td>찬물</td>\n      <td>1</td>\n      <td>0</td>\n      <td>0</td>\n      <td>0</td>\n      <td>0</td>\n      <td>0</td>\n      <td>0</td>\n      <td>0</td>\n      <td>0</td>\n      <td>...</td>\n      <td>0</td>\n      <td>0</td>\n      <td>0</td>\n      <td>0</td>\n      <td>0</td>\n      <td>0</td>\n      <td>0</td>\n      <td>0</td>\n      <td>1</td>\n      <td>0</td>\n    </tr>\n    <tr>\n      <th>1234</th>\n      <td>블룸</td>\n      <td>1</td>\n      <td>0</td>\n      <td>0</td>\n      <td>0</td>\n      <td>0</td>\n      <td>0</td>\n      <td>0</td>\n      <td>0</td>\n      <td>0</td>\n      <td>...</td>\n      <td>0</td>\n      <td>0</td>\n      <td>0</td>\n      <td>0</td>\n      <td>0</td>\n      <td>0</td>\n      <td>0</td>\n      <td>0</td>\n      <td>0</td>\n      <td>1</td>\n    </tr>\n  </tbody>\n</table>\n<p>1235 rows × 426 columns</p>\n</div>"
     },
     "metadata": {},
     "execution_count": 21
    }
   ],
   "source": [
    "tf_matrix"
   ]
  },
  {
   "cell_type": "code",
   "execution_count": 22,
   "metadata": {},
   "outputs": [],
   "source": [
    "def get_ntf(matrix):\n",
    "    max_btf = max(matrix['totalFrequency'])\n",
    "    total_btf = sum(matrix['totalFrequency'])\n",
    "\n",
    "    col_names = list(matrix.columns)[2:]\n",
    "\n",
    "    matrix['ntf1'] = matrix['totalFrequency'].apply(lambda x: x/max_btf)\n",
    "\n",
    "    matrix_ntf2 = matrix[col_names].copy()\n",
    "\n",
    "    matrix_ntf2 = matrix_ntf2.apply(lambda x: x/total_btf , axis=1)\n",
    "    \n",
    "    matrix_ntf2['ntf2'] = matrix_ntf2.apply(sum, axis=1)\n",
    "\n",
    "    matrix['ntf2'] = matrix_ntf2['ntf2']\n",
    "\n",
    "    return matrix[['word','totalFrequency','ntf1','ntf2']]"
   ]
  },
  {
   "cell_type": "code",
   "execution_count": 39,
   "metadata": {},
   "outputs": [],
   "source": [
    "ntf_matrix = get_ntf(tf_matrix)"
   ]
  },
  {
   "cell_type": "code",
   "execution_count": 53,
   "metadata": {},
   "outputs": [],
   "source": [
    "def get_ntf_idf(ntf, df):\n",
    "\n",
    "    ntf = ntf.set_index('word')\n",
    "    ntf_idf = pd.concat([ntf, df], axis=1)\n",
    "\n",
    "\n",
    "    def get_btfidf(scores):\n",
    "        global document_count\n",
    "        return (np.log(scores['totalFrequency']) + 1.0) * np.log(document_count/scores['df'])\n",
    "\n",
    "    def get_ntf1idf(scores):\n",
    "        global document_count\n",
    "        return (np.log(scores['ntf1']) + 1.0) * np.log(document_count/scores['df'])\n",
    "\n",
    "    def get_ntf2idf(scores):\n",
    "        global document_count\n",
    "        return (np.log(scores['ntf2']) + 1.0) * np.log(document_count/scores['df'])\n",
    "\n",
    "    \n",
    "    ntf_idf['btf_idf'] = ntf_idf.apply(get_btfidf, axis=1)\n",
    "    ntf_idf['ntf1_idf'] = ntf_idf.apply(get_ntf1idf, axis=1)\n",
    "    ntf_idf['ntf2_idf'] = ntf_idf.apply(get_ntf2idf, axis=1)\n",
    "\n",
    "    btf_rank = ntf_idf['btf_idf'].sort_values(ascending=False)\n",
    "    ntf1_rank = ntf_idf['ntf1_idf'].sort_values(ascending=False)\n",
    "    ntf2_rank = ntf_idf['ntf2_idf'].sort_values(ascending=False)\n",
    "\n",
    "    return btf_rank, ntf1_rank, ntf2_rank"
   ]
  },
  {
   "cell_type": "code",
   "execution_count": 54,
   "metadata": {},
   "outputs": [],
   "source": [
    "btf_rank , ntf1_rank, ntf2_rank = get_ntf_idf(ntf_matrix, df_matrix)"
   ]
  },
  {
   "cell_type": "code",
   "execution_count": 61,
   "metadata": {},
   "outputs": [],
   "source": [
    "btf_rank.to_csv('btf.csv', encoding='utf-8-sig')"
   ]
  },
  {
   "cell_type": "code",
   "execution_count": 62,
   "metadata": {},
   "outputs": [],
   "source": [
    "ntf1_rank.to_csv('ntf1.csv',encoding='utf-8-sig')"
   ]
  },
  {
   "cell_type": "code",
   "execution_count": 63,
   "metadata": {},
   "outputs": [],
   "source": [
    "ntf2_rank.to_csv('ntf2.csv', encoding='utf-8-sig')"
   ]
  }
 ]
}