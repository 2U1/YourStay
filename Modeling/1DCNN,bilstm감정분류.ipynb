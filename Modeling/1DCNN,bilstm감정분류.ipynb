{
  "nbformat": 4,
  "nbformat_minor": 0,
  "metadata": {
    "colab": {
      "name": "1DCNN,bilstm감정분류.ipynb",
      "provenance": [],
      "collapsed_sections": []
    },
    "kernelspec": {
      "name": "python3",
      "display_name": "Python 3"
    },
    "language_info": {
      "name": "python"
    },
    "accelerator": "GPU"
  },
  "cells": [
    {
      "cell_type": "markdown",
      "metadata": {
        "id": "7dP0ynhDaAws"
      },
      "source": [
        "# 1D CNN, Bi-lstm(keras embedding) - k-fold 추가(label 0,1/불균형 맞추기)"
      ]
    },
    {
      "cell_type": "code",
      "metadata": {
        "colab": {
          "base_uri": "https://localhost:8080/",
          "height": 405
        },
        "id": "PWN4yP4GaAww",
        "outputId": "d126990d-a0b4-4d45-ac75-b978f233e65a"
      },
      "source": [
        "import pandas as pd\n",
        "\n",
        "dff=pd.read_excel(\"/content/spell_labeling.xlsx\")\n",
        "dff"
      ],
      "execution_count": null,
      "outputs": [
        {
          "output_type": "execute_result",
          "data": {
            "text/html": [
              "<div>\n",
              "<style scoped>\n",
              "    .dataframe tbody tr th:only-of-type {\n",
              "        vertical-align: middle;\n",
              "    }\n",
              "\n",
              "    .dataframe tbody tr th {\n",
              "        vertical-align: top;\n",
              "    }\n",
              "\n",
              "    .dataframe thead th {\n",
              "        text-align: right;\n",
              "    }\n",
              "</style>\n",
              "<table border=\"1\" class=\"dataframe\">\n",
              "  <thead>\n",
              "    <tr style=\"text-align: right;\">\n",
              "      <th></th>\n",
              "      <th>Unnamed: 0</th>\n",
              "      <th>Unnamed: 0.1</th>\n",
              "      <th>Unnamed: 0.1.1</th>\n",
              "      <th>label</th>\n",
              "      <th>sentence</th>\n",
              "    </tr>\n",
              "  </thead>\n",
              "  <tbody>\n",
              "    <tr>\n",
              "      <th>0</th>\n",
              "      <td>0</td>\n",
              "      <td>0</td>\n",
              "      <td>0</td>\n",
              "      <td>0</td>\n",
              "      <td>창문 구조 자체가 방음이 잘되지 않고 찬바람이 들어오는 것 같아요.</td>\n",
              "    </tr>\n",
              "    <tr>\n",
              "      <th>1</th>\n",
              "      <td>1</td>\n",
              "      <td>1</td>\n",
              "      <td>1</td>\n",
              "      <td>0</td>\n",
              "      <td>지금 새벽 네시가 다 되어 가는데 밖에 경찰차 소리가 엄청나게 크게 들리네요?.</td>\n",
              "    </tr>\n",
              "    <tr>\n",
              "      <th>2</th>\n",
              "      <td>2</td>\n",
              "      <td>2</td>\n",
              "      <td>2</td>\n",
              "      <td>0</td>\n",
              "      <td>난방도 기능은 존재하는데 되는지를 모르겠네요.</td>\n",
              "    </tr>\n",
              "    <tr>\n",
              "      <th>3</th>\n",
              "      <td>3</td>\n",
              "      <td>3</td>\n",
              "      <td>3</td>\n",
              "      <td>0</td>\n",
              "      <td>별로 춥지 않아서 컴플레인은 걸지 않았지만 겨울철 되면 문제가 커질 것 같고요.</td>\n",
              "    </tr>\n",
              "    <tr>\n",
              "      <th>4</th>\n",
              "      <td>4</td>\n",
              "      <td>4</td>\n",
              "      <td>4</td>\n",
              "      <td>0</td>\n",
              "      <td>그리고 화장실 문이 심하게 덜 렁 꺼리고 콘센트가 거의 없어서 매우 불편했습니다.</td>\n",
              "    </tr>\n",
              "    <tr>\n",
              "      <th>...</th>\n",
              "      <td>...</td>\n",
              "      <td>...</td>\n",
              "      <td>...</td>\n",
              "      <td>...</td>\n",
              "      <td>...</td>\n",
              "    </tr>\n",
              "    <tr>\n",
              "      <th>41350</th>\n",
              "      <td>41350</td>\n",
              "      <td>41350</td>\n",
              "      <td>41350</td>\n",
              "      <td>1</td>\n",
              "      <td>젛았습니다습니다</td>\n",
              "    </tr>\n",
              "    <tr>\n",
              "      <th>41351</th>\n",
              "      <td>41351</td>\n",
              "      <td>41351</td>\n",
              "      <td>41351</td>\n",
              "      <td>1</td>\n",
              "      <td>즇앗씁니다!니다!</td>\n",
              "    </tr>\n",
              "    <tr>\n",
              "      <th>41352</th>\n",
              "      <td>41352</td>\n",
              "      <td>41352</td>\n",
              "      <td>41352</td>\n",
              "      <td>1</td>\n",
              "      <td>좋ㅉㅗㅎ 앗습니다</td>\n",
              "    </tr>\n",
              "    <tr>\n",
              "      <th>41353</th>\n",
              "      <td>41353</td>\n",
              "      <td>41353</td>\n",
              "      <td>41353</td>\n",
              "      <td>1</td>\n",
              "      <td>펺습니다습니다</td>\n",
              "    </tr>\n",
              "    <tr>\n",
              "      <th>41354</th>\n",
              "      <td>41354</td>\n",
              "      <td>41354</td>\n",
              "      <td>41354</td>\n",
              "      <td>1</td>\n",
              "      <td>헿.보일러도일러도 틀었더니 더울 정따뜻. 영등포에등포에 또 오게 되면 당연 여기로 ...</td>\n",
              "    </tr>\n",
              "  </tbody>\n",
              "</table>\n",
              "<p>41355 rows × 5 columns</p>\n",
              "</div>"
            ],
            "text/plain": [
              "       Unnamed: 0  ...                                           sentence\n",
              "0               0  ...              창문 구조 자체가 방음이 잘되지 않고 찬바람이 들어오는 것 같아요.\n",
              "1               1  ...       지금 새벽 네시가 다 되어 가는데 밖에 경찰차 소리가 엄청나게 크게 들리네요?.\n",
              "2               2  ...                          난방도 기능은 존재하는데 되는지를 모르겠네요.\n",
              "3               3  ...       별로 춥지 않아서 컴플레인은 걸지 않았지만 겨울철 되면 문제가 커질 것 같고요.\n",
              "4               4  ...      그리고 화장실 문이 심하게 덜 렁 꺼리고 콘센트가 거의 없어서 매우 불편했습니다.\n",
              "...           ...  ...                                                ...\n",
              "41350       41350  ...                                           젛았습니다습니다\n",
              "41351       41351  ...                                          즇앗씁니다!니다!\n",
              "41352       41352  ...                                          좋ㅉㅗㅎ 앗습니다\n",
              "41353       41353  ...                                            펺습니다습니다\n",
              "41354       41354  ...  헿.보일러도일러도 틀었더니 더울 정따뜻. 영등포에등포에 또 오게 되면 당연 여기로 ...\n",
              "\n",
              "[41355 rows x 5 columns]"
            ]
          },
          "metadata": {
            "tags": []
          },
          "execution_count": 16
        }
      ]
    },
    {
      "cell_type": "code",
      "metadata": {
        "id": "ZZ88hTe-aAwz"
      },
      "source": [
        "feature=dff['sentence']"
      ],
      "execution_count": null,
      "outputs": []
    },
    {
      "cell_type": "code",
      "metadata": {
        "id": "2QKkxqjnaAw0"
      },
      "source": [
        "dff.loc[11224,'label']=1\n",
        "dff.loc[12739,'label']=1"
      ],
      "execution_count": null,
      "outputs": []
    },
    {
      "cell_type": "markdown",
      "metadata": {
        "id": "XfI4RrR4b7IU"
      },
      "source": [
        "label 2값 제거"
      ]
    },
    {
      "cell_type": "code",
      "metadata": {
        "colab": {
          "base_uri": "https://localhost:8080/",
          "height": 439
        },
        "id": "SAE9UCVnb6l2",
        "outputId": "69e9b6a1-9593-4eab-f17b-ec34dd9b5163"
      },
      "source": [
        "df=dff[dff.label != 2]\n",
        "df=df.reset_index()\n",
        "df"
      ],
      "execution_count": null,
      "outputs": [
        {
          "output_type": "execute_result",
          "data": {
            "text/html": [
              "<div>\n",
              "<style scoped>\n",
              "    .dataframe tbody tr th:only-of-type {\n",
              "        vertical-align: middle;\n",
              "    }\n",
              "\n",
              "    .dataframe tbody tr th {\n",
              "        vertical-align: top;\n",
              "    }\n",
              "\n",
              "    .dataframe thead th {\n",
              "        text-align: right;\n",
              "    }\n",
              "</style>\n",
              "<table border=\"1\" class=\"dataframe\">\n",
              "  <thead>\n",
              "    <tr style=\"text-align: right;\">\n",
              "      <th></th>\n",
              "      <th>index</th>\n",
              "      <th>Unnamed: 0</th>\n",
              "      <th>Unnamed: 0.1</th>\n",
              "      <th>Unnamed: 0.1.1</th>\n",
              "      <th>label</th>\n",
              "      <th>sentence</th>\n",
              "    </tr>\n",
              "  </thead>\n",
              "  <tbody>\n",
              "    <tr>\n",
              "      <th>0</th>\n",
              "      <td>0</td>\n",
              "      <td>0</td>\n",
              "      <td>0</td>\n",
              "      <td>0</td>\n",
              "      <td>0</td>\n",
              "      <td>창문 구조 자체가 방음이 잘되지 않고 찬바람이 들어오는 것 같아요.</td>\n",
              "    </tr>\n",
              "    <tr>\n",
              "      <th>1</th>\n",
              "      <td>1</td>\n",
              "      <td>1</td>\n",
              "      <td>1</td>\n",
              "      <td>1</td>\n",
              "      <td>0</td>\n",
              "      <td>지금 새벽 네시가 다 되어 가는데 밖에 경찰차 소리가 엄청나게 크게 들리네요?.</td>\n",
              "    </tr>\n",
              "    <tr>\n",
              "      <th>2</th>\n",
              "      <td>2</td>\n",
              "      <td>2</td>\n",
              "      <td>2</td>\n",
              "      <td>2</td>\n",
              "      <td>0</td>\n",
              "      <td>난방도 기능은 존재하는데 되는지를 모르겠네요.</td>\n",
              "    </tr>\n",
              "    <tr>\n",
              "      <th>3</th>\n",
              "      <td>3</td>\n",
              "      <td>3</td>\n",
              "      <td>3</td>\n",
              "      <td>3</td>\n",
              "      <td>0</td>\n",
              "      <td>별로 춥지 않아서 컴플레인은 걸지 않았지만 겨울철 되면 문제가 커질 것 같고요.</td>\n",
              "    </tr>\n",
              "    <tr>\n",
              "      <th>4</th>\n",
              "      <td>4</td>\n",
              "      <td>4</td>\n",
              "      <td>4</td>\n",
              "      <td>4</td>\n",
              "      <td>0</td>\n",
              "      <td>그리고 화장실 문이 심하게 덜 렁 꺼리고 콘센트가 거의 없어서 매우 불편했습니다.</td>\n",
              "    </tr>\n",
              "    <tr>\n",
              "      <th>...</th>\n",
              "      <td>...</td>\n",
              "      <td>...</td>\n",
              "      <td>...</td>\n",
              "      <td>...</td>\n",
              "      <td>...</td>\n",
              "      <td>...</td>\n",
              "    </tr>\n",
              "    <tr>\n",
              "      <th>39909</th>\n",
              "      <td>41350</td>\n",
              "      <td>41350</td>\n",
              "      <td>41350</td>\n",
              "      <td>41350</td>\n",
              "      <td>1</td>\n",
              "      <td>젛았습니다습니다</td>\n",
              "    </tr>\n",
              "    <tr>\n",
              "      <th>39910</th>\n",
              "      <td>41351</td>\n",
              "      <td>41351</td>\n",
              "      <td>41351</td>\n",
              "      <td>41351</td>\n",
              "      <td>1</td>\n",
              "      <td>즇앗씁니다!니다!</td>\n",
              "    </tr>\n",
              "    <tr>\n",
              "      <th>39911</th>\n",
              "      <td>41352</td>\n",
              "      <td>41352</td>\n",
              "      <td>41352</td>\n",
              "      <td>41352</td>\n",
              "      <td>1</td>\n",
              "      <td>좋ㅉㅗㅎ 앗습니다</td>\n",
              "    </tr>\n",
              "    <tr>\n",
              "      <th>39912</th>\n",
              "      <td>41353</td>\n",
              "      <td>41353</td>\n",
              "      <td>41353</td>\n",
              "      <td>41353</td>\n",
              "      <td>1</td>\n",
              "      <td>펺습니다습니다</td>\n",
              "    </tr>\n",
              "    <tr>\n",
              "      <th>39913</th>\n",
              "      <td>41354</td>\n",
              "      <td>41354</td>\n",
              "      <td>41354</td>\n",
              "      <td>41354</td>\n",
              "      <td>1</td>\n",
              "      <td>헿.보일러도일러도 틀었더니 더울 정따뜻. 영등포에등포에 또 오게 되면 당연 여기로 ...</td>\n",
              "    </tr>\n",
              "  </tbody>\n",
              "</table>\n",
              "<p>39914 rows × 6 columns</p>\n",
              "</div>"
            ],
            "text/plain": [
              "       index  ...                                           sentence\n",
              "0          0  ...              창문 구조 자체가 방음이 잘되지 않고 찬바람이 들어오는 것 같아요.\n",
              "1          1  ...       지금 새벽 네시가 다 되어 가는데 밖에 경찰차 소리가 엄청나게 크게 들리네요?.\n",
              "2          2  ...                          난방도 기능은 존재하는데 되는지를 모르겠네요.\n",
              "3          3  ...       별로 춥지 않아서 컴플레인은 걸지 않았지만 겨울철 되면 문제가 커질 것 같고요.\n",
              "4          4  ...      그리고 화장실 문이 심하게 덜 렁 꺼리고 콘센트가 거의 없어서 매우 불편했습니다.\n",
              "...      ...  ...                                                ...\n",
              "39909  41350  ...                                           젛았습니다습니다\n",
              "39910  41351  ...                                          즇앗씁니다!니다!\n",
              "39911  41352  ...                                          좋ㅉㅗㅎ 앗습니다\n",
              "39912  41353  ...                                            펺습니다습니다\n",
              "39913  41354  ...  헿.보일러도일러도 틀었더니 더울 정따뜻. 영등포에등포에 또 오게 되면 당연 여기로 ...\n",
              "\n",
              "[39914 rows x 6 columns]"
            ]
          },
          "metadata": {
            "tags": []
          },
          "execution_count": 19
        }
      ]
    },
    {
      "cell_type": "code",
      "metadata": {
        "id": "fdLdRJq2fO6W"
      },
      "source": [
        "# from imblearn.under_sampling import *\n",
        "feature=df['sentence']\n",
        "# X_samp, y_samp = OneSidedSelection(random_state=0).fit_sample(df0, df1)\n"
      ],
      "execution_count": null,
      "outputs": []
    },
    {
      "cell_type": "code",
      "metadata": {
        "id": "hY5TgaREaAw1"
      },
      "source": [
        "r = open('/content/한국어불용어100.txt', mode='rt', encoding='utf-8')\n",
        "stopwords=[]\n",
        "z=r.readlines()\n",
        "for i in range(len(z)):\n",
        "  stopwords.append(z[i].split('\\t')[0])"
      ],
      "execution_count": null,
      "outputs": []
    },
    {
      "cell_type": "code",
      "metadata": {
        "id": "dZt9OMwfaAw2"
      },
      "source": [
        "def remove_stopwords(text):\n",
        "    final_text = []\n",
        "    for i in text.split():\n",
        "        if i.strip() not in stopwords:\n",
        "            final_text.append(i.strip())\n",
        "    return \" \".join(final_text)"
      ],
      "execution_count": null,
      "outputs": []
    },
    {
      "cell_type": "code",
      "metadata": {
        "id": "YfcF25j-aAw3"
      },
      "source": [
        "import re\n",
        "feature = feature.str.replace('<br />',' ')\n",
        "\n",
        "feature=feature.apply(lambda x : re.sub('[^a-zA-Zㄱ-ㅎ|ㅏ-ㅣ|가-힣]',' ',str(x)))"
      ],
      "execution_count": null,
      "outputs": []
    },
    {
      "cell_type": "code",
      "metadata": {
        "id": "ADHVSHy7aAw4"
      },
      "source": [
        "import numpy as np\n",
        "feature = feature.apply(remove_stopwords)\n",
        "feature = np.array([x for x in feature])"
      ],
      "execution_count": null,
      "outputs": []
    },
    {
      "cell_type": "code",
      "metadata": {
        "id": "y9UJAyjgaAw5"
      },
      "source": [
        "from keras.utils import np_utils\n",
        "from tensorflow.keras.utils import plot_model, to_categorical\n",
        "\n",
        "y_train=df['label'].values"
      ],
      "execution_count": null,
      "outputs": []
    },
    {
      "cell_type": "code",
      "metadata": {
        "id": "Mu_dAv5EaAw6"
      },
      "source": [
        "from sklearn.model_selection import train_test_split\n",
        "X_train, X_test, y_train, y_test = train_test_split(feature,\n",
        "                                                   y_train,\n",
        "                                                   test_size=0.2,\n",
        "                                                   random_state=42)"
      ],
      "execution_count": null,
      "outputs": []
    },
    {
      "cell_type": "code",
      "metadata": {
        "colab": {
          "base_uri": "https://localhost:8080/"
        },
        "id": "2RnjLKHNaAw7",
        "outputId": "1d87d7ec-bcb0-459c-8a73-7d7f1f3bd6dd"
      },
      "source": [
        "from keras_preprocessing.sequence import pad_sequences \n",
        "from tensorflow.keras.preprocessing.text import Tokenizer\n",
        "\n",
        "embedding_dim=300\n",
        "max_length=72\n",
        "padding_type='post'\n",
        "\n",
        "tokenizer = Tokenizer()\n",
        "tokenizer.fit_on_texts(X_train) \n",
        "word_index = tokenizer.word_index\n",
        "\n",
        "vocab_size=len(word_index)+1 #vocabulary 크기 설정\n",
        "print(vocab_size)"
      ],
      "execution_count": null,
      "outputs": [
        {
          "output_type": "stream",
          "text": [
            "23369\n"
          ],
          "name": "stdout"
        }
      ]
    },
    {
      "cell_type": "code",
      "metadata": {
        "colab": {
          "base_uri": "https://localhost:8080/"
        },
        "id": "wbnbffXJaAw9",
        "outputId": "849f35f0-37ae-4285-ec4e-1a565e2a035a"
      },
      "source": [
        "from keras_preprocessing.sequence import pad_sequences \n",
        "\n",
        "#데이터를 sequence로 변환하고 padding 해주기\n",
        "train_sequences = tokenizer.texts_to_sequences(X_train)\n",
        "train_padded = pad_sequences(train_sequences, padding=padding_type, maxlen=max_length) \n",
        "\n",
        "test_sequences = tokenizer.texts_to_sequences(X_test)\n",
        "test_padded = pad_sequences(test_sequences, padding=padding_type, maxlen=max_length)\n",
        "\n",
        "print(train_padded.shape, test_padded.shape)"
      ],
      "execution_count": null,
      "outputs": [
        {
          "output_type": "stream",
          "text": [
            "(31931, 72) (7983, 72)\n"
          ],
          "name": "stdout"
        }
      ]
    },
    {
      "cell_type": "code",
      "metadata": {
        "colab": {
          "base_uri": "https://localhost:8080/"
        },
        "id": "TSJlYUDMpDUT",
        "outputId": "3a5cbc31-b6eb-4202-e950-368c7685e927"
      },
      "source": [
        "#불균형 맞춰주기\n",
        "from imblearn.under_sampling import *\n",
        "from imblearn.over_sampling import *\n",
        "\n",
        "\n",
        "train_padded, y_train = OneSidedSelection(random_state=0).fit_sample(train_padded, y_train) \n",
        "#train_padded, y_train = SMOTEENN(random_state=0).fit_sample(train_padded, y_train) 0.794 #오버샘플링(가중치를 증가)"
      ],
      "execution_count": null,
      "outputs": [
        {
          "output_type": "stream",
          "text": [
            "/usr/local/lib/python3.7/dist-packages/sklearn/utils/deprecation.py:87: FutureWarning: Function safe_indexing is deprecated; safe_indexing is deprecated in version 0.22 and will be removed in version 0.24.\n",
            "  warnings.warn(msg, category=FutureWarning)\n",
            "/usr/local/lib/python3.7/dist-packages/sklearn/utils/deprecation.py:87: FutureWarning: Function safe_indexing is deprecated; safe_indexing is deprecated in version 0.22 and will be removed in version 0.24.\n",
            "  warnings.warn(msg, category=FutureWarning)\n",
            "/usr/local/lib/python3.7/dist-packages/sklearn/utils/deprecation.py:87: FutureWarning: Function safe_indexing is deprecated; safe_indexing is deprecated in version 0.22 and will be removed in version 0.24.\n",
            "  warnings.warn(msg, category=FutureWarning)\n"
          ],
          "name": "stderr"
        }
      ]
    },
    {
      "cell_type": "code",
      "metadata": {
        "id": "5y__HvYwaAw-"
      },
      "source": [
        "from tensorflow.keras import Sequential\n",
        "from tensorflow.keras.layers import Dense, Embedding, LSTM, Dropout, Bidirectional, GlobalMaxPooling1D, Conv1D, MaxPooling1D\n",
        "from tensorflow.keras.optimizers import Adam\n",
        "\n",
        "epoch_val = 10\n",
        "model = Sequential([\n",
        "        Embedding(vocab_size, embedding_dim, input_length=max_length),\n",
        "        #첫번째 모델\n",
        "        # Bidirectional(LSTM(64, return_sequences=True)),\n",
        "        # Bidirectional(LSTM(64, return_sequences = True)),\n",
        "        # Bidirectional(LSTM(64)),\n",
        "        # Dense(2, activation='sigmoid')\n",
        "        #0.9296\n",
        "        \n",
        "        #두번째 모델(1D CNN)\n",
        "        Conv1D(32, 7, activation='relu'),\n",
        "        MaxPooling1D(5),\n",
        "        Conv1D(32, 7, activation='relu'),\n",
        "        GlobalMaxPooling1D(),\n",
        "        Dense(2,activation='sigmoid')\n",
        "        #0.9359889765752224\n",
        "\n",
        "        #3번째 모델\n",
        "        # Bidirectional(LSTM(128, return_sequences=True)),\n",
        "        # LSTM(128),\n",
        "        # Conv1D(filters=128, kernel_size=5, padding='same', activation='relu'),\n",
        "        # GlobalMaxPooling1D(),\n",
        "        # Dropout(.5),\n",
        "        # Dense(128,activation='swish'),\n",
        "        # # Dropout(.5),\n",
        "        # Dense(2,activation='sigmoid')\n",
        "    ])\n",
        "\n",
        "    \n",
        "# compile model\n",
        "model.compile(loss='categorical_crossentropy', optimizer='adam',metrics=['accuracy'])"
      ],
      "execution_count": null,
      "outputs": []
    },
    {
      "cell_type": "code",
      "metadata": {
        "colab": {
          "base_uri": "https://localhost:8080/"
        },
        "id": "itispoTKaAw_",
        "outputId": "8683764d-28d0-408e-8437-b38b29fc710a"
      },
      "source": [
        "# 계층 교차 검증\n",
        "n_fold = 5  \n",
        "seed = 42\n",
        "from sklearn.model_selection import StratifiedKFold\n",
        "from tensorflow.keras.callbacks import EarlyStopping, ReduceLROnPlateau\n",
        "from tensorflow.keras.utils import plot_model, to_categorical\n",
        "\n",
        "cv = StratifiedKFold(n_splits = n_fold, shuffle=True, random_state=seed)\n",
        "\n",
        "# 테스트데이터의 예측값 담을 곳 생성\n",
        "test_y = np.zeros((test_padded.shape[0], 2))\n",
        "\n",
        "# 조기 종료 옵션 추가\n",
        "es = EarlyStopping(monitor='val_loss', min_delta=0.001, patience=3,\n",
        "                   verbose=1, mode='min', baseline=None, restore_best_weights=True)\n",
        "\n",
        "for i, (i_trn, i_val) in enumerate(cv.split(train_padded, y_train), 1):\n",
        "    print(f'training model for CV #{i}')\n",
        "\n",
        "    model.fit(train_padded[i_trn], \n",
        "            to_categorical(y_train[i_trn]),\n",
        "            validation_data=(train_padded[i_val], to_categorical(y_train[i_val])),\n",
        "            epochs=10,\n",
        "            batch_size=256,\n",
        "            callbacks=[es])     # 조기 종료 옵션\n",
        "                      \n",
        "    test_y += model.predict(test_padded) / n_fold    # 나온 예측값들을 교차 검증 횟수로 나눈다"
      ],
      "execution_count": null,
      "outputs": [
        {
          "output_type": "stream",
          "text": [
            "training model for CV #1\n",
            "Epoch 1/10\n",
            "95/95 [==============================] - 41s 115ms/step - loss: 0.4913 - accuracy: 0.7982 - val_loss: 0.2133 - val_accuracy: 0.9040\n",
            "Epoch 2/10\n",
            "95/95 [==============================] - 10s 109ms/step - loss: 0.1411 - accuracy: 0.9468 - val_loss: 0.1749 - val_accuracy: 0.9305\n",
            "Epoch 3/10\n",
            "95/95 [==============================] - 10s 108ms/step - loss: 0.0527 - accuracy: 0.9832 - val_loss: 0.1977 - val_accuracy: 0.9304\n",
            "Epoch 4/10\n",
            "95/95 [==============================] - 10s 109ms/step - loss: 0.0252 - accuracy: 0.9938 - val_loss: 0.2215 - val_accuracy: 0.9301\n",
            "Epoch 5/10\n",
            "95/95 [==============================] - 10s 107ms/step - loss: 0.0159 - accuracy: 0.9961 - val_loss: 0.2510 - val_accuracy: 0.9254\n",
            "Restoring model weights from the end of the best epoch.\n",
            "Epoch 00005: early stopping\n",
            "training model for CV #2\n",
            "Epoch 1/10\n",
            "95/95 [==============================] - 10s 109ms/step - loss: 0.0922 - accuracy: 0.9676 - val_loss: 0.0617 - val_accuracy: 0.9793\n",
            "Epoch 2/10\n",
            "95/95 [==============================] - 10s 107ms/step - loss: 0.0363 - accuracy: 0.9902 - val_loss: 0.0659 - val_accuracy: 0.9748\n",
            "Epoch 3/10\n",
            "95/95 [==============================] - 10s 107ms/step - loss: 0.0211 - accuracy: 0.9952 - val_loss: 0.0731 - val_accuracy: 0.9733\n",
            "Epoch 4/10\n",
            "95/95 [==============================] - 10s 110ms/step - loss: 0.0155 - accuracy: 0.9962 - val_loss: 0.0819 - val_accuracy: 0.9720\n",
            "Restoring model weights from the end of the best epoch.\n",
            "Epoch 00004: early stopping\n",
            "training model for CV #3\n",
            "Epoch 1/10\n",
            "95/95 [==============================] - 10s 108ms/step - loss: 0.0442 - accuracy: 0.9851 - val_loss: 0.0381 - val_accuracy: 0.9908\n",
            "Epoch 2/10\n",
            "95/95 [==============================] - 10s 110ms/step - loss: 0.0205 - accuracy: 0.9942 - val_loss: 0.0449 - val_accuracy: 0.9872\n",
            "Epoch 3/10\n",
            "95/95 [==============================] - 10s 109ms/step - loss: 0.0128 - accuracy: 0.9966 - val_loss: 0.0482 - val_accuracy: 0.9863\n",
            "Epoch 4/10\n",
            "95/95 [==============================] - 10s 109ms/step - loss: 0.0088 - accuracy: 0.9979 - val_loss: 0.0562 - val_accuracy: 0.9850\n",
            "Restoring model weights from the end of the best epoch.\n",
            "Epoch 00004: early stopping\n",
            "training model for CV #4\n",
            "Epoch 1/10\n",
            "95/95 [==============================] - 10s 110ms/step - loss: 0.0268 - accuracy: 0.9930 - val_loss: 0.0227 - val_accuracy: 0.9931\n",
            "Epoch 2/10\n",
            "95/95 [==============================] - 10s 108ms/step - loss: 0.0179 - accuracy: 0.9953 - val_loss: 0.0279 - val_accuracy: 0.9905\n",
            "Epoch 3/10\n",
            "95/95 [==============================] - 10s 109ms/step - loss: 0.0119 - accuracy: 0.9970 - val_loss: 0.0298 - val_accuracy: 0.9911\n",
            "Epoch 4/10\n",
            "95/95 [==============================] - 10s 107ms/step - loss: 0.0099 - accuracy: 0.9973 - val_loss: 0.0332 - val_accuracy: 0.9895\n",
            "Restoring model weights from the end of the best epoch.\n",
            "Epoch 00004: early stopping\n",
            "training model for CV #5\n",
            "Epoch 1/10\n",
            "95/95 [==============================] - 10s 109ms/step - loss: 0.0197 - accuracy: 0.9946 - val_loss: 0.0203 - val_accuracy: 0.9942\n",
            "Epoch 2/10\n",
            "95/95 [==============================] - 10s 106ms/step - loss: 0.0127 - accuracy: 0.9966 - val_loss: 0.0233 - val_accuracy: 0.9934\n",
            "Epoch 3/10\n",
            "95/95 [==============================] - 10s 106ms/step - loss: 0.0096 - accuracy: 0.9975 - val_loss: 0.0279 - val_accuracy: 0.9911\n",
            "Epoch 4/10\n",
            "95/95 [==============================] - 10s 107ms/step - loss: 0.0084 - accuracy: 0.9981 - val_loss: 0.0275 - val_accuracy: 0.9918\n",
            "Restoring model weights from the end of the best epoch.\n",
            "Epoch 00004: early stopping\n"
          ],
          "name": "stdout"
        }
      ]
    },
    {
      "cell_type": "code",
      "metadata": {
        "id": "37lbHuwuaAxB"
      },
      "source": [
        "y_pred_proba1=[]\n",
        "for i in range(len(test_y)):\n",
        "  if test_y[i][0]>test_y[i][1]:\n",
        "    y_pred_proba1.append(0)\n",
        "  elif test_y[i][1]>test_y[i][0]:\n",
        "    y_pred_proba1.append(1)"
      ],
      "execution_count": null,
      "outputs": []
    },
    {
      "cell_type": "code",
      "metadata": {
        "id": "63Qs1kGcaAxC"
      },
      "source": [
        "from sklearn.metrics import accuracy_score, roc_auc_score, roc_curve\n",
        "\n",
        "acc = accuracy_score(y_test, y_pred_proba1)"
      ],
      "execution_count": null,
      "outputs": []
    },
    {
      "cell_type": "code",
      "metadata": {
        "colab": {
          "base_uri": "https://localhost:8080/"
        },
        "id": "IHEnPWmvaAxC",
        "outputId": "9f39020d-ef79-4714-8b72-4aa77fefaca7"
      },
      "source": [
        "print(acc)"
      ],
      "execution_count": null,
      "outputs": [
        {
          "output_type": "stream",
          "text": [
            "0.9316046599022924\n"
          ],
          "name": "stdout"
        }
      ]
    },
    {
      "cell_type": "code",
      "metadata": {
        "colab": {
          "base_uri": "https://localhost:8080/"
        },
        "id": "kZOfZ4PZaAxD",
        "outputId": "f927f6db-07ad-4968-f8e5-2b801bd9e13e"
      },
      "source": [
        "from sklearn.metrics import confusion_matrix\n",
        "from sklearn.metrics import classification_report\n",
        "\n",
        "print(confusion_matrix(y_test, y_pred_proba1))\n",
        "print(classification_report(y_test, y_pred_proba1, target_names=['0', '1']))"
      ],
      "execution_count": null,
      "outputs": [
        {
          "output_type": "stream",
          "text": [
            "[[1172  301]\n",
            " [ 245 6265]]\n",
            "              precision    recall  f1-score   support\n",
            "\n",
            "           0       0.83      0.80      0.81      1473\n",
            "           1       0.95      0.96      0.96      6510\n",
            "\n",
            "    accuracy                           0.93      7983\n",
            "   macro avg       0.89      0.88      0.88      7983\n",
            "weighted avg       0.93      0.93      0.93      7983\n",
            "\n"
          ],
          "name": "stdout"
        }
      ]
    },
    {
      "cell_type": "code",
      "metadata": {
        "colab": {
          "base_uri": "https://localhost:8080/"
        },
        "id": "71mnR8zuH6k8",
        "outputId": "1b8e93e2-1bf2-4f1b-a2d7-f3e075af06a3"
      },
      "source": [
        "from sklearn.metrics import roc_curve, auc, roc_auc_score\n",
        "\n",
        "print(roc_auc_score(y_test, y_pred_proba1))"
      ],
      "execution_count": null,
      "outputs": [
        {
          "output_type": "stream",
          "text": [
            "0.8790103584959378\n"
          ],
          "name": "stdout"
        }
      ]
    }
  ]
}