{
 "metadata": {
  "language_info": {
   "codemirror_mode": {
    "name": "ipython",
    "version": 3
   },
   "file_extension": ".py",
   "mimetype": "text/x-python",
   "name": "python",
   "nbconvert_exporter": "python",
   "pygments_lexer": "ipython3",
   "version": "3.7.3"
  },
  "orig_nbformat": 2,
  "kernelspec": {
   "name": "python373jvsc74a57bd0e48d23369a553edc96f1373b6255b5687d82d68cd08867622b2500e338930542",
   "display_name": "Python 3.7.3 64-bit ('base': conda)"
  }
 },
 "nbformat": 4,
 "nbformat_minor": 2,
 "cells": [
  {
   "cell_type": "code",
   "execution_count": 40,
   "metadata": {},
   "outputs": [],
   "source": [
    "import pandas as pd\n",
    "from gensim import models\n",
    "from konlpy.tag import Komoran, Kkma, Okt\n",
    "import re\n",
    "import numpy as np\n",
    "import time\n",
    "from sklearn.metrics.pairwise import cosine_similarity"
   ]
  },
  {
   "cell_type": "code",
   "execution_count": 2,
   "metadata": {},
   "outputs": [],
   "source": [
    "ko_models = models.fasttext.load_facebook_model('D:/LikeLion/Code/Project2/Fasttext/cc.ko.300.bin')"
   ]
  },
  {
   "cell_type": "code",
   "execution_count": 17,
   "metadata": {},
   "outputs": [],
   "source": [
    "dataset = pd.read_csv('D:/LikeLion/Code/Project2/Data/spell_check_label.csv',encoding='utf-8')"
   ]
  },
  {
   "cell_type": "code",
   "execution_count": 18,
   "metadata": {},
   "outputs": [],
   "source": [
    "with open('D:/LikeLion/Code/Project2/Data/kor_stop.txt', 'r', encoding='utf-8') as f:\n",
    "    list_file = f.readlines()\n",
    "stopwords = [line.rstrip('\\n') for line in list_file] "
   ]
  },
  {
   "cell_type": "code",
   "execution_count": 23,
   "metadata": {},
   "outputs": [],
   "source": [
    "dataset['tokenized'] = dataset['fixed'].apply(lambda x: re.sub(r\"\\+d\",\"\",x))\n",
    "dataset['tokenized'].replace('', np.nan, inplace=True)\n",
    "dataset = dataset.dropna(subset=[\"tokenized\"])"
   ]
  },
  {
   "cell_type": "code",
   "execution_count": 24,
   "metadata": {},
   "outputs": [],
   "source": [
    "komoran = Komoran(userdic='D:/LikeLion/Code/Project2/Data/userdic.txt')\n",
    "kkma = Kkma()\n",
    "okt = Okt()"
   ]
  },
  {
   "cell_type": "code",
   "execution_count": 25,
   "metadata": {},
   "outputs": [],
   "source": [
    "def tokenizer(text):\n",
    "    tokens_ko = komoran.morphs(text)\n",
    "    tokens = []\n",
    "    for words in tokens_ko:\n",
    "        if words not in stopwords:\n",
    "            tokens.append(words)\n",
    "    # return re.sub('\\.','',' '.join(to_return))\n",
    "    return tokens"
   ]
  },
  {
   "cell_type": "code",
   "execution_count": 26,
   "metadata": {},
   "outputs": [],
   "source": [
    "dataset['tokenzied'] = dataset['tokenized'].apply(lambda x: tokenizer(x))"
   ]
  },
  {
   "cell_type": "code",
   "execution_count": 27,
   "metadata": {},
   "outputs": [],
   "source": [
    "documents = dataset['tokenized'].to_list()"
   ]
  },
  {
   "cell_type": "code",
   "execution_count": 41,
   "metadata": {},
   "outputs": [
    {
     "output_type": "stream",
     "name": "stdout",
     "text": [
      "모델 학습 시작\n",
      "학습 소요 시간: 58.705886125564575\n"
     ]
    }
   ],
   "source": [
    "start = time.time()\n",
    "print(\"모델 학습 시작\")\n",
    "ko_models.build_vocab(documents, update=True)\n",
    "ko_models.train(sentences=documents, total_examples=len(documents), epochs=40)\n",
    "print(\"학습 소요 시간:\", time.time()-start)"
   ]
  },
  {
   "cell_type": "code",
   "execution_count": 56,
   "metadata": {},
   "outputs": [
    {
     "output_type": "stream",
     "name": "stderr",
     "text": [
      "ipykernel_launcher:1: DeprecationWarning: Call to deprecated `similar_by_word` (Method will be removed in 4.0.0, use self.wv.similar_by_word() instead).\n"
     ]
    },
    {
     "output_type": "execute_result",
     "data": {
      "text/plain": [
       "[('체증과', 0.6887739896774292),\n",
       " ('체증은', 0.6590523719787598),\n",
       " ('체증에', 0.6376566290855408),\n",
       " ('체증', 0.6231805086135864),\n",
       " ('운수기업의', 0.6211748123168945),\n",
       " ('알피코', 0.6201746463775635),\n",
       " ('交通广播', 0.6200942993164062),\n",
       " ('交通', 0.6135200262069702),\n",
       " ('체증의', 0.6103243827819824),\n",
       " ('대중교통', 0.5714294910430908),\n",
       " ('교통과', 0.5566980242729187),\n",
       " ('수단들도', 0.5515860319137573),\n",
       " ('영일대도보7분', 0.5486030578613281),\n",
       " ('혼잡과', 0.5463736057281494),\n",
       " ('정온화', 0.5390980243682861),\n",
       " ('도로교통', 0.5385414958000183),\n",
       " ('체증으로', 0.5352118611335754),\n",
       " ('철도', 0.527549147605896),\n",
       " ('교통에', 0.5271870493888855),\n",
       " ('운송', 0.5239548087120056)]"
      ]
     },
     "metadata": {},
     "execution_count": 56
    }
   ],
   "source": [
    "ko_models.similar_by_word('교통', 20)"
   ]
  },
  {
   "cell_type": "code",
   "execution_count": 60,
   "metadata": {},
   "outputs": [
    {
     "output_type": "error",
     "ename": "TypeError",
     "evalue": "'FastTextKeyedVectors' object is not callable",
     "traceback": [
      "\u001b[1;31m---------------------------------------------------------------------------\u001b[0m",
      "\u001b[1;31mTypeError\u001b[0m                                 Traceback (most recent call last)",
      "\u001b[1;32m<ipython-input-60-d24db19908a7>\u001b[0m in \u001b[0;36m<module>\u001b[1;34m\u001b[0m\n\u001b[1;32m----> 1\u001b[1;33m \u001b[0mko_models\u001b[0m\u001b[1;33m.\u001b[0m\u001b[0mwv\u001b[0m\u001b[1;33m(\u001b[0m\u001b[1;34m'깨끗'\u001b[0m\u001b[1;33m)\u001b[0m\u001b[1;33m\u001b[0m\u001b[1;33m\u001b[0m\u001b[0m\n\u001b[0m",
      "\u001b[1;31mTypeError\u001b[0m: 'FastTextKeyedVectors' object is not callable"
     ]
    }
   ],
   "source": [
    "ko_models.wv"
   ]
  },
  {
   "cell_type": "code",
   "execution_count": 39,
   "metadata": {},
   "outputs": [],
   "source": [
    "keywords=['깨끗', '객실', '깔끔', '친절', '화장실', '침대', '주차', '만족', '이용', '영등포', '시설', '위치', '직원', '가성비', '소음', '방이', '기차', '가격', '소리', '가깝고', '최고', '청결', '체크인', '가까워서', '시끄', '불편', '접근성', '방은', '고층', '편하고', '문이', '침구', '지하철', '교통', '서비스', '아쉬', '방도', '없어서', '샤워', '시티', '주변에', '프런트', '파크뷰', '전철', '없는', '조식', '예약', '근처', '방문', '시간', '대비', '편안', '조용', '없고', '청소']"
   ]
  },
  {
   "cell_type": "code",
   "execution_count": null,
   "metadata": {},
   "outputs": [],
   "source": []
  }
 ]
}