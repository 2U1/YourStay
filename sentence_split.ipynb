{
 "cells": [
  {
   "cell_type": "code",
   "execution_count": null,
   "id": "ceramic-freight",
   "metadata": {},
   "outputs": [],
   "source": [
    "import pandas as pd\n",
    "import re\n",
    "import kss\n",
    "from koalanlp.Util import initialize, finalize\n",
    "from koalanlp.proc import SentenceSplitter\n",
    "from koalanlp import API\n",
    "\n",
    "initialize(OKT='LATEST')  #: HNN=2.0.3\n",
    "\n",
    "splitter = SentenceSplitter(API.OKT)"
   ]
  },
  {
   "cell_type": "code",
   "execution_count": null,
   "id": "bronze-damage",
   "metadata": {},
   "outputs": [],
   "source": [
    "file_path = '/content/drive/MyDrive/NLP/review.csv'\n",
    "data = pd.read_csv(file_path, encoding='utf-8')"
   ]
  },
  {
   "cell_type": "code",
   "execution_count": null,
   "id": "stretch-exercise",
   "metadata": {},
   "outputs": [],
   "source": [
    "def text_clean(x):\n",
    "    x = re.sub('\\.{2,}','\\.',x)\n",
    "    x = re.sub('\\!{2,}','\\!',x)\n",
    "#     x = re.sub(r'\\+','',x)\n",
    "#     x = re.sub(r'\\-','',x)\n",
    "    x = re.sub('\\n','\\.',x)\n",
    "    x = re.sub('\\s+',' ',x)\n",
    "    x = re.sub('[^가-힣0-9a-zA-Z\\.\\!\\?\\, ]','',x) \n",
    "    \n",
    "    return x"
   ]
  },
  {
   "cell_type": "code",
   "execution_count": null,
   "id": "advisory-penetration",
   "metadata": {},
   "outputs": [],
   "source": [
    "data['content'] = data['content'].apply(lambda x: text_clean(str(x)))"
   ]
  },
  {
   "cell_type": "code",
   "execution_count": null,
   "id": "violent-discrimination",
   "metadata": {},
   "outputs": [],
   "source": [
    "def sentence_split(df, col, file_name) :\n",
    "    contents = df[col]\n",
    "    sent = []\n",
    "    for i in range(len(contents)):\n",
    "        sent.append(kss.split_sentences(contents[i]))\n",
    "\n",
    "    sent2 = []\n",
    "    for i in sent :\n",
    "        sent2.append(splitter(i))\n",
    "        \n",
    "    sent2 = pd.Series(sent2)\n",
    "    \n",
    "    df['sentence'] = sent2\n",
    "    df = df.explode('sentence')\n",
    "    \n",
    "    df.to_csv(file_name, encoding='euc-kr')\n",
    "    \n",
    "    return df.head()"
   ]
  }
 ],
 "metadata": {
  "kernelspec": {
   "display_name": "Python 3",
   "language": "python",
   "name": "python3"
  },
  "language_info": {
   "codemirror_mode": {
    "name": "ipython",
    "version": 3
   },
   "file_extension": ".py",
   "mimetype": "text/x-python",
   "name": "python",
   "nbconvert_exporter": "python",
   "pygments_lexer": "ipython3",
   "version": "3.7.1"
  },
  "toc": {
   "base_numbering": 1,
   "nav_menu": {},
   "number_sections": true,
   "sideBar": true,
   "skip_h1_title": false,
   "title_cell": "Table of Contents",
   "title_sidebar": "Contents",
   "toc_cell": false,
   "toc_position": {},
   "toc_section_display": true,
   "toc_window_display": false
  },
  "varInspector": {
   "cols": {
    "lenName": 16,
    "lenType": 16,
    "lenVar": 40
   },
   "kernels_config": {
    "python": {
     "delete_cmd_postfix": "",
     "delete_cmd_prefix": "del ",
     "library": "var_list.py",
     "varRefreshCmd": "print(var_dic_list())"
    },
    "r": {
     "delete_cmd_postfix": ") ",
     "delete_cmd_prefix": "rm(",
     "library": "var_list.r",
     "varRefreshCmd": "cat(var_dic_list()) "
    }
   },
   "types_to_exclude": [
    "module",
    "function",
    "builtin_function_or_method",
    "instance",
    "_Feature"
   ],
   "window_display": false
  }
 },
 "nbformat": 4,
 "nbformat_minor": 5
}
