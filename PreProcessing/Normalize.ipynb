{
 "metadata": {
  "language_info": {
   "codemirror_mode": {
    "name": "ipython",
    "version": 3
   },
   "file_extension": ".py",
   "mimetype": "text/x-python",
   "name": "python",
   "nbconvert_exporter": "python",
   "pygments_lexer": "ipython3",
   "version": "3.7.3"
  },
  "orig_nbformat": 2,
  "kernelspec": {
   "name": "python373jvsc74a57bd0e48d23369a553edc96f1373b6255b5687d82d68cd08867622b2500e338930542",
   "display_name": "Python 3.7.3 64-bit ('base': conda)"
  }
 },
 "nbformat": 4,
 "nbformat_minor": 2,
 "cells": [
  {
   "cell_type": "code",
   "execution_count": 1,
   "metadata": {},
   "outputs": [],
   "source": [
    "from soynlp.normalizer import *\n",
    "import pandas as pd"
   ]
  },
  {
   "cell_type": "code",
   "execution_count": 3,
   "metadata": {},
   "outputs": [],
   "source": [
    "# data = pd.read_csv(\"D:/LikeLion/Code/Project2/Data/spaced_label.csv\", encoding='utf-8')\n",
    "data = pd.read_csv(\"D:/LikeLion/Code/Project2/Data/new_split_unlabeling.csv\", encoding='cp949')"
   ]
  },
  {
   "cell_type": "code",
   "execution_count": 4,
   "metadata": {},
   "outputs": [
    {
     "output_type": "execute_result",
     "data": {
      "text/plain": [
       "        Unnamed: 0    reviewID  cleanliness  convenience  kindness  position  \\\n",
       "0             3139  10737608.0          1.0          1.0       1.0       1.0   \n",
       "1             3139  10737608.0          1.0          1.0       1.0       1.0   \n",
       "2             3139  10737608.0          1.0          1.0       1.0       1.0   \n",
       "3             3140  10736181.0          5.0          5.0       5.0       5.0   \n",
       "4             3140  10736181.0          5.0          5.0       5.0       5.0   \n",
       "...            ...         ...          ...          ...       ...       ...   \n",
       "113551       98902   2893006.0          5.0          5.0       5.0       5.0   \n",
       "113552       98903   2846155.0          4.0          4.0       4.0       4.0   \n",
       "113553       98904   2845540.0          4.0          3.0       4.0       3.0   \n",
       "113554       98905   2840630.0          3.0          3.0       3.0       3.0   \n",
       "113555       98906   2835989.0          5.0          5.0       4.0       4.0   \n",
       "\n",
       "        totalScore                                            content  \\\n",
       "0              1.0  전철 다니는 소리때문에 잠을 못자겠습니다. 전철이 밤 늦게까지 새벽 일찍부터 다녀서...   \n",
       "1              1.0  전철 다니는 소리때문에 잠을 못자겠습니다. 전철이 밤 늦게까지 새벽 일찍부터 다녀서...   \n",
       "2              1.0  전철 다니는 소리때문에 잠을 못자겠습니다. 전철이 밤 늦게까지 새벽 일찍부터 다녀서...   \n",
       "3              5.0  침대가 넓어서 너무 좋았어요! 접근성도 좋아서 추천합니다! 다만 화장실이 특이하게 ...   \n",
       "4              5.0  침대가 넓어서 너무 좋았어요! 접근성도 좋아서 추천합니다! 다만 화장실이 특이하게 ...   \n",
       "...            ...                                                ...   \n",
       "113551         5.0                                         깨끗하고 좋았어요    \n",
       "113552         4.0                                              만족합니다   \n",
       "113553         5.0                                              좋았습니다   \n",
       "113554         4.0                                      일방통행이라 주차하기별로   \n",
       "113555         4.0                                              네 좋아요   \n",
       "\n",
       "              date                        hotelAddr hotelGrade  \\\n",
       "0       2020-11-07          서울특별시 영등포구 영등포동1가 143-3        4성급   \n",
       "1       2020-11-07          서울특별시 영등포구 영등포동1가 143-3        4성급   \n",
       "2       2020-11-07          서울특별시 영등포구 영등포동1가 143-3        4성급   \n",
       "3       2020-11-07          서울특별시 영등포구 영등포동1가 143-3        4성급   \n",
       "4       2020-11-07          서울특별시 영등포구 영등포동1가 143-3        4성급   \n",
       "...            ...                              ...        ...   \n",
       "113551  2018-08-12  서울특별시 서초구 서초동 1337-3 강남역 푸르지오시티       레지던스   \n",
       "113552  2018-08-08  서울특별시 서초구 서초동 1337-3 강남역 푸르지오시티       레지던스   \n",
       "113553  2018-08-08  서울특별시 서초구 서초동 1337-3 강남역 푸르지오시티       레지던스   \n",
       "113554  2018-08-07  서울특별시 서초구 서초동 1337-3 강남역 푸르지오시티       레지던스   \n",
       "113555  2018-08-07  서울특별시 서초구 서초동 1337-3 강남역 푸르지오시티       레지던스   \n",
       "\n",
       "               hotelLoc        hotelName  label  \\\n",
       "0       영등포역 5번출구 도보 3분  페어필드 바이 메리어트 서울    NaN   \n",
       "1       영등포역 5번출구 도보 3분  페어필드 바이 메리어트 서울    NaN   \n",
       "2       영등포역 5번출구 도보 3분  페어필드 바이 메리어트 서울    NaN   \n",
       "3       영등포역 5번출구 도보 3분  페어필드 바이 메리어트 서울    NaN   \n",
       "4       영등포역 5번출구 도보 3분  페어필드 바이 메리어트 서울    NaN   \n",
       "...                 ...              ...    ...   \n",
       "113551    강남역 5번출구 도보5분        어반플레이스 강남    NaN   \n",
       "113552    강남역 5번출구 도보5분        어반플레이스 강남    NaN   \n",
       "113553    강남역 5번출구 도보5분        어반플레이스 강남    NaN   \n",
       "113554    강남역 5번출구 도보5분        어반플레이스 강남    NaN   \n",
       "113555    강남역 5번출구 도보5분        어반플레이스 강남    NaN   \n",
       "\n",
       "                                 sentence  \n",
       "0                 전철 다니는 소리때문에 잠을 못자겠습니다.  \n",
       "1       전철이 밤 늦게까지 새벽 일찍부터 다녀서 몇시간 못잤습니다.  \n",
       "2                          그리고 어매니티가 핵구림.  \n",
       "3                        침대가 넓어서 너무 좋았어요!  \n",
       "4                         접근성도 좋아서 추천합니다!  \n",
       "...                                   ...  \n",
       "113551                          깨끗하고 좋았어요  \n",
       "113552                              만족합니다  \n",
       "113553                              좋았습니다  \n",
       "113554                      일방통행이라 주차하기별로  \n",
       "113555                              네 좋아요  \n",
       "\n",
       "[113556 rows x 15 columns]"
      ],
      "text/html": "<div>\n<style scoped>\n    .dataframe tbody tr th:only-of-type {\n        vertical-align: middle;\n    }\n\n    .dataframe tbody tr th {\n        vertical-align: top;\n    }\n\n    .dataframe thead th {\n        text-align: right;\n    }\n</style>\n<table border=\"1\" class=\"dataframe\">\n  <thead>\n    <tr style=\"text-align: right;\">\n      <th></th>\n      <th>Unnamed: 0</th>\n      <th>reviewID</th>\n      <th>cleanliness</th>\n      <th>convenience</th>\n      <th>kindness</th>\n      <th>position</th>\n      <th>totalScore</th>\n      <th>content</th>\n      <th>date</th>\n      <th>hotelAddr</th>\n      <th>hotelGrade</th>\n      <th>hotelLoc</th>\n      <th>hotelName</th>\n      <th>label</th>\n      <th>sentence</th>\n    </tr>\n  </thead>\n  <tbody>\n    <tr>\n      <th>0</th>\n      <td>3139</td>\n      <td>10737608.0</td>\n      <td>1.0</td>\n      <td>1.0</td>\n      <td>1.0</td>\n      <td>1.0</td>\n      <td>1.0</td>\n      <td>전철 다니는 소리때문에 잠을 못자겠습니다. 전철이 밤 늦게까지 새벽 일찍부터 다녀서...</td>\n      <td>2020-11-07</td>\n      <td>서울특별시 영등포구 영등포동1가 143-3</td>\n      <td>4성급</td>\n      <td>영등포역 5번출구 도보 3분</td>\n      <td>페어필드 바이 메리어트 서울</td>\n      <td>NaN</td>\n      <td>전철 다니는 소리때문에 잠을 못자겠습니다.</td>\n    </tr>\n    <tr>\n      <th>1</th>\n      <td>3139</td>\n      <td>10737608.0</td>\n      <td>1.0</td>\n      <td>1.0</td>\n      <td>1.0</td>\n      <td>1.0</td>\n      <td>1.0</td>\n      <td>전철 다니는 소리때문에 잠을 못자겠습니다. 전철이 밤 늦게까지 새벽 일찍부터 다녀서...</td>\n      <td>2020-11-07</td>\n      <td>서울특별시 영등포구 영등포동1가 143-3</td>\n      <td>4성급</td>\n      <td>영등포역 5번출구 도보 3분</td>\n      <td>페어필드 바이 메리어트 서울</td>\n      <td>NaN</td>\n      <td>전철이 밤 늦게까지 새벽 일찍부터 다녀서 몇시간 못잤습니다.</td>\n    </tr>\n    <tr>\n      <th>2</th>\n      <td>3139</td>\n      <td>10737608.0</td>\n      <td>1.0</td>\n      <td>1.0</td>\n      <td>1.0</td>\n      <td>1.0</td>\n      <td>1.0</td>\n      <td>전철 다니는 소리때문에 잠을 못자겠습니다. 전철이 밤 늦게까지 새벽 일찍부터 다녀서...</td>\n      <td>2020-11-07</td>\n      <td>서울특별시 영등포구 영등포동1가 143-3</td>\n      <td>4성급</td>\n      <td>영등포역 5번출구 도보 3분</td>\n      <td>페어필드 바이 메리어트 서울</td>\n      <td>NaN</td>\n      <td>그리고 어매니티가 핵구림.</td>\n    </tr>\n    <tr>\n      <th>3</th>\n      <td>3140</td>\n      <td>10736181.0</td>\n      <td>5.0</td>\n      <td>5.0</td>\n      <td>5.0</td>\n      <td>5.0</td>\n      <td>5.0</td>\n      <td>침대가 넓어서 너무 좋았어요! 접근성도 좋아서 추천합니다! 다만 화장실이 특이하게 ...</td>\n      <td>2020-11-07</td>\n      <td>서울특별시 영등포구 영등포동1가 143-3</td>\n      <td>4성급</td>\n      <td>영등포역 5번출구 도보 3분</td>\n      <td>페어필드 바이 메리어트 서울</td>\n      <td>NaN</td>\n      <td>침대가 넓어서 너무 좋았어요!</td>\n    </tr>\n    <tr>\n      <th>4</th>\n      <td>3140</td>\n      <td>10736181.0</td>\n      <td>5.0</td>\n      <td>5.0</td>\n      <td>5.0</td>\n      <td>5.0</td>\n      <td>5.0</td>\n      <td>침대가 넓어서 너무 좋았어요! 접근성도 좋아서 추천합니다! 다만 화장실이 특이하게 ...</td>\n      <td>2020-11-07</td>\n      <td>서울특별시 영등포구 영등포동1가 143-3</td>\n      <td>4성급</td>\n      <td>영등포역 5번출구 도보 3분</td>\n      <td>페어필드 바이 메리어트 서울</td>\n      <td>NaN</td>\n      <td>접근성도 좋아서 추천합니다!</td>\n    </tr>\n    <tr>\n      <th>...</th>\n      <td>...</td>\n      <td>...</td>\n      <td>...</td>\n      <td>...</td>\n      <td>...</td>\n      <td>...</td>\n      <td>...</td>\n      <td>...</td>\n      <td>...</td>\n      <td>...</td>\n      <td>...</td>\n      <td>...</td>\n      <td>...</td>\n      <td>...</td>\n      <td>...</td>\n    </tr>\n    <tr>\n      <th>113551</th>\n      <td>98902</td>\n      <td>2893006.0</td>\n      <td>5.0</td>\n      <td>5.0</td>\n      <td>5.0</td>\n      <td>5.0</td>\n      <td>5.0</td>\n      <td>깨끗하고 좋았어요</td>\n      <td>2018-08-12</td>\n      <td>서울특별시 서초구 서초동 1337-3 강남역 푸르지오시티</td>\n      <td>레지던스</td>\n      <td>강남역 5번출구 도보5분</td>\n      <td>어반플레이스 강남</td>\n      <td>NaN</td>\n      <td>깨끗하고 좋았어요</td>\n    </tr>\n    <tr>\n      <th>113552</th>\n      <td>98903</td>\n      <td>2846155.0</td>\n      <td>4.0</td>\n      <td>4.0</td>\n      <td>4.0</td>\n      <td>4.0</td>\n      <td>4.0</td>\n      <td>만족합니다</td>\n      <td>2018-08-08</td>\n      <td>서울특별시 서초구 서초동 1337-3 강남역 푸르지오시티</td>\n      <td>레지던스</td>\n      <td>강남역 5번출구 도보5분</td>\n      <td>어반플레이스 강남</td>\n      <td>NaN</td>\n      <td>만족합니다</td>\n    </tr>\n    <tr>\n      <th>113553</th>\n      <td>98904</td>\n      <td>2845540.0</td>\n      <td>4.0</td>\n      <td>3.0</td>\n      <td>4.0</td>\n      <td>3.0</td>\n      <td>5.0</td>\n      <td>좋았습니다</td>\n      <td>2018-08-08</td>\n      <td>서울특별시 서초구 서초동 1337-3 강남역 푸르지오시티</td>\n      <td>레지던스</td>\n      <td>강남역 5번출구 도보5분</td>\n      <td>어반플레이스 강남</td>\n      <td>NaN</td>\n      <td>좋았습니다</td>\n    </tr>\n    <tr>\n      <th>113554</th>\n      <td>98905</td>\n      <td>2840630.0</td>\n      <td>3.0</td>\n      <td>3.0</td>\n      <td>3.0</td>\n      <td>3.0</td>\n      <td>4.0</td>\n      <td>일방통행이라 주차하기별로</td>\n      <td>2018-08-07</td>\n      <td>서울특별시 서초구 서초동 1337-3 강남역 푸르지오시티</td>\n      <td>레지던스</td>\n      <td>강남역 5번출구 도보5분</td>\n      <td>어반플레이스 강남</td>\n      <td>NaN</td>\n      <td>일방통행이라 주차하기별로</td>\n    </tr>\n    <tr>\n      <th>113555</th>\n      <td>98906</td>\n      <td>2835989.0</td>\n      <td>5.0</td>\n      <td>5.0</td>\n      <td>4.0</td>\n      <td>4.0</td>\n      <td>4.0</td>\n      <td>네 좋아요</td>\n      <td>2018-08-07</td>\n      <td>서울특별시 서초구 서초동 1337-3 강남역 푸르지오시티</td>\n      <td>레지던스</td>\n      <td>강남역 5번출구 도보5분</td>\n      <td>어반플레이스 강남</td>\n      <td>NaN</td>\n      <td>네 좋아요</td>\n    </tr>\n  </tbody>\n</table>\n<p>113556 rows × 15 columns</p>\n</div>"
     },
     "metadata": {},
     "execution_count": 4
    }
   ],
   "source": [
    "data"
   ]
  },
  {
   "cell_type": "code",
   "execution_count": 5,
   "metadata": {},
   "outputs": [],
   "source": [
    "def normalizer(x):\n",
    "    emoticon_normalize(x, num_repeats=2)\n",
    "    repeat_normalize(x, num_repeats=2)\n",
    "\n",
    "    return x"
   ]
  },
  {
   "cell_type": "code",
   "execution_count": 7,
   "metadata": {},
   "outputs": [],
   "source": [
    "data['sentence'] = data['sentence'].apply(lambda x: normalizer(str(x)))"
   ]
  },
  {
   "cell_type": "code",
   "execution_count": 8,
   "metadata": {},
   "outputs": [],
   "source": [
    "data.to_csv(\"D:/LikeLion/Code/Project2/Data/new_split_unlabeld_spaced.csv\", encoding='utf-8-sig')"
   ]
  }
 ]
}