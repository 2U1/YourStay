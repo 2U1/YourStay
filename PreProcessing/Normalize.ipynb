{
 "metadata": {
  "language_info": {
   "codemirror_mode": {
    "name": "ipython",
    "version": 3
   },
   "file_extension": ".py",
   "mimetype": "text/x-python",
   "name": "python",
   "nbconvert_exporter": "python",
   "pygments_lexer": "ipython3",
   "version": "3.7.3"
  },
  "orig_nbformat": 2,
  "kernelspec": {
   "name": "python373jvsc74a57bd0e48d23369a553edc96f1373b6255b5687d82d68cd08867622b2500e338930542",
   "display_name": "Python 3.7.3 64-bit (conda)"
  }
 },
 "nbformat": 4,
 "nbformat_minor": 2,
 "cells": [
  {
   "cell_type": "code",
   "execution_count": 3,
   "metadata": {},
   "outputs": [],
   "source": [
    "from soynlp.normalizer import *\n",
    "import pandas as pd"
   ]
  },
  {
   "cell_type": "code",
   "execution_count": 5,
   "metadata": {},
   "outputs": [],
   "source": [
    "data = pd.read_csv(\"D:/LikeLion/Code/Project2/Data/spaced_label.csv\", encoding='utf-8')"
   ]
  },
  {
   "cell_type": "code",
   "execution_count": 6,
   "metadata": {},
   "outputs": [
    {
     "output_type": "execute_result",
     "data": {
      "text/plain": [
       "       Unnamed: 0  label                                           sentence\n",
       "0               0      0             창문 구조 자체가 방음이 잘 되지 않고 찬바람이 들어오는 것 같아요.\n",
       "1               1      0       지금 새벽 네시가 다 되어 가는데 밖에 경찰차 소리가 엄청나게 크게 들리네요?.\n",
       "2               2      0                          난방도 기능은 존재하는데 되는지를 모르겠네요.\n",
       "3               3      0       별로 춥지 않아서 컴플레인은 걸지 않았지만 겨울철 되면 문제가 커질 것 같고요.\n",
       "4               4      0       그리고 화장실 문이 심하게 덜 렁거리고 콘센트가 거의 없어서 매우 불편했습니다.\n",
       "...           ...    ...                                                ...\n",
       "41350       41350      1                                           ㅤㅈㅓㅎ았습니다\n",
       "41351       41351      1                                          ㅤㅈㅠㅎ앗씁니다!\n",
       "41352       41352      1                                          ㅤㅉㅗㅎ 앗습니다\n",
       "41353       41353      1                                            ㅤㅍㅕㄶ습니다\n",
       "41354       41354      1  ㅤㅎㅔㅎ.보일러도 틀었더니 더울 정도로 따뜻.영등포에 또 오게 되면 당연 여기로 묵...\n",
       "\n",
       "[41355 rows x 3 columns]"
      ],
      "text/html": "<div>\n<style scoped>\n    .dataframe tbody tr th:only-of-type {\n        vertical-align: middle;\n    }\n\n    .dataframe tbody tr th {\n        vertical-align: top;\n    }\n\n    .dataframe thead th {\n        text-align: right;\n    }\n</style>\n<table border=\"1\" class=\"dataframe\">\n  <thead>\n    <tr style=\"text-align: right;\">\n      <th></th>\n      <th>Unnamed: 0</th>\n      <th>label</th>\n      <th>sentence</th>\n    </tr>\n  </thead>\n  <tbody>\n    <tr>\n      <th>0</th>\n      <td>0</td>\n      <td>0</td>\n      <td>창문 구조 자체가 방음이 잘 되지 않고 찬바람이 들어오는 것 같아요.</td>\n    </tr>\n    <tr>\n      <th>1</th>\n      <td>1</td>\n      <td>0</td>\n      <td>지금 새벽 네시가 다 되어 가는데 밖에 경찰차 소리가 엄청나게 크게 들리네요?.</td>\n    </tr>\n    <tr>\n      <th>2</th>\n      <td>2</td>\n      <td>0</td>\n      <td>난방도 기능은 존재하는데 되는지를 모르겠네요.</td>\n    </tr>\n    <tr>\n      <th>3</th>\n      <td>3</td>\n      <td>0</td>\n      <td>별로 춥지 않아서 컴플레인은 걸지 않았지만 겨울철 되면 문제가 커질 것 같고요.</td>\n    </tr>\n    <tr>\n      <th>4</th>\n      <td>4</td>\n      <td>0</td>\n      <td>그리고 화장실 문이 심하게 덜 렁거리고 콘센트가 거의 없어서 매우 불편했습니다.</td>\n    </tr>\n    <tr>\n      <th>...</th>\n      <td>...</td>\n      <td>...</td>\n      <td>...</td>\n    </tr>\n    <tr>\n      <th>41350</th>\n      <td>41350</td>\n      <td>1</td>\n      <td>ㅤㅈㅓㅎ았습니다</td>\n    </tr>\n    <tr>\n      <th>41351</th>\n      <td>41351</td>\n      <td>1</td>\n      <td>ㅤㅈㅠㅎ앗씁니다!</td>\n    </tr>\n    <tr>\n      <th>41352</th>\n      <td>41352</td>\n      <td>1</td>\n      <td>ㅤㅉㅗㅎ 앗습니다</td>\n    </tr>\n    <tr>\n      <th>41353</th>\n      <td>41353</td>\n      <td>1</td>\n      <td>ㅤㅍㅕㄶ습니다</td>\n    </tr>\n    <tr>\n      <th>41354</th>\n      <td>41354</td>\n      <td>1</td>\n      <td>ㅤㅎㅔㅎ.보일러도 틀었더니 더울 정도로 따뜻.영등포에 또 오게 되면 당연 여기로 묵...</td>\n    </tr>\n  </tbody>\n</table>\n<p>41355 rows × 3 columns</p>\n</div>"
     },
     "metadata": {},
     "execution_count": 6
    }
   ],
   "source": [
    "data"
   ]
  },
  {
   "cell_type": "code",
   "execution_count": 7,
   "metadata": {},
   "outputs": [],
   "source": [
    "def normalizer(x):\n",
    "    emoticon_normalize(x, num_repeats=2)\n",
    "    repeat_normalize(x, num_repeats=2)\n",
    "\n",
    "    return x"
   ]
  },
  {
   "cell_type": "code",
   "execution_count": 8,
   "metadata": {},
   "outputs": [],
   "source": [
    "data['sentence'] = data['sentence'].apply(lambda x: normalizer(x))"
   ]
  },
  {
   "cell_type": "code",
   "execution_count": 10,
   "metadata": {},
   "outputs": [],
   "source": [
    "data.to_csv(\"D:/LikeLion/Code/Project2/Data/normalized_label.csv\", encoding='utf-8-sig')"
   ]
  }
 ]
}