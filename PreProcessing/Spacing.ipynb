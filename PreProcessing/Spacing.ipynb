{
 "cells": [
  {
   "cell_type": "code",
   "execution_count": 15,
   "metadata": {},
   "outputs": [],
   "source": [
    "import requests\n",
    "import pandas as pd\n",
    "import json\n",
    "import re"
   ]
  },
  {
   "cell_type": "code",
   "execution_count": 16,
   "metadata": {},
   "outputs": [],
   "source": [
    "data = pd.read_csv('D:/LikeLion/Code/Project2/Data/normalized_label.csv',encoding='utf-8')"
   ]
  },
  {
   "cell_type": "code",
   "execution_count": 17,
   "metadata": {},
   "outputs": [],
   "source": [
    "base_url = 'https://m.search.naver.com/p/csearch/ocontent/util/SpellerProxy'\n",
    "\n",
    "header = {'user-agent': 'Mozilla/5.0 (Windows NT 10.0; Win64; x64) AppleWebKit/537.36 (KHTML, like Gecko) Chrome/90.0.4430.93 Safari/537.36'}\n",
    "\n",
    "parameter = {\n",
    "    '_callback':'jQuery1124013465754649774486_1620612671605',\n",
    "    'where':'nexearch',\n",
    "    'q':'즇앗씁니다!',\n",
    "    'color_blindness':'0',\n",
    "    # '_':'1620612671606'\n",
    "}"
   ]
  },
  {
   "cell_type": "code",
   "execution_count": 18,
   "metadata": {},
   "outputs": [],
   "source": [
    "req = requests.get(base_url, params=parameter, headers=header)"
   ]
  },
  {
   "cell_type": "code",
   "execution_count": 19,
   "metadata": {},
   "outputs": [],
   "source": [
    "items = re.findall('\\(([^)]+)', req.text)[0]"
   ]
  },
  {
   "cell_type": "code",
   "execution_count": 20,
   "metadata": {},
   "outputs": [],
   "source": [
    "ex = json.loads(items)['message']['result']['html']"
   ]
  },
  {
   "cell_type": "code",
   "execution_count": 21,
   "metadata": {},
   "outputs": [],
   "source": [
    "def remove_tag(content):\n",
    "   cleanr =re.compile('<.*?>')\n",
    "   cleantext = re.sub(cleanr, '', content)\n",
    "   return cleantext"
   ]
  },
  {
   "cell_type": "code",
   "execution_count": 22,
   "metadata": {},
   "outputs": [
    {
     "output_type": "stream",
     "name": "stdout",
     "text": [
      "즇앗씁니다!\n"
     ]
    }
   ],
   "source": [
    "sample = remove_tag(ex)\n",
    "print(sample)"
   ]
  },
  {
   "cell_type": "code",
   "execution_count": 23,
   "metadata": {},
   "outputs": [],
   "source": [
    "def spell_check(x):\n",
    "    base_url = 'https://m.search.naver.com/p/csearch/ocontent/util/SpellerProxy'\n",
    "\n",
    "    header = {'user-agent': 'Mozilla/5.0 (Windows NT 10.0; Win64; x64) AppleWebKit/537.36 (KHTML, like Gecko) Chrome/90.0.4430.93 Safari/537.36'}\n",
    "\n",
    "    parameter = {\n",
    "        '_callback':'jQuery1124013465754649774486_1620612671605',\n",
    "        'where':'nexearch',\n",
    "        'q':str(x),\n",
    "        'color_blindness':'0',\n",
    "        # '_':'1620612671606'\n",
    "    }\n",
    "\n",
    "    req = requests.get(base_url, params=parameter, headers=header)\n",
    "\n",
    "    items = re.findall('\\(([^)]+)', req.text)[0]\n",
    "\n",
    "    checked = json.loads(items)['message']['result']['html']\n",
    "\n",
    "    tag_removed = remove_tag(checked)\n",
    "\n",
    "    return tag_removed"
   ]
  },
  {
   "cell_type": "code",
   "execution_count": 26,
   "metadata": {},
   "outputs": [],
   "source": [
    "data['fixed'] = data['sentence'].apply(lambda x: spell_check(x))"
   ]
  },
  {
   "cell_type": "code",
   "execution_count": 27,
   "metadata": {},
   "outputs": [
    {
     "output_type": "execute_result",
     "data": {
      "text/plain": [
       "       Unnamed: 0  Unnamed: 0.1  label  \\\n",
       "0               0             0      0   \n",
       "1               1             1      0   \n",
       "2               2             2      0   \n",
       "3               3             3      0   \n",
       "4               4             4      0   \n",
       "...           ...           ...    ...   \n",
       "41350       41350         41350      1   \n",
       "41351       41351         41351      1   \n",
       "41352       41352         41352      1   \n",
       "41353       41353         41353      1   \n",
       "41354       41354         41354      1   \n",
       "\n",
       "                                                sentence  \\\n",
       "0                 창문 구조 자체가 방음이 잘 되지 않고 찬바람이 들어오는 것 같아요.   \n",
       "1           지금 새벽 네시가 다 되어 가는데 밖에 경찰차 소리가 엄청나게 크게 들리네요?.   \n",
       "2                              난방도 기능은 존재하는데 되는지를 모르겠네요.   \n",
       "3           별로 춥지 않아서 컴플레인은 걸지 않았지만 겨울철 되면 문제가 커질 것 같고요.   \n",
       "4           그리고 화장실 문이 심하게 덜 렁거리고 콘센트가 거의 없어서 매우 불편했습니다.   \n",
       "...                                                  ...   \n",
       "41350                                           ㅤㅈㅓㅎ았습니다   \n",
       "41351                                          ㅤㅈㅠㅎ앗씁니다!   \n",
       "41352                                          ㅤㅉㅗㅎ 앗습니다   \n",
       "41353                                            ㅤㅍㅕㄶ습니다   \n",
       "41354  ㅤㅎㅔㅎ.보일러도 틀었더니 더울 정도로 따뜻.영등포에 또 오게 되면 당연 여기로 묵...   \n",
       "\n",
       "                                                   fixed  \n",
       "0                  창문 구조 자체가 방음이 잘되지 않고 찬바람이 들어오는 것 같아요.  \n",
       "1           지금 새벽 네시가 다 되어 가는데 밖에 경찰차 소리가 엄청나게 크게 들리네요?.  \n",
       "2                              난방도 기능은 존재하는데 되는지를 모르겠네요.  \n",
       "3           별로 춥지 않아서 컴플레인은 걸지 않았지만 겨울철 되면 문제가 커질 것 같고요.  \n",
       "4          그리고 화장실 문이 심하게 덜 렁 꺼리고 콘센트가 거의 없어서 매우 불편했습니다.  \n",
       "...                                                  ...  \n",
       "41350                                           젛았습니다습니다  \n",
       "41351                                          즇앗씁니다!니다!  \n",
       "41352                                          좋ㅉㅗㅎ 앗습니다  \n",
       "41353                                            펺습니다습니다  \n",
       "41354  헿.보일러도일러도 틀었더니 더울 정따뜻. 영등포에등포에 또 오게 되면 당연 여기로 ...  \n",
       "\n",
       "[41355 rows x 5 columns]"
      ],
      "text/html": "<div>\n<style scoped>\n    .dataframe tbody tr th:only-of-type {\n        vertical-align: middle;\n    }\n\n    .dataframe tbody tr th {\n        vertical-align: top;\n    }\n\n    .dataframe thead th {\n        text-align: right;\n    }\n</style>\n<table border=\"1\" class=\"dataframe\">\n  <thead>\n    <tr style=\"text-align: right;\">\n      <th></th>\n      <th>Unnamed: 0</th>\n      <th>Unnamed: 0.1</th>\n      <th>label</th>\n      <th>sentence</th>\n      <th>fixed</th>\n    </tr>\n  </thead>\n  <tbody>\n    <tr>\n      <th>0</th>\n      <td>0</td>\n      <td>0</td>\n      <td>0</td>\n      <td>창문 구조 자체가 방음이 잘 되지 않고 찬바람이 들어오는 것 같아요.</td>\n      <td>창문 구조 자체가 방음이 잘되지 않고 찬바람이 들어오는 것 같아요.</td>\n    </tr>\n    <tr>\n      <th>1</th>\n      <td>1</td>\n      <td>1</td>\n      <td>0</td>\n      <td>지금 새벽 네시가 다 되어 가는데 밖에 경찰차 소리가 엄청나게 크게 들리네요?.</td>\n      <td>지금 새벽 네시가 다 되어 가는데 밖에 경찰차 소리가 엄청나게 크게 들리네요?.</td>\n    </tr>\n    <tr>\n      <th>2</th>\n      <td>2</td>\n      <td>2</td>\n      <td>0</td>\n      <td>난방도 기능은 존재하는데 되는지를 모르겠네요.</td>\n      <td>난방도 기능은 존재하는데 되는지를 모르겠네요.</td>\n    </tr>\n    <tr>\n      <th>3</th>\n      <td>3</td>\n      <td>3</td>\n      <td>0</td>\n      <td>별로 춥지 않아서 컴플레인은 걸지 않았지만 겨울철 되면 문제가 커질 것 같고요.</td>\n      <td>별로 춥지 않아서 컴플레인은 걸지 않았지만 겨울철 되면 문제가 커질 것 같고요.</td>\n    </tr>\n    <tr>\n      <th>4</th>\n      <td>4</td>\n      <td>4</td>\n      <td>0</td>\n      <td>그리고 화장실 문이 심하게 덜 렁거리고 콘센트가 거의 없어서 매우 불편했습니다.</td>\n      <td>그리고 화장실 문이 심하게 덜 렁 꺼리고 콘센트가 거의 없어서 매우 불편했습니다.</td>\n    </tr>\n    <tr>\n      <th>...</th>\n      <td>...</td>\n      <td>...</td>\n      <td>...</td>\n      <td>...</td>\n      <td>...</td>\n    </tr>\n    <tr>\n      <th>41350</th>\n      <td>41350</td>\n      <td>41350</td>\n      <td>1</td>\n      <td>ㅤㅈㅓㅎ았습니다</td>\n      <td>젛았습니다습니다</td>\n    </tr>\n    <tr>\n      <th>41351</th>\n      <td>41351</td>\n      <td>41351</td>\n      <td>1</td>\n      <td>ㅤㅈㅠㅎ앗씁니다!</td>\n      <td>즇앗씁니다!니다!</td>\n    </tr>\n    <tr>\n      <th>41352</th>\n      <td>41352</td>\n      <td>41352</td>\n      <td>1</td>\n      <td>ㅤㅉㅗㅎ 앗습니다</td>\n      <td>좋ㅉㅗㅎ 앗습니다</td>\n    </tr>\n    <tr>\n      <th>41353</th>\n      <td>41353</td>\n      <td>41353</td>\n      <td>1</td>\n      <td>ㅤㅍㅕㄶ습니다</td>\n      <td>펺습니다습니다</td>\n    </tr>\n    <tr>\n      <th>41354</th>\n      <td>41354</td>\n      <td>41354</td>\n      <td>1</td>\n      <td>ㅤㅎㅔㅎ.보일러도 틀었더니 더울 정도로 따뜻.영등포에 또 오게 되면 당연 여기로 묵...</td>\n      <td>헿.보일러도일러도 틀었더니 더울 정따뜻. 영등포에등포에 또 오게 되면 당연 여기로 ...</td>\n    </tr>\n  </tbody>\n</table>\n<p>41355 rows × 5 columns</p>\n</div>"
     },
     "metadata": {},
     "execution_count": 27
    }
   ],
   "source": [
    "data"
   ]
  },
  {
   "cell_type": "code",
   "execution_count": 28,
   "metadata": {},
   "outputs": [],
   "source": [
    "data.to_csv('D:/LikeLion/Code/Project2/Data/spell_check2.csv',encoding='utf-8-sig')"
   ]
  }
 ],
 "metadata": {
  "kernelspec": {
   "name": "python373jvsc74a57bd0e48d23369a553edc96f1373b6255b5687d82d68cd08867622b2500e338930542",
   "display_name": "Python 3.7.3 64-bit (conda)"
  },
  "language_info": {
   "codemirror_mode": {
    "name": "ipython",
    "version": 3
   },
   "file_extension": ".py",
   "mimetype": "text/x-python",
   "name": "python",
   "nbconvert_exporter": "python",
   "pygments_lexer": "ipython3",
   "version": "3.7.3"
  }
 },
 "nbformat": 4,
 "nbformat_minor": 4
}