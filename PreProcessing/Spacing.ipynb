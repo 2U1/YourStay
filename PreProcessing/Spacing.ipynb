{
 "cells": [
  {
   "cell_type": "code",
   "execution_count": 1,
   "metadata": {},
   "outputs": [],
   "source": [
    "import requests\n",
    "import pandas as pd\n",
    "import json\n",
    "import re"
   ]
  },
  {
   "cell_type": "code",
   "execution_count": 2,
   "metadata": {},
   "outputs": [],
   "source": [
    "# data = pd.read_csv('D:/LikeLion/Code/Project2/Data/normalized_label.csv',encoding='utf-8')\n",
    "data = pd.read_csv('D:/LikeLion/Code/Project2/Data/new_split_unlabeld_spaced.csv',encoding='utf-8')"
   ]
  },
  {
   "cell_type": "code",
   "execution_count": 3,
   "metadata": {},
   "outputs": [],
   "source": [
    "base_url = 'https://m.search.naver.com/p/csearch/ocontent/util/SpellerProxy'\n",
    "\n",
    "header = {'user-agent': 'Mozilla/5.0 (Windows NT 10.0; Win64; x64) AppleWebKit/537.36 (KHTML, like Gecko) Chrome/90.0.4430.93 Safari/537.36'}\n",
    "\n",
    "parameter = {\n",
    "    '_callback':'jQuery1124013465754649774486_1620612671605',\n",
    "    'where':'nexearch',\n",
    "    'q':'즇앗씁니다!',\n",
    "    'color_blindness':'0',\n",
    "    # '_':'1620612671606'\n",
    "}"
   ]
  },
  {
   "cell_type": "code",
   "execution_count": 4,
   "metadata": {},
   "outputs": [],
   "source": [
    "req = requests.get(base_url, params=parameter, headers=header)"
   ]
  },
  {
   "cell_type": "code",
   "execution_count": 5,
   "metadata": {},
   "outputs": [],
   "source": [
    "items = re.findall('\\(([^)]+)', req.text)[0]"
   ]
  },
  {
   "cell_type": "code",
   "execution_count": 6,
   "metadata": {},
   "outputs": [],
   "source": [
    "ex = json.loads(items)['message']['result']['html']"
   ]
  },
  {
   "cell_type": "code",
   "execution_count": 7,
   "metadata": {},
   "outputs": [],
   "source": [
    "def remove_tag(content):\n",
    "   cleanr =re.compile('<.*?>')\n",
    "   cleantext = re.sub(cleanr, '', content)\n",
    "   return cleantext"
   ]
  },
  {
   "cell_type": "code",
   "execution_count": 8,
   "metadata": {},
   "outputs": [
    {
     "output_type": "stream",
     "name": "stdout",
     "text": [
      "즇앗씁니다!\n"
     ]
    }
   ],
   "source": [
    "sample = remove_tag(ex)\n",
    "print(sample)"
   ]
  },
  {
   "cell_type": "code",
   "execution_count": 9,
   "metadata": {},
   "outputs": [],
   "source": [
    "def spell_check(x):\n",
    "    base_url = 'https://m.search.naver.com/p/csearch/ocontent/util/SpellerProxy'\n",
    "\n",
    "    header = {'user-agent': 'Mozilla/5.0 (Windows NT 10.0; Win64; x64) AppleWebKit/537.36 (KHTML, like Gecko) Chrome/90.0.4430.93 Safari/537.36'}\n",
    "\n",
    "    parameter = {\n",
    "        '_callback':'jQuery1124013465754649774486_1620612671605',\n",
    "        'where':'nexearch',\n",
    "        'q':str(x),\n",
    "        'color_blindness':'0',\n",
    "        # '_':'1620612671606'\n",
    "    }\n",
    "\n",
    "    req = requests.get(base_url, params=parameter, headers=header)\n",
    "\n",
    "    try:\n",
    "        items = re.findall('\\(([^)]+)', req.text)[0]\n",
    "\n",
    "        checked = json.loads(items)['message']['result']['html']\n",
    "\n",
    "        tag_removed = remove_tag(checked)\n",
    "\n",
    "        return tag_removed\n",
    "\n",
    "    except:\n",
    "        return x"
   ]
  },
  {
   "cell_type": "code",
   "execution_count": 10,
   "metadata": {},
   "outputs": [],
   "source": [
    "data['fixed'] = data['sentence'].apply(lambda x: spell_check(x))"
   ]
  },
  {
   "cell_type": "code",
   "execution_count": 11,
   "metadata": {},
   "outputs": [
    {
     "output_type": "execute_result",
     "data": {
      "text/plain": [
       "        Unnamed: 0  Unnamed: 0.1    reviewID  cleanliness  convenience  \\\n",
       "0                0          3139  10737608.0          1.0          1.0   \n",
       "1                1          3139  10737608.0          1.0          1.0   \n",
       "2                2          3139  10737608.0          1.0          1.0   \n",
       "3                3          3140  10736181.0          5.0          5.0   \n",
       "4                4          3140  10736181.0          5.0          5.0   \n",
       "...            ...           ...         ...          ...          ...   \n",
       "113551      113551         98902   2893006.0          5.0          5.0   \n",
       "113552      113552         98903   2846155.0          4.0          4.0   \n",
       "113553      113553         98904   2845540.0          4.0          3.0   \n",
       "113554      113554         98905   2840630.0          3.0          3.0   \n",
       "113555      113555         98906   2835989.0          5.0          5.0   \n",
       "\n",
       "        kindness  position  totalScore  \\\n",
       "0            1.0       1.0         1.0   \n",
       "1            1.0       1.0         1.0   \n",
       "2            1.0       1.0         1.0   \n",
       "3            5.0       5.0         5.0   \n",
       "4            5.0       5.0         5.0   \n",
       "...          ...       ...         ...   \n",
       "113551       5.0       5.0         5.0   \n",
       "113552       4.0       4.0         4.0   \n",
       "113553       4.0       3.0         5.0   \n",
       "113554       3.0       3.0         4.0   \n",
       "113555       4.0       4.0         4.0   \n",
       "\n",
       "                                                  content        date  \\\n",
       "0       전철 다니는 소리때문에 잠을 못자겠습니다. 전철이 밤 늦게까지 새벽 일찍부터 다녀서...  2020-11-07   \n",
       "1       전철 다니는 소리때문에 잠을 못자겠습니다. 전철이 밤 늦게까지 새벽 일찍부터 다녀서...  2020-11-07   \n",
       "2       전철 다니는 소리때문에 잠을 못자겠습니다. 전철이 밤 늦게까지 새벽 일찍부터 다녀서...  2020-11-07   \n",
       "3       침대가 넓어서 너무 좋았어요! 접근성도 좋아서 추천합니다! 다만 화장실이 특이하게 ...  2020-11-07   \n",
       "4       침대가 넓어서 너무 좋았어요! 접근성도 좋아서 추천합니다! 다만 화장실이 특이하게 ...  2020-11-07   \n",
       "...                                                   ...         ...   \n",
       "113551                                         깨끗하고 좋았어요   2018-08-12   \n",
       "113552                                              만족합니다  2018-08-08   \n",
       "113553                                              좋았습니다  2018-08-08   \n",
       "113554                                      일방통행이라 주차하기별로  2018-08-07   \n",
       "113555                                              네 좋아요  2018-08-07   \n",
       "\n",
       "                              hotelAddr hotelGrade         hotelLoc  \\\n",
       "0               서울특별시 영등포구 영등포동1가 143-3        4성급  영등포역 5번출구 도보 3분   \n",
       "1               서울특별시 영등포구 영등포동1가 143-3        4성급  영등포역 5번출구 도보 3분   \n",
       "2               서울특별시 영등포구 영등포동1가 143-3        4성급  영등포역 5번출구 도보 3분   \n",
       "3               서울특별시 영등포구 영등포동1가 143-3        4성급  영등포역 5번출구 도보 3분   \n",
       "4               서울특별시 영등포구 영등포동1가 143-3        4성급  영등포역 5번출구 도보 3분   \n",
       "...                                 ...        ...              ...   \n",
       "113551  서울특별시 서초구 서초동 1337-3 강남역 푸르지오시티       레지던스    강남역 5번출구 도보5분   \n",
       "113552  서울특별시 서초구 서초동 1337-3 강남역 푸르지오시티       레지던스    강남역 5번출구 도보5분   \n",
       "113553  서울특별시 서초구 서초동 1337-3 강남역 푸르지오시티       레지던스    강남역 5번출구 도보5분   \n",
       "113554  서울특별시 서초구 서초동 1337-3 강남역 푸르지오시티       레지던스    강남역 5번출구 도보5분   \n",
       "113555  서울특별시 서초구 서초동 1337-3 강남역 푸르지오시티       레지던스    강남역 5번출구 도보5분   \n",
       "\n",
       "              hotelName  label                           sentence  \\\n",
       "0       페어필드 바이 메리어트 서울    NaN            전철 다니는 소리때문에 잠을 못자겠습니다.   \n",
       "1       페어필드 바이 메리어트 서울    NaN  전철이 밤 늦게까지 새벽 일찍부터 다녀서 몇시간 못잤습니다.   \n",
       "2       페어필드 바이 메리어트 서울    NaN                     그리고 어매니티가 핵구림.   \n",
       "3       페어필드 바이 메리어트 서울    NaN                   침대가 넓어서 너무 좋았어요!   \n",
       "4       페어필드 바이 메리어트 서울    NaN                    접근성도 좋아서 추천합니다!   \n",
       "...                 ...    ...                                ...   \n",
       "113551        어반플레이스 강남    NaN                          깨끗하고 좋았어요   \n",
       "113552        어반플레이스 강남    NaN                              만족합니다   \n",
       "113553        어반플레이스 강남    NaN                              좋았습니다   \n",
       "113554        어반플레이스 강남    NaN                      일방통행이라 주차하기별로   \n",
       "113555        어반플레이스 강남    NaN                              네 좋아요   \n",
       "\n",
       "                                     fixed  \n",
       "0                전철 다니는 소리 때문에 잠을 못 자겠습니다.  \n",
       "1       전철이 밤늦게까지 새벽 일찍부터 다녀서 몇 시간 못 잤습니다.  \n",
       "2                           그리고 어메니티가 핵구림.  \n",
       "3                         침대가 넓어서 너무 좋았어요!  \n",
       "4                          접근성도 좋아서 추천합니다!  \n",
       "...                                    ...  \n",
       "113551                           깨끗하고 좋았어요  \n",
       "113552                               만족합니다  \n",
       "113553                               좋았습니다  \n",
       "113554                       일방통행이라 주차하기별로  \n",
       "113555                               네 좋아요  \n",
       "\n",
       "[113556 rows x 17 columns]"
      ],
      "text/html": "<div>\n<style scoped>\n    .dataframe tbody tr th:only-of-type {\n        vertical-align: middle;\n    }\n\n    .dataframe tbody tr th {\n        vertical-align: top;\n    }\n\n    .dataframe thead th {\n        text-align: right;\n    }\n</style>\n<table border=\"1\" class=\"dataframe\">\n  <thead>\n    <tr style=\"text-align: right;\">\n      <th></th>\n      <th>Unnamed: 0</th>\n      <th>Unnamed: 0.1</th>\n      <th>reviewID</th>\n      <th>cleanliness</th>\n      <th>convenience</th>\n      <th>kindness</th>\n      <th>position</th>\n      <th>totalScore</th>\n      <th>content</th>\n      <th>date</th>\n      <th>hotelAddr</th>\n      <th>hotelGrade</th>\n      <th>hotelLoc</th>\n      <th>hotelName</th>\n      <th>label</th>\n      <th>sentence</th>\n      <th>fixed</th>\n    </tr>\n  </thead>\n  <tbody>\n    <tr>\n      <th>0</th>\n      <td>0</td>\n      <td>3139</td>\n      <td>10737608.0</td>\n      <td>1.0</td>\n      <td>1.0</td>\n      <td>1.0</td>\n      <td>1.0</td>\n      <td>1.0</td>\n      <td>전철 다니는 소리때문에 잠을 못자겠습니다. 전철이 밤 늦게까지 새벽 일찍부터 다녀서...</td>\n      <td>2020-11-07</td>\n      <td>서울특별시 영등포구 영등포동1가 143-3</td>\n      <td>4성급</td>\n      <td>영등포역 5번출구 도보 3분</td>\n      <td>페어필드 바이 메리어트 서울</td>\n      <td>NaN</td>\n      <td>전철 다니는 소리때문에 잠을 못자겠습니다.</td>\n      <td>전철 다니는 소리 때문에 잠을 못 자겠습니다.</td>\n    </tr>\n    <tr>\n      <th>1</th>\n      <td>1</td>\n      <td>3139</td>\n      <td>10737608.0</td>\n      <td>1.0</td>\n      <td>1.0</td>\n      <td>1.0</td>\n      <td>1.0</td>\n      <td>1.0</td>\n      <td>전철 다니는 소리때문에 잠을 못자겠습니다. 전철이 밤 늦게까지 새벽 일찍부터 다녀서...</td>\n      <td>2020-11-07</td>\n      <td>서울특별시 영등포구 영등포동1가 143-3</td>\n      <td>4성급</td>\n      <td>영등포역 5번출구 도보 3분</td>\n      <td>페어필드 바이 메리어트 서울</td>\n      <td>NaN</td>\n      <td>전철이 밤 늦게까지 새벽 일찍부터 다녀서 몇시간 못잤습니다.</td>\n      <td>전철이 밤늦게까지 새벽 일찍부터 다녀서 몇 시간 못 잤습니다.</td>\n    </tr>\n    <tr>\n      <th>2</th>\n      <td>2</td>\n      <td>3139</td>\n      <td>10737608.0</td>\n      <td>1.0</td>\n      <td>1.0</td>\n      <td>1.0</td>\n      <td>1.0</td>\n      <td>1.0</td>\n      <td>전철 다니는 소리때문에 잠을 못자겠습니다. 전철이 밤 늦게까지 새벽 일찍부터 다녀서...</td>\n      <td>2020-11-07</td>\n      <td>서울특별시 영등포구 영등포동1가 143-3</td>\n      <td>4성급</td>\n      <td>영등포역 5번출구 도보 3분</td>\n      <td>페어필드 바이 메리어트 서울</td>\n      <td>NaN</td>\n      <td>그리고 어매니티가 핵구림.</td>\n      <td>그리고 어메니티가 핵구림.</td>\n    </tr>\n    <tr>\n      <th>3</th>\n      <td>3</td>\n      <td>3140</td>\n      <td>10736181.0</td>\n      <td>5.0</td>\n      <td>5.0</td>\n      <td>5.0</td>\n      <td>5.0</td>\n      <td>5.0</td>\n      <td>침대가 넓어서 너무 좋았어요! 접근성도 좋아서 추천합니다! 다만 화장실이 특이하게 ...</td>\n      <td>2020-11-07</td>\n      <td>서울특별시 영등포구 영등포동1가 143-3</td>\n      <td>4성급</td>\n      <td>영등포역 5번출구 도보 3분</td>\n      <td>페어필드 바이 메리어트 서울</td>\n      <td>NaN</td>\n      <td>침대가 넓어서 너무 좋았어요!</td>\n      <td>침대가 넓어서 너무 좋았어요!</td>\n    </tr>\n    <tr>\n      <th>4</th>\n      <td>4</td>\n      <td>3140</td>\n      <td>10736181.0</td>\n      <td>5.0</td>\n      <td>5.0</td>\n      <td>5.0</td>\n      <td>5.0</td>\n      <td>5.0</td>\n      <td>침대가 넓어서 너무 좋았어요! 접근성도 좋아서 추천합니다! 다만 화장실이 특이하게 ...</td>\n      <td>2020-11-07</td>\n      <td>서울특별시 영등포구 영등포동1가 143-3</td>\n      <td>4성급</td>\n      <td>영등포역 5번출구 도보 3분</td>\n      <td>페어필드 바이 메리어트 서울</td>\n      <td>NaN</td>\n      <td>접근성도 좋아서 추천합니다!</td>\n      <td>접근성도 좋아서 추천합니다!</td>\n    </tr>\n    <tr>\n      <th>...</th>\n      <td>...</td>\n      <td>...</td>\n      <td>...</td>\n      <td>...</td>\n      <td>...</td>\n      <td>...</td>\n      <td>...</td>\n      <td>...</td>\n      <td>...</td>\n      <td>...</td>\n      <td>...</td>\n      <td>...</td>\n      <td>...</td>\n      <td>...</td>\n      <td>...</td>\n      <td>...</td>\n      <td>...</td>\n    </tr>\n    <tr>\n      <th>113551</th>\n      <td>113551</td>\n      <td>98902</td>\n      <td>2893006.0</td>\n      <td>5.0</td>\n      <td>5.0</td>\n      <td>5.0</td>\n      <td>5.0</td>\n      <td>5.0</td>\n      <td>깨끗하고 좋았어요</td>\n      <td>2018-08-12</td>\n      <td>서울특별시 서초구 서초동 1337-3 강남역 푸르지오시티</td>\n      <td>레지던스</td>\n      <td>강남역 5번출구 도보5분</td>\n      <td>어반플레이스 강남</td>\n      <td>NaN</td>\n      <td>깨끗하고 좋았어요</td>\n      <td>깨끗하고 좋았어요</td>\n    </tr>\n    <tr>\n      <th>113552</th>\n      <td>113552</td>\n      <td>98903</td>\n      <td>2846155.0</td>\n      <td>4.0</td>\n      <td>4.0</td>\n      <td>4.0</td>\n      <td>4.0</td>\n      <td>4.0</td>\n      <td>만족합니다</td>\n      <td>2018-08-08</td>\n      <td>서울특별시 서초구 서초동 1337-3 강남역 푸르지오시티</td>\n      <td>레지던스</td>\n      <td>강남역 5번출구 도보5분</td>\n      <td>어반플레이스 강남</td>\n      <td>NaN</td>\n      <td>만족합니다</td>\n      <td>만족합니다</td>\n    </tr>\n    <tr>\n      <th>113553</th>\n      <td>113553</td>\n      <td>98904</td>\n      <td>2845540.0</td>\n      <td>4.0</td>\n      <td>3.0</td>\n      <td>4.0</td>\n      <td>3.0</td>\n      <td>5.0</td>\n      <td>좋았습니다</td>\n      <td>2018-08-08</td>\n      <td>서울특별시 서초구 서초동 1337-3 강남역 푸르지오시티</td>\n      <td>레지던스</td>\n      <td>강남역 5번출구 도보5분</td>\n      <td>어반플레이스 강남</td>\n      <td>NaN</td>\n      <td>좋았습니다</td>\n      <td>좋았습니다</td>\n    </tr>\n    <tr>\n      <th>113554</th>\n      <td>113554</td>\n      <td>98905</td>\n      <td>2840630.0</td>\n      <td>3.0</td>\n      <td>3.0</td>\n      <td>3.0</td>\n      <td>3.0</td>\n      <td>4.0</td>\n      <td>일방통행이라 주차하기별로</td>\n      <td>2018-08-07</td>\n      <td>서울특별시 서초구 서초동 1337-3 강남역 푸르지오시티</td>\n      <td>레지던스</td>\n      <td>강남역 5번출구 도보5분</td>\n      <td>어반플레이스 강남</td>\n      <td>NaN</td>\n      <td>일방통행이라 주차하기별로</td>\n      <td>일방통행이라 주차하기별로</td>\n    </tr>\n    <tr>\n      <th>113555</th>\n      <td>113555</td>\n      <td>98906</td>\n      <td>2835989.0</td>\n      <td>5.0</td>\n      <td>5.0</td>\n      <td>4.0</td>\n      <td>4.0</td>\n      <td>4.0</td>\n      <td>네 좋아요</td>\n      <td>2018-08-07</td>\n      <td>서울특별시 서초구 서초동 1337-3 강남역 푸르지오시티</td>\n      <td>레지던스</td>\n      <td>강남역 5번출구 도보5분</td>\n      <td>어반플레이스 강남</td>\n      <td>NaN</td>\n      <td>네 좋아요</td>\n      <td>네 좋아요</td>\n    </tr>\n  </tbody>\n</table>\n<p>113556 rows × 17 columns</p>\n</div>"
     },
     "metadata": {},
     "execution_count": 11
    }
   ],
   "source": [
    "data"
   ]
  },
  {
   "cell_type": "code",
   "execution_count": 12,
   "metadata": {},
   "outputs": [],
   "source": [
    "data.to_csv('D:/LikeLion/Code/Project2/Data/spell_check_unlabel.csv',encoding='utf-8-sig')"
   ]
  }
 ],
 "metadata": {
  "kernelspec": {
   "name": "python373jvsc74a57bd0e48d23369a553edc96f1373b6255b5687d82d68cd08867622b2500e338930542",
   "display_name": "Python 3.7.3 64-bit ('base': conda)"
  },
  "language_info": {
   "codemirror_mode": {
    "name": "ipython",
    "version": 3
   },
   "file_extension": ".py",
   "mimetype": "text/x-python",
   "name": "python",
   "nbconvert_exporter": "python",
   "pygments_lexer": "ipython3",
   "version": "3.7.3"
  }
 },
 "nbformat": 4,
 "nbformat_minor": 4
}